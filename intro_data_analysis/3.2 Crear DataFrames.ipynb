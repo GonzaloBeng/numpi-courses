{
 "cells": [
  {
   "cell_type": "markdown",
   "id": "2c1e059d",
   "metadata": {},
   "source": [
    "# <font color='green'>3.2 Crear DataFrames</font>\n",
    "\n",
    "### Un `DataFrame` es una estructura de datos que almacena datos de forma tabular, es decir, ordenada en filas y columnas etiquetadas. Cada fila (*row*) contiene un observacion y cada columna (*column*) una variable.\n",
    "\n",
    "### Un `DataFrame` acepta datos heterogeneos, o sea, las variables pueden ser de distintos tipos (numerico. string, boolean, etc.)\n",
    "\n",
    "### Ademas de contener datos, un `DataFrame` contiene el nombre de las variables y sus tipos, y metodos que permiten acceder y modificar datos.\n",
    "\n",
    "> s = pd.DataFrame(data, ...)"
   ]
  },
  {
   "cell_type": "code",
   "execution_count": null,
   "id": "f1d3e3ef",
   "metadata": {},
   "outputs": [],
   "source": [
    "import numpy as np\n",
    "import pandas as pd"
   ]
  }
 ],
 "metadata": {
  "kernelspec": {
   "display_name": "Python 3",
   "language": "python",
   "name": "python3"
  },
  "language_info": {
   "codemirror_mode": {
    "name": "ipython",
    "version": 3
   },
   "file_extension": ".py",
   "mimetype": "text/x-python",
   "name": "python",
   "nbconvert_exporter": "python",
   "pygments_lexer": "ipython3",
   "version": "3.8.8"
  }
 },
 "nbformat": 4,
 "nbformat_minor": 5
}
