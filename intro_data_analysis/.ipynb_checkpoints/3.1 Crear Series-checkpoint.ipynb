{
 "cells": [
  {
   "cell_type": "markdown",
   "id": "406993ff",
   "metadata": {},
   "source": [
    "# <font color='green'>3.1 Crear Series </font>\n",
    "\n",
    "## <font color='Blue'> _Pandas_</font>\n",
    "\n",
    "### `Pandas` es una libreria que proporciona herramientas analiticas y estructuras de datos con alto rendimiento y facilidad de uso.\n",
    "\n",
    "### En particular, la clase `DataFrame` es util para representacion y manipulacion de datos heterogeneos tabulados (hojas de calculo, tabla SQL, etc.)\n",
    "\n",
    "### Caracteristicas:\n",
    "\n",
    "* Ofrece estrructuras de datos flexibles y expresivas diseñadas para trabajar con datos tabulados y etiquetados, estas son: `Series` y `DataFrame`.\n",
    "* Posee herramientas robustas de lectura/escritura de datos desde ficheros con formatos conocidos como: CSV, XLS,SQL, HDF5, entre otros.\n",
    "* Permite filtrar, agregar o eliminar datos.\n",
    "* Combina las caracteristicas de las matrices de alto rendimiento de `numpy` con capacidades de manipulacion de datos tabulados.\n",
    "\n",
    "### Para importar los modulos de la libreria `pandas`, por convencion se utiliza:"
   ]
  },
  {
   "cell_type": "code",
   "execution_count": 1,
   "id": "86a25439",
   "metadata": {},
   "outputs": [],
   "source": [
    "import numpy as np\n",
    "import pandas as pd"
   ]
  },
  {
   "cell_type": "markdown",
   "id": "5e8d2ed2",
   "metadata": {},
   "source": [
    "### <font color='blue'>_Series_</font>\n",
    "\n",
    "#### Las funcionalidades de `pandas` se basan en dos estructuras de datos fundamentales: Series y DataFrames.\n",
    "\n",
    "#### Una `Series` es un objeto que contiene un `array` unidimensional de datos y un `array` de etiquetas, conocido como indice. Si no se especifica un indice o etiqueta, este se genera internamente como una secuencia irdenada de numeros enteros.\n",
    "\n",
    "> s = pd.Series(data, index=index)"
   ]
  },
  {
   "cell_type": "code",
   "execution_count": 2,
   "id": "72c42db8",
   "metadata": {},
   "outputs": [
    {
     "data": {
      "text/plain": [
       "0    1979\n",
       "1    1980\n",
       "2    1981\n",
       "3    1982\n",
       "dtype: int64"
      ]
     },
     "execution_count": 2,
     "metadata": {},
     "output_type": "execute_result"
    }
   ],
   "source": [
    "#Crear una Series con indices automaticos\n",
    "serie = pd.Series([1979, 1980, 1981, 1982])\n",
    "serie"
   ]
  },
  {
   "cell_type": "code",
   "execution_count": 3,
   "id": "bf34f442",
   "metadata": {},
   "outputs": [
    {
     "data": {
      "text/plain": [
       "array([1979, 1980, 1981, 1982], dtype=int64)"
      ]
     },
     "execution_count": 3,
     "metadata": {},
     "output_type": "execute_result"
    }
   ],
   "source": [
    "serie.values"
   ]
  },
  {
   "cell_type": "code",
   "execution_count": 4,
   "id": "773bdcbe",
   "metadata": {},
   "outputs": [
    {
     "data": {
      "text/plain": [
       "RangeIndex(start=0, stop=4, step=1)"
      ]
     },
     "execution_count": 4,
     "metadata": {},
     "output_type": "execute_result"
    }
   ],
   "source": [
    "serie.index"
   ]
  },
  {
   "cell_type": "markdown",
   "id": "6b694891",
   "metadata": {},
   "source": [
    "### Podemos definir explicitamente un `array` indice y pasarlo como argumento."
   ]
  },
  {
   "cell_type": "code",
   "execution_count": 5,
   "id": "e8a809c2",
   "metadata": {},
   "outputs": [
    {
     "data": {
      "text/plain": [
       "daniela      1989\n",
       "valentina    1990\n",
       "andrea       1991\n",
       "paula        1992\n",
       "dtype: int64"
      ]
     },
     "execution_count": 5,
     "metadata": {},
     "output_type": "execute_result"
    }
   ],
   "source": [
    "serie = pd.Series([1989, 1990, 1991, 1992], index=['daniela', 'valentina', 'andrea', 'paula'])\n",
    "serie"
   ]
  },
  {
   "cell_type": "code",
   "execution_count": 6,
   "id": "abbf3b98",
   "metadata": {},
   "outputs": [
    {
     "data": {
      "text/plain": [
       "Index(['daniela', 'valentina', 'andrea', 'paula'], dtype='object')"
      ]
     },
     "execution_count": 6,
     "metadata": {},
     "output_type": "execute_result"
    }
   ],
   "source": [
    "serie.index"
   ]
  },
  {
   "cell_type": "markdown",
   "id": "63e7e043",
   "metadata": {},
   "source": [
    "### Tambien se pueden crear `Series` a partir de diccionarios, `arrays`, etc."
   ]
  },
  {
   "cell_type": "code",
   "execution_count": 8,
   "id": "63ca6fc7",
   "metadata": {},
   "outputs": [
    {
     "data": {
      "text/plain": [
       "0    0.039170\n",
       "1    0.545836\n",
       "2    0.661702\n",
       "3    0.984183\n",
       "4    0.847961\n",
       "5    0.113967\n",
       "6    0.651914\n",
       "7    0.545446\n",
       "8    0.298605\n",
       "9    0.232182\n",
       "dtype: float64"
      ]
     },
     "execution_count": 8,
     "metadata": {},
     "output_type": "execute_result"
    }
   ],
   "source": [
    "serie = pd.Series(np.random.rand(10))\n",
    "serie"
   ]
  },
  {
   "cell_type": "code",
   "execution_count": 9,
   "id": "9f805f8c",
   "metadata": {},
   "outputs": [
    {
     "data": {
      "text/plain": [
       "{'cuadrado de 0': 0,\n",
       " 'cuadrado de 1': 1,\n",
       " 'cuadrado de 2': 4,\n",
       " 'cuadrado de 3': 9,\n",
       " 'cuadrado de 4': 16,\n",
       " 'cuadrado de 5': 25,\n",
       " 'cuadrado de 6': 36,\n",
       " 'cuadrado de 7': 49,\n",
       " 'cuadrado de 8': 64,\n",
       " 'cuadrado de 9': 81,\n",
       " 'cuadrado de 10': 100}"
      ]
     },
     "execution_count": 9,
     "metadata": {},
     "output_type": "execute_result"
    }
   ],
   "source": [
    "dicci = {'cuadrado de {}'.format(i) : i*i for i in range(11)}\n",
    "dicci"
   ]
  },
  {
   "cell_type": "code",
   "execution_count": 10,
   "id": "dceb56ba",
   "metadata": {},
   "outputs": [
    {
     "data": {
      "text/plain": [
       "cuadrado de 0       0\n",
       "cuadrado de 1       1\n",
       "cuadrado de 2       4\n",
       "cuadrado de 3       9\n",
       "cuadrado de 4      16\n",
       "cuadrado de 5      25\n",
       "cuadrado de 6      36\n",
       "cuadrado de 7      49\n",
       "cuadrado de 8      64\n",
       "cuadrado de 9      81\n",
       "cuadrado de 10    100\n",
       "dtype: int64"
      ]
     },
     "execution_count": 10,
     "metadata": {},
     "output_type": "execute_result"
    }
   ],
   "source": [
    "serie_dic = pd.Series(dicci)\n",
    "serie_dic"
   ]
  },
  {
   "cell_type": "code",
   "execution_count": null,
   "id": "76362e31",
   "metadata": {},
   "outputs": [],
   "source": []
  }
 ],
 "metadata": {
  "kernelspec": {
   "display_name": "Python 3",
   "language": "python",
   "name": "python3"
  },
  "language_info": {
   "codemirror_mode": {
    "name": "ipython",
    "version": 3
   },
   "file_extension": ".py",
   "mimetype": "text/x-python",
   "name": "python",
   "nbconvert_exporter": "python",
   "pygments_lexer": "ipython3",
   "version": "3.8.8"
  }
 },
 "nbformat": 4,
 "nbformat_minor": 5
}
