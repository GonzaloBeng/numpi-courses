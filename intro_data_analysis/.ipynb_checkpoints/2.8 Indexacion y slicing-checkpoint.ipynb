{
 "cells": [
  {
   "cell_type": "markdown",
   "id": "5fa8c4af",
   "metadata": {},
   "source": [
    "# <font color='green'>2.8 Indexacion y slicing</font>\n",
    "\n",
    "### El slicing (filtrado) sigue la forma `[i:j:k]`\n",
    "\n",
    "### Donde *i* es el indice inicial, *j* es el indice final: y *k* es el incremento (step) no nulo."
   ]
  },
  {
   "cell_type": "code",
   "execution_count": 1,
   "id": "bedf7e3e",
   "metadata": {},
   "outputs": [
    {
     "data": {
      "text/plain": [
       "array([[ 0,  1,  2,  3,  4,  5,  6,  7],\n",
       "       [ 8,  9, 10, 11, 12, 13, 14, 15],\n",
       "       [16, 17, 18, 19, 20, 21, 22, 23],\n",
       "       [24, 25, 26, 27, 28, 29, 30, 31],\n",
       "       [32, 33, 34, 35, 36, 37, 38, 39],\n",
       "       [40, 41, 42, 43, 44, 45, 46, 47],\n",
       "       [48, 49, 50, 51, 52, 53, 54, 55],\n",
       "       [56, 57, 58, 59, 60, 61, 62, 63]])"
      ]
     },
     "execution_count": 1,
     "metadata": {},
     "output_type": "execute_result"
    }
   ],
   "source": [
    "import numpy as np\n",
    "\n",
    "a = np.array(range(64)).reshape(8,8)\n",
    "a"
   ]
  },
  {
   "cell_type": "code",
   "execution_count": 2,
   "id": "b796481f",
   "metadata": {},
   "outputs": [
    {
     "data": {
      "text/plain": [
       "9"
      ]
     },
     "execution_count": 2,
     "metadata": {},
     "output_type": "execute_result"
    }
   ],
   "source": [
    "a[1,1]"
   ]
  },
  {
   "cell_type": "code",
   "execution_count": 3,
   "id": "315f4fa4",
   "metadata": {},
   "outputs": [
    {
     "data": {
      "text/plain": [
       "array([[ 0,  1,  2,  3,  4,  5,  6,  7],\n",
       "       [16, 17, 18, 19, 20, 21, 22, 23],\n",
       "       [32, 33, 34, 35, 36, 37, 38, 39],\n",
       "       [48, 49, 50, 51, 52, 53, 54, 55]])"
      ]
     },
     "execution_count": 3,
     "metadata": {},
     "output_type": "execute_result"
    }
   ],
   "source": [
    "a[0:7:2,]"
   ]
  },
  {
   "cell_type": "code",
   "execution_count": 4,
   "id": "4191a3f3",
   "metadata": {},
   "outputs": [
    {
     "data": {
      "text/plain": [
       "array([11, 12, 13, 14, 15])"
      ]
     },
     "execution_count": 4,
     "metadata": {},
     "output_type": "execute_result"
    }
   ],
   "source": [
    "a[1,3:]"
   ]
  },
  {
   "cell_type": "code",
   "execution_count": 5,
   "id": "1f8f92b2",
   "metadata": {},
   "outputs": [
    {
     "data": {
      "text/plain": [
       "array([11, 30, 47])"
      ]
     },
     "execution_count": 5,
     "metadata": {},
     "output_type": "execute_result"
    }
   ],
   "source": [
    "a[[1,3,5],[3,6,7]]"
   ]
  },
  {
   "cell_type": "code",
   "execution_count": 6,
   "id": "a0c53f62",
   "metadata": {},
   "outputs": [
    {
     "data": {
      "text/plain": [
       "array([[ 8, 11, 14],\n",
       "       [24, 27, 30],\n",
       "       [40, 43, 46]])"
      ]
     },
     "execution_count": 6,
     "metadata": {},
     "output_type": "execute_result"
    }
   ],
   "source": [
    "a[[1,3,5],::3]"
   ]
  },
  {
   "cell_type": "markdown",
   "id": "8ee65075",
   "metadata": {},
   "source": [
    "#### Indexacion Booleana"
   ]
  },
  {
   "cell_type": "code",
   "execution_count": 7,
   "id": "2bc85664",
   "metadata": {},
   "outputs": [
    {
     "data": {
      "text/plain": [
       "array([0, 1, 2, 3, 4, 5, 6, 7])"
      ]
     },
     "execution_count": 7,
     "metadata": {},
     "output_type": "execute_result"
    }
   ],
   "source": [
    "data = np.arange(8)\n",
    "data"
   ]
  },
  {
   "cell_type": "code",
   "execution_count": 8,
   "id": "dfaf0b10",
   "metadata": {},
   "outputs": [
    {
     "data": {
      "text/plain": [
       "array([ True,  True,  True,  True, False, False, False, False])"
      ]
     },
     "execution_count": 8,
     "metadata": {},
     "output_type": "execute_result"
    }
   ],
   "source": [
    "data < 4"
   ]
  },
  {
   "cell_type": "code",
   "execution_count": 9,
   "id": "d2deb12c",
   "metadata": {},
   "outputs": [
    {
     "data": {
      "text/plain": [
       "array([0, 1, 2, 3])"
      ]
     },
     "execution_count": 9,
     "metadata": {},
     "output_type": "execute_result"
    }
   ],
   "source": [
    "data[data<4]"
   ]
  },
  {
   "cell_type": "code",
   "execution_count": 10,
   "id": "628c75cd",
   "metadata": {},
   "outputs": [
    {
     "data": {
      "text/plain": [
       "array([0, 1, 2, 3])"
      ]
     },
     "execution_count": 10,
     "metadata": {},
     "output_type": "execute_result"
    }
   ],
   "source": [
    "data[np.array([True,  True,  True,  True, False, False, False, False])]"
   ]
  },
  {
   "cell_type": "code",
   "execution_count": 11,
   "id": "701cd91a",
   "metadata": {},
   "outputs": [],
   "source": [
    "amigos = np.array(['Santiago', 'Julian', 'Octavio'])"
   ]
  },
  {
   "cell_type": "code",
   "execution_count": 13,
   "id": "b087f81e",
   "metadata": {},
   "outputs": [
    {
     "data": {
      "text/plain": [
       "True"
      ]
     },
     "execution_count": 13,
     "metadata": {},
     "output_type": "execute_result"
    }
   ],
   "source": [
    "'Santiago' in amigos"
   ]
  },
  {
   "cell_type": "code",
   "execution_count": 15,
   "id": "2b838479",
   "metadata": {},
   "outputs": [
    {
     "data": {
      "text/plain": [
       "array(['Julian', 'Octavio'], dtype='<U8')"
      ]
     },
     "execution_count": 15,
     "metadata": {},
     "output_type": "execute_result"
    }
   ],
   "source": [
    "amigos[amigos!='Santiago']"
   ]
  },
  {
   "cell_type": "code",
   "execution_count": null,
   "id": "aea0f1f0",
   "metadata": {},
   "outputs": [],
   "source": []
  }
 ],
 "metadata": {
  "kernelspec": {
   "display_name": "Python 3",
   "language": "python",
   "name": "python3"
  },
  "language_info": {
   "codemirror_mode": {
    "name": "ipython",
    "version": 3
   },
   "file_extension": ".py",
   "mimetype": "text/x-python",
   "name": "python",
   "nbconvert_exporter": "python",
   "pygments_lexer": "ipython3",
   "version": "3.8.8"
  }
 },
 "nbformat": 4,
 "nbformat_minor": 5
}
