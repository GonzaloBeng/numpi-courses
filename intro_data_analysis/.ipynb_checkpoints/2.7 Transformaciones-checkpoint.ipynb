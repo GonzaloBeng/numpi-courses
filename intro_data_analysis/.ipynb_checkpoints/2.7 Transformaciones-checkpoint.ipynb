{
 "cells": [
  {
   "cell_type": "markdown",
   "id": "f59d766d",
   "metadata": {},
   "source": [
    "# <font color=\"green\"> 2.7 Transformaciones </font>\n",
    "\n",
    "## <font color='Blue'> _As Type_ </font>\n",
    "\n",
    "### Este metodo nos permite modificar el tipo de dato de los valores de un `array`"
   ]
  },
  {
   "cell_type": "code",
   "execution_count": 2,
   "id": "5e1cf034",
   "metadata": {},
   "outputs": [
    {
     "data": {
      "text/plain": [
       "array([[76, 22, 65, 12],\n",
       "       [82, 70, 16, 45],\n",
       "       [65, 81, 20, 62]])"
      ]
     },
     "execution_count": 2,
     "metadata": {},
     "output_type": "execute_result"
    }
   ],
   "source": [
    "import numpy as np\n",
    "\n",
    "arr_ent = np.random.randint(100, size=(3,4))\n",
    "arr_ent"
   ]
  },
  {
   "cell_type": "code",
   "execution_count": 6,
   "id": "50e22b41",
   "metadata": {},
   "outputs": [
    {
     "data": {
      "text/plain": [
       "array([[12., 22., 65., 76.],\n",
       "       [16., 45., 70., 82.],\n",
       "       [20., 62., 65., 81.]])"
      ]
     },
     "execution_count": 6,
     "metadata": {},
     "output_type": "execute_result"
    }
   ],
   "source": [
    "#Cambia el tipo de numero\n",
    "arr_ent.astype(float)"
   ]
  },
  {
   "cell_type": "markdown",
   "id": "7a8f7f8a",
   "metadata": {},
   "source": [
    "## <font color='blue'> _Sort_ </font>\n",
    "\n",
    "### Este metodo nos permite ordenar los valores de un `array`"
   ]
  },
  {
   "cell_type": "code",
   "execution_count": 7,
   "id": "e8b91372",
   "metadata": {},
   "outputs": [
    {
     "data": {
      "text/plain": [
       "array([[12, 22, 65, 76],\n",
       "       [16, 45, 70, 82],\n",
       "       [20, 62, 65, 81]])"
      ]
     },
     "execution_count": 7,
     "metadata": {},
     "output_type": "execute_result"
    }
   ],
   "source": [
    "arr_ent"
   ]
  },
  {
   "cell_type": "code",
   "execution_count": 9,
   "id": "44517a7e",
   "metadata": {},
   "outputs": [
    {
     "data": {
      "text/plain": [
       "array([[12, 22, 65, 76],\n",
       "       [16, 45, 70, 82],\n",
       "       [20, 62, 65, 81]])"
      ]
     },
     "execution_count": 9,
     "metadata": {},
     "output_type": "execute_result"
    }
   ],
   "source": [
    "#Ordena las filas de forma ascendente\n",
    "arr_ent.sort()\n",
    "arr_ent"
   ]
  },
  {
   "cell_type": "code",
   "execution_count": 10,
   "id": "cad51520",
   "metadata": {},
   "outputs": [
    {
     "data": {
      "text/plain": [
       "array([[12, 22, 65, 76],\n",
       "       [16, 45, 65, 81],\n",
       "       [20, 62, 70, 82]])"
      ]
     },
     "execution_count": 10,
     "metadata": {},
     "output_type": "execute_result"
    }
   ],
   "source": [
    "#Ordena las columnas de forma ascendente\n",
    "arr_ent.sort(axis=0)\n",
    "arr_ent"
   ]
  },
  {
   "cell_type": "markdown",
   "id": "38be54dc",
   "metadata": {},
   "source": [
    "## <font color='blue'> _Reshape_ </font>\n",
    "\n",
    "### Este metodo nos permite modificar las dimenciones de un `array`"
   ]
  },
  {
   "cell_type": "code",
   "execution_count": 11,
   "id": "1028da3d",
   "metadata": {},
   "outputs": [
    {
     "data": {
      "text/plain": [
       "array([[12, 22, 65],\n",
       "       [76, 16, 45],\n",
       "       [65, 81, 20],\n",
       "       [62, 70, 82]])"
      ]
     },
     "execution_count": 11,
     "metadata": {},
     "output_type": "execute_result"
    }
   ],
   "source": [
    "arr_ent = arr_ent.reshape(4,3)\n",
    "arr_ent"
   ]
  },
  {
   "cell_type": "markdown",
   "id": "b53788cc",
   "metadata": {},
   "source": [
    "## <font color='blue'> _Flatten_ </font>\n",
    "\n",
    "### Este metodo crea un array unidimensional desde el original."
   ]
  },
  {
   "cell_type": "code",
   "execution_count": 14,
   "id": "1aa33eb2",
   "metadata": {},
   "outputs": [
    {
     "name": "stdout",
     "output_type": "stream",
     "text": [
      "[[12 22 65]\n",
      " [76 16 45]\n",
      " [65 81 20]\n",
      " [62 70 82]]\n",
      "----------\n",
      "[12 22 65 76 16 45 65 81 20 62 70 82]\n"
     ]
    }
   ],
   "source": [
    "plano_arr = arr_ent.flatten()\n",
    "print(arr_ent)\n",
    "print('----------')\n",
    "print(plano_arr)"
   ]
  },
  {
   "cell_type": "markdown",
   "id": "5549f1c2",
   "metadata": {},
   "source": [
    "## <font color='blue'> _To List_ </font>\n",
    "\n",
    "### Este metodo crea una lista a partir de un `array`"
   ]
  },
  {
   "cell_type": "code",
   "execution_count": 15,
   "id": "a8a72358",
   "metadata": {},
   "outputs": [
    {
     "data": {
      "text/plain": [
       "[12, 22, 65, 76, 16, 45, 65, 81, 20, 62, 70, 82]"
      ]
     },
     "execution_count": 15,
     "metadata": {},
     "output_type": "execute_result"
    }
   ],
   "source": [
    "lista_arr = plano_arr.tolist()\n",
    "lista_arr"
   ]
  },
  {
   "cell_type": "markdown",
   "id": "a2b65155",
   "metadata": {},
   "source": [
    "## <font color='blue'> _Separar y juntar arrays_ </font>"
   ]
  },
  {
   "cell_type": "code",
   "execution_count": 16,
   "id": "54019d87",
   "metadata": {},
   "outputs": [
    {
     "data": {
      "text/plain": [
       "[array([[12, 22, 65]]),\n",
       " array([[76, 16, 45]]),\n",
       " array([[65, 81, 20]]),\n",
       " array([[62, 70, 82]])]"
      ]
     },
     "execution_count": 16,
     "metadata": {},
     "output_type": "execute_result"
    }
   ],
   "source": [
    "#Metodo split separa la matriz en arrays individuales\n",
    "arrays = np.split(arr_ent,4)\n",
    "arrays"
   ]
  },
  {
   "cell_type": "code",
   "execution_count": 22,
   "id": "c6184c8e",
   "metadata": {},
   "outputs": [
    {
     "data": {
      "text/plain": [
       "array([[76, 16, 45],\n",
       "       [12, 22, 65]])"
      ]
     },
     "execution_count": 22,
     "metadata": {},
     "output_type": "execute_result"
    }
   ],
   "source": [
    "#El metodo concatenate permite tomar los arrays individuales y volverlos una matriz\n",
    "np.concatenate((arrays[1],arrays[0]),axis=0)"
   ]
  },
  {
   "cell_type": "markdown",
   "id": "2415c76c",
   "metadata": {},
   "source": [
    "## <font color='blue'> _La matriz transpuesta_ </font>"
   ]
  },
  {
   "cell_type": "code",
   "execution_count": 23,
   "id": "93dca579",
   "metadata": {},
   "outputs": [
    {
     "data": {
      "text/plain": [
       "array([[12, 22, 65],\n",
       "       [76, 16, 45],\n",
       "       [65, 81, 20],\n",
       "       [62, 70, 82]])"
      ]
     },
     "execution_count": 23,
     "metadata": {},
     "output_type": "execute_result"
    }
   ],
   "source": [
    "arr_ent"
   ]
  },
  {
   "cell_type": "code",
   "execution_count": 24,
   "id": "cf72287c",
   "metadata": {},
   "outputs": [
    {
     "data": {
      "text/plain": [
       "array([[12, 76, 65, 62],\n",
       "       [22, 16, 81, 70],\n",
       "       [65, 45, 20, 82]])"
      ]
     },
     "execution_count": 24,
     "metadata": {},
     "output_type": "execute_result"
    }
   ],
   "source": [
    "t_arr = arr_ent.T\n",
    "t_arr"
   ]
  },
  {
   "cell_type": "code",
   "execution_count": null,
   "id": "64779f48",
   "metadata": {},
   "outputs": [],
   "source": []
  }
 ],
 "metadata": {
  "kernelspec": {
   "display_name": "Python 3",
   "language": "python",
   "name": "python3"
  },
  "language_info": {
   "codemirror_mode": {
    "name": "ipython",
    "version": 3
   },
   "file_extension": ".py",
   "mimetype": "text/x-python",
   "name": "python",
   "nbconvert_exporter": "python",
   "pygments_lexer": "ipython3",
   "version": "3.8.8"
  }
 },
 "nbformat": 4,
 "nbformat_minor": 5
}
