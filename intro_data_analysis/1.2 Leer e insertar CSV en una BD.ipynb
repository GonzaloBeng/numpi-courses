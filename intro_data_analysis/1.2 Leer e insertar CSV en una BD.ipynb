{
 "cells": [
  {
   "cell_type": "markdown",
   "metadata": {},
   "source": [
    "# <font  color='Green'> 1.2 Leer e insertar CSV en una BD </font>\n"
   ]
  },
  {
   "cell_type": "code",
   "execution_count": 1,
   "metadata": {},
   "outputs": [
    {
     "name": "stdout",
     "output_type": "stream",
     "text": [
      "[('Gonzalo', 'Ciencia de Datos', 27), ('Santiago', 'Ciencia de Datos', 18), ('Julian', 'Ciencia de Datos', 19), ('Octavio', 'Ciencia de Datos', 22), ('Giuliana', 'Medicina', 27), ('Alicia', 'Derecho', 20), ('William', 'Ingenieria', 24), ('Milagros', 'Nutriciï¿½n', 25), ('Chencho', 'Artes', 30), ('Frank', 'Letras', 32), ('Pilar', 'Nutriciï¿½n', 23)]\n"
     ]
    }
   ],
   "source": [
    "# Importamos los modulos necesarios\n",
    "import sqlite3\n",
    "import csv \n",
    "\n",
    "#Generamos la conexion con la DB y el cursor\n",
    "conexion = sqlite3.connect(r'C:\\Users\\Gonza\\Documents\\codigo\\numpi-courses\\intro_data_analysis\\ejemplo.db')\n",
    "cursor = conexion.cursor()\n",
    "\n",
    "#Generamos el archivo que vamos a insertar \n",
    "archivo = open(r'C:\\Users\\Gonza\\Documents\\codigo\\numpi-courses\\intro_data_analysis\\datos_db.txt')\n",
    "\n",
    "filas = csv.reader(archivo)\n",
    "\n",
    "#Ingresamos las filas\n",
    "cursor.executemany('INSERT INTO estudiantes VALUES (?, ?, ?)', filas)\n",
    "\n",
    "#Mostramos los datos\n",
    "cursor.execute('SELECT * FROM estudiantes')\n",
    "print(cursor.fetchall())\n",
    "\n",
    "#Generamos el commit y cerramos la conexion\n",
    "conexion.commit()\n",
    "conexion.close()"
   ]
  }
 ],
 "metadata": {
  "interpreter": {
   "hash": "5e0b7c7ee81008ada7d00ef90ea7ec4517067f2aa67ea61b87cfbc6eb83beca6"
  },
  "kernelspec": {
   "display_name": "Python 3.10.0 64-bit",
   "language": "python",
   "name": "python3"
  },
  "language_info": {
   "codemirror_mode": {
    "name": "ipython",
    "version": 3
   },
   "file_extension": ".py",
   "mimetype": "text/x-python",
   "name": "python",
   "nbconvert_exporter": "python",
   "pygments_lexer": "ipython3",
   "version": "3.10.0"
  },
  "orig_nbformat": 4
 },
 "nbformat": 4,
 "nbformat_minor": 2
}
