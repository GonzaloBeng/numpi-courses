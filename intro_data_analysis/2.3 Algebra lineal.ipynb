{
 "cells": [
  {
   "cell_type": "markdown",
   "metadata": {},
   "source": [
    "# <font color=\"Blue\"> 2.3 Algebra lineal </font>\n",
    "\n",
    "### *Producto de arrays*"
   ]
  },
  {
   "cell_type": "code",
   "execution_count": 5,
   "metadata": {},
   "outputs": [
    {
     "data": {
      "text/plain": [
       "5.0"
      ]
     },
     "execution_count": 5,
     "metadata": {},
     "output_type": "execute_result"
    }
   ],
   "source": [
    "import numpy as np\n",
    "\n",
    "a = np.array([1, 2, 3], float)\n",
    "b = np.array([0, 1, 1], float)\n",
    "\n",
    "np.dot(b,a) #dot hace el producto escalar"
   ]
  },
  {
   "cell_type": "code",
   "execution_count": 6,
   "metadata": {},
   "outputs": [
    {
     "data": {
      "text/plain": [
       "5.0"
      ]
     },
     "execution_count": 6,
     "metadata": {},
     "output_type": "execute_result"
    }
   ],
   "source": [
    "a.dot(b)"
   ]
  },
  {
   "cell_type": "markdown",
   "metadata": {},
   "source": [
    "### Producto de matrices"
   ]
  },
  {
   "cell_type": "code",
   "execution_count": 8,
   "metadata": {},
   "outputs": [
    {
     "name": "stdout",
     "output_type": "stream",
     "text": [
      "[[5. 2.]\n",
      " [4. 8.]] \n",
      " ------------\n",
      "[[2. 4.]\n",
      " [5. 3.]] \n",
      " ------------\n"
     ]
    }
   ],
   "source": [
    "a = np.array([[5, 2], [4, 8]], float)\n",
    "b = np.array([[2, 4], [5, 3]], float)\n",
    "\n",
    "print(a, '\\n ------------')\n",
    "print(b, '\\n ------------')\n"
   ]
  },
  {
   "cell_type": "code",
   "execution_count": 9,
   "metadata": {},
   "outputs": [
    {
     "data": {
      "text/plain": [
       "array([[20., 26.],\n",
       "       [48., 40.]])"
      ]
     },
     "execution_count": 9,
     "metadata": {},
     "output_type": "execute_result"
    }
   ],
   "source": [
    "np.dot(a,b)"
   ]
  },
  {
   "cell_type": "code",
   "execution_count": 10,
   "metadata": {},
   "outputs": [
    {
     "data": {
      "text/plain": [
       "array([[20., 26.],\n",
       "       [48., 40.]])"
      ]
     },
     "execution_count": 10,
     "metadata": {},
     "output_type": "execute_result"
    }
   ],
   "source": [
    "a @ b #Forma correcta de hacer la multiplicacion"
   ]
  },
  {
   "cell_type": "code",
   "execution_count": 12,
   "metadata": {},
   "outputs": [
    {
     "name": "stdout",
     "output_type": "stream",
     "text": [
      "[[0. 1. 4.]\n",
      " [5. 2. 3.]\n",
      " [1. 4. 8.]] \n",
      " ------------\n",
      "[2. 3. 5.] \n",
      " ------------\n"
     ]
    }
   ],
   "source": [
    "#Multiplicacion de array con matriz\n",
    "\n",
    "a = np.array([[0, 1, 4], [5, 2, 3], [1, 4, 8]], float)\n",
    "\n",
    "b = np.array([2, 3, 5], float)\n",
    "\n",
    "print(a, '\\n ------------')\n",
    "print(b, '\\n ------------')\n"
   ]
  },
  {
   "cell_type": "code",
   "execution_count": 13,
   "metadata": {},
   "outputs": [
    {
     "data": {
      "text/plain": [
       "array([23., 31., 54.])"
      ]
     },
     "execution_count": 13,
     "metadata": {},
     "output_type": "execute_result"
    }
   ],
   "source": [
    "np.dot(a,b)"
   ]
  },
  {
   "cell_type": "code",
   "execution_count": 14,
   "metadata": {},
   "outputs": [
    {
     "data": {
      "text/plain": [
       "array([23., 31., 54.])"
      ]
     },
     "execution_count": 14,
     "metadata": {},
     "output_type": "execute_result"
    }
   ],
   "source": [
    "a @ b"
   ]
  },
  {
   "cell_type": "code",
   "execution_count": 15,
   "metadata": {},
   "outputs": [
    {
     "name": "stdout",
     "output_type": "stream",
     "text": [
      "[23. 31. 54.]\n"
     ]
    }
   ],
   "source": [
    "#Otra forma\n",
    "print(np.matmul(a,b))"
   ]
  },
  {
   "cell_type": "markdown",
   "metadata": {},
   "source": [
    "### Determinante de una matriz"
   ]
  },
  {
   "cell_type": "code",
   "execution_count": 16,
   "metadata": {},
   "outputs": [
    {
     "name": "stdout",
     "output_type": "stream",
     "text": [
      "[[8 5]\n",
      " [3 4]] \n",
      " ------------\n"
     ]
    },
    {
     "data": {
      "text/plain": [
       "17.0"
      ]
     },
     "execution_count": 16,
     "metadata": {},
     "output_type": "execute_result"
    }
   ],
   "source": [
    "a = np.array([[8, 5], [3,4]])\n",
    "print(a, '\\n ------------')\n",
    "\n",
    "np.linalg.det(a)"
   ]
  },
  {
   "cell_type": "markdown",
   "metadata": {},
   "source": [
    "### Autovalores y autovectores"
   ]
  },
  {
   "cell_type": "code",
   "execution_count": 17,
   "metadata": {},
   "outputs": [
    {
     "name": "stdout",
     "output_type": "stream",
     "text": [
      "[10.35889894  1.64110106] \n",
      " ------------\n",
      "[[ 0.90440309 -0.61810602]\n",
      " [ 0.4266791   0.78609474]] \n",
      " ------------\n"
     ]
    }
   ],
   "source": [
    "vals, vecs = np.linalg.eig(a)\n",
    "print(vals, '\\n ------------')\n",
    "print(vecs, '\\n ------------')"
   ]
  }
 ],
 "metadata": {
  "interpreter": {
   "hash": "5e0b7c7ee81008ada7d00ef90ea7ec4517067f2aa67ea61b87cfbc6eb83beca6"
  },
  "kernelspec": {
   "display_name": "Python 3.10.0 64-bit",
   "language": "python",
   "name": "python3"
  },
  "language_info": {
   "codemirror_mode": {
    "name": "ipython",
    "version": 3
   },
   "file_extension": ".py",
   "mimetype": "text/x-python",
   "name": "python",
   "nbconvert_exporter": "python",
   "pygments_lexer": "ipython3",
   "version": "3.10.0"
  },
  "orig_nbformat": 4
 },
 "nbformat": 4,
 "nbformat_minor": 2
}
