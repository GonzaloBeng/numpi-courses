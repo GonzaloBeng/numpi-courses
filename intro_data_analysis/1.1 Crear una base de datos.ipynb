{
 "cells": [
  {
   "cell_type": "markdown",
   "id": "3f127505",
   "metadata": {},
   "source": [
    "# <font color='Green'> 1.1 Crear una base de datos </font>\n",
    "\n",
    "## <font color='Blue'> SQLite </font>\n",
    "\n",
    "### SQLite es un gestor de bases de datos relacionales que viene integrado en la instalacion de Anaconda.\n",
    "### Los gestores nos permiten crear y manipular las estructuras y los datos que almacenan.\n",
    "\n",
    "### Como importar el modulo de SQLite"
   ]
  },
  {
   "cell_type": "code",
   "execution_count": 5,
   "id": "8ccd4a12",
   "metadata": {},
   "outputs": [],
   "source": [
    "import sqlite3"
   ]
  },
  {
   "cell_type": "markdown",
   "id": "a47d8a19",
   "metadata": {},
   "source": [
    "### Para crear una conexion a la BD"
   ]
  },
  {
   "cell_type": "code",
   "execution_count": 6,
   "id": "2eabc4e7",
   "metadata": {},
   "outputs": [],
   "source": [
    "conexion = sqlite3.connect('ejemplo.db')"
   ]
  },
  {
   "cell_type": "markdown",
   "id": "80ff4f5c",
   "metadata": {},
   "source": [
    "### Para crear una tabla, hay que crear una variable tipo cursor."
   ]
  },
  {
   "cell_type": "code",
   "execution_count": 7,
   "id": "d3f8ecc6",
   "metadata": {},
   "outputs": [],
   "source": [
    "conexion = sqlite3.connect('ejemplo.db')\n",
    "\n",
    "#Se crea la variable cursor\n",
    "cursor = conexion.cursor()\n",
    "\n",
    "conexion.close()"
   ]
  },
  {
   "cell_type": "markdown",
   "id": "00674447",
   "metadata": {},
   "source": [
    "### Para ingresar los datos a una base de datos primero debemos definir la estructura de la tabla que almacenara los datos.\n",
    "\n",
    "### CREATE TABLE es el comando para crear una tabla."
   ]
  },
  {
   "cell_type": "code",
   "execution_count": 8,
   "id": "6b400861",
   "metadata": {},
   "outputs": [
    {
     "ename": "OperationalError",
     "evalue": "table estudiantes already exists",
     "output_type": "error",
     "traceback": [
      "\u001b[1;31m---------------------------------------------------------------------------\u001b[0m",
      "\u001b[1;31mOperationalError\u001b[0m                          Traceback (most recent call last)",
      "\u001b[1;32m~\\AppData\\Local\\Temp/ipykernel_10712/2631036894.py\u001b[0m in \u001b[0;36m<module>\u001b[1;34m\u001b[0m\n\u001b[0;32m      3\u001b[0m \u001b[1;33m\u001b[0m\u001b[0m\n\u001b[0;32m      4\u001b[0m \u001b[1;31m# Creamos una tabla llamada estudiantes\u001b[0m\u001b[1;33m\u001b[0m\u001b[1;33m\u001b[0m\u001b[0m\n\u001b[1;32m----> 5\u001b[1;33m \u001b[0mcursor\u001b[0m\u001b[1;33m.\u001b[0m\u001b[0mexecute\u001b[0m\u001b[1;33m(\u001b[0m\u001b[1;34m'CREATE TABLE estudiantes (nombre VARCHAR(100), carrera VARCHAR(100), edad INTEGER)'\u001b[0m\u001b[1;33m)\u001b[0m\u001b[1;33m\u001b[0m\u001b[1;33m\u001b[0m\u001b[0m\n\u001b[0m\u001b[0;32m      6\u001b[0m \u001b[1;33m\u001b[0m\u001b[0m\n\u001b[0;32m      7\u001b[0m \u001b[0mconexion\u001b[0m\u001b[1;33m.\u001b[0m\u001b[0mclose\u001b[0m\u001b[1;33m(\u001b[0m\u001b[1;33m)\u001b[0m\u001b[1;33m\u001b[0m\u001b[1;33m\u001b[0m\u001b[0m\n",
      "\u001b[1;31mOperationalError\u001b[0m: table estudiantes already exists"
     ]
    }
   ],
   "source": [
    "conexion = sqlite3.connect('ejemplo.db')\n",
    "cursor = conexion.cursor()\n",
    "\n",
    "# Creamos una tabla llamada estudiantes\n",
    "cursor.execute('CREATE TABLE estudiantes (nombre VARCHAR(100), carrera VARCHAR(100), edad INTEGER)')\n",
    "\n",
    "conexion.close()"
   ]
  },
  {
   "cell_type": "markdown",
   "id": "d8060166",
   "metadata": {},
   "source": [
    "### Tambien podemos ingresar y leer varios registros al mismo tiempo."
   ]
  },
  {
   "cell_type": "code",
   "execution_count": null,
   "id": "6d4452bd",
   "metadata": {},
   "outputs": [],
   "source": [
    "conexion = sqlite3.connect('ejemplo.db')\n",
    "cursor = conexion.cursor()\n",
    "\n",
    "usuarios = [#Siempre se pasa en formato de tupla dentro de una lista\n",
    "    ('Gonzalo', 'Ciencia de Datos', 27),\n",
    "    ('Santiago', 'Ciencia de Datos', 18),\n",
    "    ('Julian', 'Ciencia de Datos', 19),\n",
    "    ('Octavio', 'Ciencia de Datos', 22)\n",
    "]\n",
    "\n",
    "cursor.executemany(\"INSERT INTO estudiantes VALUES (?,?,?)\", usuarios) #Insertamos los registros en la tabla\n",
    "\n",
    "# Guardamos los cambios haciendo un commit\n",
    "conexion.commit()\n",
    "\n",
    "conexion.close()"
   ]
  },
  {
   "cell_type": "code",
   "execution_count": null,
   "id": "57900b79",
   "metadata": {},
   "outputs": [
    {
     "name": "stdout",
     "output_type": "stream",
     "text": [
      "('Gonzalo', 'Ciencia de Datos', 27)\n",
      "('Santiago', 'Ciencia de Datos', 18)\n",
      "('Julian', 'Ciencia de Datos', 19)\n",
      "('Octavio', 'Ciencia de Datos', 22)\n"
     ]
    }
   ],
   "source": [
    "conexion = sqlite3.connect('ejemplo.db')\n",
    "cursor = conexion.cursor()\n",
    "\n",
    "#Recuperamos los registros de la tabla\n",
    "cursor.execute('SELECT * FROM estudiantes')\n",
    "\n",
    "usuarios = cursor.fetchall()\n",
    "\n",
    "#Mostrar los usuarios\n",
    "\n",
    "for u in usuarios:\n",
    "    print(u)\n",
    "    \n",
    "conexion.close()"
   ]
  },
  {
   "cell_type": "code",
   "execution_count": null,
   "id": "b3cb9f31",
   "metadata": {},
   "outputs": [],
   "source": []
  }
 ],
 "metadata": {
  "kernelspec": {
   "display_name": "Python 3",
   "language": "python",
   "name": "python3"
  },
  "language_info": {
   "codemirror_mode": {
    "name": "ipython",
    "version": 3
   },
   "file_extension": ".py",
   "mimetype": "text/x-python",
   "name": "python",
   "nbconvert_exporter": "python",
   "pygments_lexer": "ipython3",
   "version": "3.10.0"
  }
 },
 "nbformat": 4,
 "nbformat_minor": 5
}
