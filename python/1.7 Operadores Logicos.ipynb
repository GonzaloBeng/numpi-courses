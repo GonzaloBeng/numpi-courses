{
 "cells": [
  {
   "cell_type": "markdown",
   "id": "d753159d",
   "metadata": {},
   "source": [
    "## 2.7 Operadores logicos\n",
    "\n",
    "### Los operadores logicos siguen las reglas de la logica proposional\n",
    "\n",
    "#### A) AND"
   ]
  },
  {
   "cell_type": "code",
   "execution_count": 1,
   "id": "78080d61",
   "metadata": {},
   "outputs": [
    {
     "data": {
      "text/plain": [
       "False"
      ]
     },
     "execution_count": 1,
     "metadata": {},
     "output_type": "execute_result"
    }
   ],
   "source": [
    "True and False"
   ]
  },
  {
   "cell_type": "code",
   "execution_count": 2,
   "id": "d9a1ba52",
   "metadata": {},
   "outputs": [
    {
     "data": {
      "text/plain": [
       "True"
      ]
     },
     "execution_count": 2,
     "metadata": {},
     "output_type": "execute_result"
    }
   ],
   "source": [
    "True and True"
   ]
  },
  {
   "cell_type": "code",
   "execution_count": 3,
   "id": "30ab7ec9",
   "metadata": {},
   "outputs": [
    {
     "data": {
      "text/plain": [
       "False"
      ]
     },
     "execution_count": 3,
     "metadata": {},
     "output_type": "execute_result"
    }
   ],
   "source": [
    "False and False"
   ]
  },
  {
   "cell_type": "markdown",
   "id": "088e397c",
   "metadata": {},
   "source": [
    "#### B) OR"
   ]
  },
  {
   "cell_type": "code",
   "execution_count": 5,
   "id": "5b70e921",
   "metadata": {},
   "outputs": [
    {
     "data": {
      "text/plain": [
       "True"
      ]
     },
     "execution_count": 5,
     "metadata": {},
     "output_type": "execute_result"
    }
   ],
   "source": [
    "True or False"
   ]
  },
  {
   "cell_type": "code",
   "execution_count": 6,
   "id": "934a5c17",
   "metadata": {},
   "outputs": [
    {
     "data": {
      "text/plain": [
       "True"
      ]
     },
     "execution_count": 6,
     "metadata": {},
     "output_type": "execute_result"
    }
   ],
   "source": [
    "True or True"
   ]
  },
  {
   "cell_type": "code",
   "execution_count": 7,
   "id": "283b9100",
   "metadata": {},
   "outputs": [
    {
     "data": {
      "text/plain": [
       "False"
      ]
     },
     "execution_count": 7,
     "metadata": {},
     "output_type": "execute_result"
    }
   ],
   "source": [
    "False or False"
   ]
  },
  {
   "cell_type": "markdown",
   "id": "b92abfbc",
   "metadata": {},
   "source": [
    "#### C) NOT ****"
   ]
  },
  {
   "cell_type": "code",
   "execution_count": 8,
   "id": "11edbdca",
   "metadata": {},
   "outputs": [
    {
     "data": {
      "text/plain": [
       "False"
      ]
     },
     "execution_count": 8,
     "metadata": {},
     "output_type": "execute_result"
    }
   ],
   "source": [
    "not True"
   ]
  },
  {
   "cell_type": "code",
   "execution_count": 9,
   "id": "73838537",
   "metadata": {},
   "outputs": [
    {
     "data": {
      "text/plain": [
       "True"
      ]
     },
     "execution_count": 9,
     "metadata": {},
     "output_type": "execute_result"
    }
   ],
   "source": [
    "not False"
   ]
  },
  {
   "cell_type": "markdown",
   "id": "12c56c66",
   "metadata": {},
   "source": [
    "### Operadores de comparacion\n",
    "\n",
    ">**[==; !=: <; >; >=; <=]**\n",
    "\n",
    "#### Para probar igualdad usamos el operador =="
   ]
  },
  {
   "cell_type": "code",
   "execution_count": 10,
   "id": "6932a9df",
   "metadata": {},
   "outputs": [
    {
     "name": "stdout",
     "output_type": "stream",
     "text": [
      "Se cumple que 2 == 2\n",
      " True\n"
     ]
    }
   ],
   "source": [
    "print( \"Se cumple que 2 == 2?\\n\", 2==2)"
   ]
  },
  {
   "cell_type": "code",
   "execution_count": 11,
   "id": "7d7db88b",
   "metadata": {},
   "outputs": [
    {
     "name": "stdout",
     "output_type": "stream",
     "text": [
      "Se cumple que 2 == 2?\n",
      " False\n"
     ]
    }
   ],
   "source": [
    "print( \"Se cumple que 2 == 2?\\n\", 2==3)"
   ]
  },
  {
   "cell_type": "markdown",
   "id": "a7d6ce75",
   "metadata": {},
   "source": [
    "#### Para probar desigualdad usamos el operador !="
   ]
  },
  {
   "cell_type": "code",
   "execution_count": 12,
   "id": "8af2c2ac",
   "metadata": {},
   "outputs": [
    {
     "name": "stdout",
     "output_type": "stream",
     "text": [
      "Se cumple que 2 != 2?\n",
      " False\n"
     ]
    }
   ],
   "source": [
    "print( \"Se cumple que 2 != 2?\\n\", 2!=2)"
   ]
  },
  {
   "cell_type": "code",
   "execution_count": 13,
   "id": "43005ad5",
   "metadata": {},
   "outputs": [
    {
     "name": "stdout",
     "output_type": "stream",
     "text": [
      "Se cumple que 2 != 2?\n",
      " True\n"
     ]
    }
   ],
   "source": [
    "print( \"Se cumple que 2 != 2?\\n\", 2!=3)"
   ]
  },
  {
   "cell_type": "markdown",
   "id": "6e70ff2b",
   "metadata": {},
   "source": [
    "#### Para comparar magnitudes usamos <, >, >=,<="
   ]
  },
  {
   "cell_type": "code",
   "execution_count": 14,
   "id": "3183b0f1",
   "metadata": {},
   "outputs": [
    {
     "name": "stdout",
     "output_type": "stream",
     "text": [
      "Se cumple que 2 > 3?\n",
      " False\n",
      "Se cumple que 2 < 3?\n",
      " True\n",
      "Se cumple que 2 <= 3?\n",
      " True\n",
      "Se cumple que 2 >= 2?\n",
      " False\n"
     ]
    }
   ],
   "source": [
    "print( \"Se cumple que 2 > 3?\\n\", 2>3)\n",
    "\n",
    "print( \"Se cumple que 2 < 3?\\n\", 2<3)\n",
    "\n",
    "print( \"Se cumple que 2 <= 3?\\n\", 2<=2)\n",
    "\n",
    "print( \"Se cumple que 2 >= 2?\\n\", 2>=3)"
   ]
  },
  {
   "cell_type": "markdown",
   "id": "04f35059",
   "metadata": {},
   "source": [
    "### Los operadores basicos tambien aplican a las cadenas de caracteres. Para compararlas siguen el estandar ASCII."
   ]
  },
  {
   "cell_type": "code",
   "execution_count": 15,
   "id": "387ebbe5",
   "metadata": {},
   "outputs": [
    {
     "name": "stdout",
     "output_type": "stream",
     "text": [
      "False \n",
      " True\n"
     ]
    }
   ],
   "source": [
    "print('c' > 'd', '\\n', 'c' > 'b')"
   ]
  },
  {
   "cell_type": "code",
   "execution_count": 16,
   "id": "5bd874aa",
   "metadata": {},
   "outputs": [
    {
     "name": "stdout",
     "output_type": "stream",
     "text": [
      "False\n"
     ]
    }
   ],
   "source": [
    "print('casa' > 'perro') # La C tiene como valor 3 y la p tiene como valor 16"
   ]
  },
  {
   "cell_type": "code",
   "execution_count": 17,
   "id": "f86b7716",
   "metadata": {},
   "outputs": [
    {
     "name": "stdout",
     "output_type": "stream",
     "text": [
      "True\n"
     ]
    }
   ],
   "source": [
    "print('casa' > 'cabra')"
   ]
  },
  {
   "cell_type": "code",
   "execution_count": null,
   "id": "5366839a",
   "metadata": {},
   "outputs": [],
   "source": []
  }
 ],
 "metadata": {
  "kernelspec": {
   "display_name": "Python 3",
   "language": "python",
   "name": "python3"
  },
  "language_info": {
   "codemirror_mode": {
    "name": "ipython",
    "version": 3
   },
   "file_extension": ".py",
   "mimetype": "text/x-python",
   "name": "python",
   "nbconvert_exporter": "python",
   "pygments_lexer": "ipython3",
   "version": "3.8.8"
  }
 },
 "nbformat": 4,
 "nbformat_minor": 5
}
