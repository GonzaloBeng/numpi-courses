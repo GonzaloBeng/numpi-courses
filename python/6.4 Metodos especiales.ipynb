{
 "cells": [
  {
   "cell_type": "markdown",
   "id": "78f050e1",
   "metadata": {},
   "source": [
    "## 6.4 Metodos especiales\n",
    "\n",
    "### <font color='Blue'> El constructor de clase </font>"
   ]
  },
  {
   "cell_type": "code",
   "execution_count": 2,
   "id": "af726148",
   "metadata": {},
   "outputs": [
    {
     "name": "stdout",
     "output_type": "stream",
     "text": [
      "Se creo el video The Avengers\n"
     ]
    }
   ],
   "source": [
    "class Video():\n",
    "    \n",
    "    #Constructor de clase\n",
    "    def __init__(self,titulo,duracion,lanzamiento):\n",
    "        self.titulo = titulo\n",
    "        self.duracion = duracion\n",
    "        self.lanzamiento = lanzamiento\n",
    "        print('Se creo el video', self.titulo)\n",
    "        \n",
    "v=Video('The Avengers',143,2012)"
   ]
  },
  {
   "cell_type": "markdown",
   "id": "9e275992",
   "metadata": {},
   "source": [
    "### <font color='Blue'> El destructor de clase </font>\n"
   ]
  },
  {
   "cell_type": "code",
   "execution_count": 5,
   "id": "9d4cddf1",
   "metadata": {},
   "outputs": [
    {
     "name": "stdout",
     "output_type": "stream",
     "text": [
      "Se creo el video The Avengers\n"
     ]
    }
   ],
   "source": [
    "class Video():\n",
    "    \n",
    "    #Constructor de clase\n",
    "    def __init__(self,titulo,duracion,lanzamiento):\n",
    "        self.titulo = titulo\n",
    "        self.duracion = duracion\n",
    "        self.lanzamiento = lanzamiento\n",
    "        print('Se creo el video', self.titulo)\n",
    "        \n",
    "    #Destructor de clase\n",
    "    def __del__(self):\n",
    "        print('Se elimino el video', self.titulo)\n",
    "        \n",
    "v=Video('The Avengers',143,2012)"
   ]
  },
  {
   "cell_type": "code",
   "execution_count": 6,
   "id": "fac1412f",
   "metadata": {},
   "outputs": [
    {
     "name": "stdout",
     "output_type": "stream",
     "text": [
      "Se elimino el video The Avengers\n"
     ]
    }
   ],
   "source": [
    "del(v)"
   ]
  },
  {
   "cell_type": "markdown",
   "id": "216ad024",
   "metadata": {},
   "source": [
    "### <font color='Blue'> El metodo str() y len() </font>\n"
   ]
  },
  {
   "cell_type": "code",
   "execution_count": 7,
   "id": "82f0e0d8",
   "metadata": {},
   "outputs": [
    {
     "name": "stdout",
     "output_type": "stream",
     "text": [
      "Se creo el video The Avengers\n"
     ]
    }
   ],
   "source": [
    "v=Video('The Avengers',143,2012)"
   ]
  },
  {
   "cell_type": "code",
   "execution_count": 8,
   "id": "75417da0",
   "metadata": {},
   "outputs": [
    {
     "data": {
      "text/plain": [
       "'<__main__.Video object at 0x0000021F39239940>'"
      ]
     },
     "execution_count": 8,
     "metadata": {},
     "output_type": "execute_result"
    }
   ],
   "source": [
    "str(v)"
   ]
  },
  {
   "cell_type": "code",
   "execution_count": 16,
   "id": "afe806f0",
   "metadata": {},
   "outputs": [
    {
     "name": "stdout",
     "output_type": "stream",
     "text": [
      "Se creo el video Ant-Man\n"
     ]
    }
   ],
   "source": [
    "class Video():\n",
    "    \n",
    "    #Constructor de clase\n",
    "    def __init__(self,titulo,duracion,lanzamiento):\n",
    "        self.titulo = titulo\n",
    "        self.duracion = duracion\n",
    "        self.lanzamiento = lanzamiento\n",
    "        print('Se creo el video', self.titulo)\n",
    "        \n",
    "    #Destructor de clase\n",
    "    def __del__(self):\n",
    "        print('Se elimino el video', self.titulo)\n",
    "        \n",
    "    # Redefinimos str para que muestre la informacion del video\n",
    "    def __str__(self):\n",
    "        return f'{self.titulo} publicado en {self.lanzamiento} con una duracion de {self.duracion} minutos'\n",
    "    \n",
    "a=Video('Ant-Man',117,2015)"
   ]
  },
  {
   "cell_type": "code",
   "execution_count": 17,
   "id": "d7ea74bb",
   "metadata": {},
   "outputs": [
    {
     "data": {
      "text/plain": [
       "'Ant-Man publicado en 2015 con una duracion de 117 minutos'"
      ]
     },
     "execution_count": 17,
     "metadata": {},
     "output_type": "execute_result"
    }
   ],
   "source": [
    "str(a)"
   ]
  },
  {
   "cell_type": "code",
   "execution_count": 18,
   "id": "9e58e230",
   "metadata": {},
   "outputs": [
    {
     "ename": "TypeError",
     "evalue": "object of type 'Video' has no len()",
     "output_type": "error",
     "traceback": [
      "\u001b[1;31m---------------------------------------------------------------------------\u001b[0m",
      "\u001b[1;31mTypeError\u001b[0m                                 Traceback (most recent call last)",
      "\u001b[1;32m<ipython-input-18-821a70939e36>\u001b[0m in \u001b[0;36m<module>\u001b[1;34m\u001b[0m\n\u001b[1;32m----> 1\u001b[1;33m \u001b[0mlen\u001b[0m\u001b[1;33m(\u001b[0m\u001b[0mc\u001b[0m\u001b[1;33m)\u001b[0m\u001b[1;33m\u001b[0m\u001b[1;33m\u001b[0m\u001b[0m\n\u001b[0m",
      "\u001b[1;31mTypeError\u001b[0m: object of type 'Video' has no len()"
     ]
    }
   ],
   "source": [
    "len(c)"
   ]
  },
  {
   "cell_type": "code",
   "execution_count": 24,
   "id": "0898d2cf",
   "metadata": {},
   "outputs": [],
   "source": [
    "class Video():\n",
    "    \n",
    "    #Constructor de clase\n",
    "    def __init__(self,titulo,duracion,lanzamiento):\n",
    "        self.titulo = titulo\n",
    "        self.duracion = duracion\n",
    "        self.lanzamiento = lanzamiento\n",
    "        print('Se creo el video', self.titulo)\n",
    "    \n",
    "    # Redefinimos str para que muestre la informacion del video\n",
    "    def __str__(self):\n",
    "        return f'{self.titulo} publicado en {self.lanzamiento} con una duracion de {self.duracion} minutos'\n",
    "    \n",
    "    #Redefinimos el metodo len() para que devuelva la duracion del video\n",
    "    def __len__(self):\n",
    "        return self.duracion\n",
    "    \n",
    "    #Destructor de clase\n",
    "    def __del__(self):\n",
    "        print('Se elimino el video', self.titulo)\n",
    "        \n"
   ]
  },
  {
   "cell_type": "code",
   "execution_count": 25,
   "id": "63e656b1",
   "metadata": {},
   "outputs": [
    {
     "name": "stdout",
     "output_type": "stream",
     "text": [
      "Se creo el video The Avengers\n",
      "Se elimino el video The Avengers\n",
      "Se creo el video Ant-Man\n",
      "Se elimino el video Ant-Man\n"
     ]
    }
   ],
   "source": [
    "v=Video('The Avengers',143,2012)\n",
    "\n",
    "a=Video('Ant-Man',117,2015)"
   ]
  },
  {
   "cell_type": "code",
   "execution_count": 26,
   "id": "0ef304cf",
   "metadata": {},
   "outputs": [
    {
     "data": {
      "text/plain": [
       "143"
      ]
     },
     "execution_count": 26,
     "metadata": {},
     "output_type": "execute_result"
    }
   ],
   "source": [
    "len(v)"
   ]
  },
  {
   "cell_type": "code",
   "execution_count": 29,
   "id": "67893e45",
   "metadata": {},
   "outputs": [
    {
     "data": {
      "text/plain": [
       "117"
      ]
     },
     "execution_count": 29,
     "metadata": {},
     "output_type": "execute_result"
    }
   ],
   "source": [
    "len(a)"
   ]
  },
  {
   "cell_type": "code",
   "execution_count": null,
   "id": "5e7cf379",
   "metadata": {},
   "outputs": [],
   "source": []
  }
 ],
 "metadata": {
  "kernelspec": {
   "display_name": "Python 3",
   "language": "python",
   "name": "python3"
  },
  "language_info": {
   "codemirror_mode": {
    "name": "ipython",
    "version": 3
   },
   "file_extension": ".py",
   "mimetype": "text/x-python",
   "name": "python",
   "nbconvert_exporter": "python",
   "pygments_lexer": "ipython3",
   "version": "3.8.8"
  }
 },
 "nbformat": 4,
 "nbformat_minor": 5
}
