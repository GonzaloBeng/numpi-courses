{
 "cells": [
  {
   "cell_type": "markdown",
   "id": "97c4f6ec",
   "metadata": {},
   "source": [
    "## 5.3 Excepciones multiples\n",
    "\n",
    "### En el mismo bloque de codigo pueden surgir distintos tipos de errores y suele ser conveniente actuar de manera particular para cada error.\n",
    "\n",
    "### Se recomienda asignar la excepcion a una variable, asi podemos analizar el tipo de error que sucede por su identificador."
   ]
  },
  {
   "cell_type": "code",
   "execution_count": 6,
   "id": "941af562",
   "metadata": {},
   "outputs": [
    {
     "name": "stdout",
     "output_type": "stream",
     "text": [
      "Ingrese un numero: 0\n",
      "Ocurrio el siguiente error:  ZeroDivisionError\n"
     ]
    }
   ],
   "source": [
    "try:\n",
    "    num = int(input('Ingrese un numero: '))\n",
    "    print('9 / {} = {}'.format(num, 9/num))\n",
    "except Exception as e:\n",
    "    print('Ocurrio el siguiente error: ', type(e).__name__)"
   ]
  },
  {
   "cell_type": "code",
   "execution_count": 9,
   "id": "d891bf03",
   "metadata": {},
   "outputs": [
    {
     "name": "stdout",
     "output_type": "stream",
     "text": [
      "int\n",
      "float\n",
      "list\n",
      "tuple\n",
      "dict\n"
     ]
    }
   ],
   "source": [
    "print(type(1).__name__)\n",
    "print(type(3.14).__name__)\n",
    "print(type([]).__name__)\n",
    "print(type(()).__name__)\n",
    "print(type({}).__name__)"
   ]
  },
  {
   "cell_type": "code",
   "execution_count": 15,
   "id": "3c26da95",
   "metadata": {},
   "outputs": [
    {
     "name": "stdout",
     "output_type": "stream",
     "text": [
      "Ingrese un numero: 8\n",
      "9 / 8 = 1.125\n"
     ]
    }
   ],
   "source": [
    "try:\n",
    "    num = int(input('Ingrese un numero: '))\n",
    "    print('9 / {} = {}'.format(num, 9/num))\n",
    "except ValueError:\n",
    "    print('No se puede dividir 9 en un texto')\n",
    "except ZeroDivisionError:\n",
    "    print('No se puede dividir 9 entre 0.')\n",
    "except Exception as e:\n",
    "    print('Ocurrio el siguiente error: ', type(e).__name__)"
   ]
  }
 ],
 "metadata": {
  "kernelspec": {
   "display_name": "Python 3",
   "language": "python",
   "name": "python3"
  },
  "language_info": {
   "codemirror_mode": {
    "name": "ipython",
    "version": 3
   },
   "file_extension": ".py",
   "mimetype": "text/x-python",
   "name": "python",
   "nbconvert_exporter": "python",
   "pygments_lexer": "ipython3",
   "version": "3.8.8"
  }
 },
 "nbformat": 4,
 "nbformat_minor": 5
}
