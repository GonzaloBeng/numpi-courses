{
 "cells": [
  {
   "cell_type": "markdown",
   "id": "c87911b0",
   "metadata": {},
   "source": [
    "## 7.3 Atributos y metodos de clase\n",
    "\n",
    "### Aunque los objetos salgan del mismo molde (clase), no todos los objetos son iguales.\n",
    "\n",
    "### Un objeto se diferencia de otros objetos de su misma clase por el valor de sus atributos."
   ]
  },
  {
   "cell_type": "code",
   "execution_count": 1,
   "id": "eb62497e",
   "metadata": {},
   "outputs": [],
   "source": [
    "class Torta:\n",
    "    pass\n",
    "\n",
    "torta_fresa = Torta()"
   ]
  },
  {
   "cell_type": "code",
   "execution_count": 2,
   "id": "de2329e0",
   "metadata": {},
   "outputs": [
    {
     "data": {
      "text/plain": [
       "<__main__.Torta at 0x1badab21dc0>"
      ]
     },
     "execution_count": 2,
     "metadata": {},
     "output_type": "execute_result"
    }
   ],
   "source": [
    "torta_fresa"
   ]
  },
  {
   "cell_type": "markdown",
   "id": "044253ba",
   "metadata": {},
   "source": [
    "### Podemos asignarle atributos al objeto luego de su creacion."
   ]
  },
  {
   "cell_type": "code",
   "execution_count": 4,
   "id": "776b0552",
   "metadata": {},
   "outputs": [],
   "source": [
    "torta_fresa.sabor = 'Fresa'\n",
    "torta_fresa.color = 'Rosa'"
   ]
  },
  {
   "cell_type": "code",
   "execution_count": 5,
   "id": "607bce20",
   "metadata": {},
   "outputs": [
    {
     "data": {
      "text/plain": [
       "'Fresa'"
      ]
     },
     "execution_count": 5,
     "metadata": {},
     "output_type": "execute_result"
    }
   ],
   "source": [
    "torta_fresa.sabor"
   ]
  },
  {
   "cell_type": "code",
   "execution_count": 6,
   "id": "806e6c8e",
   "metadata": {},
   "outputs": [
    {
     "data": {
      "text/plain": [
       "'El sabor de la torta es Fresa'"
      ]
     },
     "execution_count": 6,
     "metadata": {},
     "output_type": "execute_result"
    }
   ],
   "source": [
    "f'El sabor de la torta es {torta_fresa.sabor}'"
   ]
  },
  {
   "cell_type": "markdown",
   "id": "5159e0b6",
   "metadata": {},
   "source": [
    "### Tambien podemos definir internamente los atributros de clase, y asignarle un valor por defectro que compartirar todas las instancias"
   ]
  },
  {
   "cell_type": "code",
   "execution_count": 7,
   "id": "20a4b8cd",
   "metadata": {},
   "outputs": [],
   "source": [
    "class Torta:\n",
    "    chocolate = False"
   ]
  },
  {
   "cell_type": "code",
   "execution_count": 8,
   "id": "e64c8e11",
   "metadata": {},
   "outputs": [
    {
     "data": {
      "text/plain": [
       "False"
      ]
     },
     "execution_count": 8,
     "metadata": {},
     "output_type": "execute_result"
    }
   ],
   "source": [
    "torta_2 = Torta()\n",
    "torta_2.chocolate"
   ]
  },
  {
   "cell_type": "code",
   "execution_count": 9,
   "id": "a0f259d1",
   "metadata": {},
   "outputs": [
    {
     "data": {
      "text/plain": [
       "True"
      ]
     },
     "execution_count": 9,
     "metadata": {},
     "output_type": "execute_result"
    }
   ],
   "source": [
    "torta_2.chocolate = True\n",
    "torta_2.chocolate"
   ]
  },
  {
   "cell_type": "markdown",
   "id": "73a6c6a2",
   "metadata": {},
   "source": [
    "### <font color='Blue'> El metodo INIT y el termino self </font>\n",
    "\n",
    "* init (metodo constructor) se ejecuta al crear un objeto: Permite enviarle argumentos al objeto durante la instanciacion.\n",
    "* self hace referencia al propio objeto: Sirve para diferenciar el ambito de clase y el de un metodo."
   ]
  },
  {
   "cell_type": "code",
   "execution_count": 10,
   "id": "7f6fb465",
   "metadata": {},
   "outputs": [
    {
     "name": "stdout",
     "output_type": "stream",
     "text": [
      "Se creo una torta.\n"
     ]
    }
   ],
   "source": [
    "class Torta():\n",
    "    glaseado = False #Atributro\n",
    "    \n",
    "    def __init__(self): #Metodo\n",
    "        print('Se creo una torta.')\n",
    "        \n",
    "t = Torta()"
   ]
  },
  {
   "cell_type": "code",
   "execution_count": 11,
   "id": "269a380d",
   "metadata": {},
   "outputs": [
    {
     "name": "stdout",
     "output_type": "stream",
     "text": [
      "Se creo una torta.\n"
     ]
    },
    {
     "data": {
      "text/plain": [
       "False"
      ]
     },
     "execution_count": 11,
     "metadata": {},
     "output_type": "execute_result"
    }
   ],
   "source": [
    "class Torta():\n",
    "    glaseado = False #Atributo\n",
    "    \n",
    "    def __init__(self): #Metodo\n",
    "        print('Se creo una torta.')\n",
    "        \n",
    "    def glasear(self):# Metodo\n",
    "        self.glaseado = True\n",
    "        \n",
    "t = Torta()\n",
    "t.glaseado"
   ]
  },
  {
   "cell_type": "code",
   "execution_count": 12,
   "id": "74766b05",
   "metadata": {},
   "outputs": [
    {
     "data": {
      "text/plain": [
       "True"
      ]
     },
     "execution_count": 12,
     "metadata": {},
     "output_type": "execute_result"
    }
   ],
   "source": [
    "t.glasear()\n",
    "t.glaseado"
   ]
  },
  {
   "cell_type": "code",
   "execution_count": 20,
   "id": "e9188be7",
   "metadata": {},
   "outputs": [],
   "source": [
    "class Torta():\n",
    "    glaseado = False #Atributo\n",
    "    \n",
    "    def __init__(self): #Metodo\n",
    "        print('Se creo una torta.')\n",
    "        \n",
    "    def glasear(self):# Metodo\n",
    "        self.glaseado = True\n",
    "    \n",
    "    def esta_glaseada(self):\n",
    "        if (self.glaseado):\n",
    "            print('Soy una torta glaseada')\n",
    "        else:\n",
    "            print('Soy una torta sin glaseado')"
   ]
  },
  {
   "cell_type": "code",
   "execution_count": 21,
   "id": "537292b2",
   "metadata": {},
   "outputs": [
    {
     "name": "stdout",
     "output_type": "stream",
     "text": [
      "Se creo una torta.\n"
     ]
    }
   ],
   "source": [
    "t = Torta()"
   ]
  },
  {
   "cell_type": "code",
   "execution_count": 22,
   "id": "cc486437",
   "metadata": {},
   "outputs": [
    {
     "name": "stdout",
     "output_type": "stream",
     "text": [
      "Soy una torta sin glaseado\n"
     ]
    }
   ],
   "source": [
    "t.esta_glaseada()"
   ]
  },
  {
   "cell_type": "code",
   "execution_count": 23,
   "id": "b9914455",
   "metadata": {},
   "outputs": [],
   "source": [
    "t.glasear()"
   ]
  },
  {
   "cell_type": "code",
   "execution_count": 24,
   "id": "65ddcc14",
   "metadata": {},
   "outputs": [
    {
     "name": "stdout",
     "output_type": "stream",
     "text": [
      "Soy una torta glaseada\n"
     ]
    }
   ],
   "source": [
    "t.esta_glaseada()"
   ]
  },
  {
   "cell_type": "code",
   "execution_count": 27,
   "id": "d495a0ba",
   "metadata": {},
   "outputs": [],
   "source": [
    "class Torta():\n",
    "    glaseado = False #Atributo\n",
    "    \n",
    "    def __init__(self,  sabor, color):#Metodo\n",
    "        self.sabor = sabor\n",
    "        self.color = color\n",
    "        print(f'Se acaba de crear una torta de {sabor} color {color}.')\n",
    "        \n",
    "    def glasear(self):# Metodo\n",
    "        self.glaseado = True\n",
    "    \n",
    "    def esta_glaseada(self):\n",
    "        if (self.glaseado):\n",
    "            print(f'Soy una torta de {self.sabor} glaseada')\n",
    "        else:\n",
    "            print(f'Soy una torta de {self.sabor} sin glaseado')"
   ]
  },
  {
   "cell_type": "code",
   "execution_count": 28,
   "id": "497d8c64",
   "metadata": {},
   "outputs": [
    {
     "name": "stdout",
     "output_type": "stream",
     "text": [
      "Se acaba de crear una torta de Fresa color Rosa.\n"
     ]
    }
   ],
   "source": [
    "o = Torta('Fresa', 'Rosa')"
   ]
  },
  {
   "cell_type": "code",
   "execution_count": 29,
   "id": "aaa904e2",
   "metadata": {},
   "outputs": [
    {
     "name": "stdout",
     "output_type": "stream",
     "text": [
      "Soy una torta de Fresa sin glaseado\n"
     ]
    }
   ],
   "source": [
    "o.esta_glaseada()"
   ]
  },
  {
   "cell_type": "code",
   "execution_count": 30,
   "id": "b0d3d1e4",
   "metadata": {},
   "outputs": [
    {
     "name": "stdout",
     "output_type": "stream",
     "text": [
      "Soy una torta de Fresa glaseada\n"
     ]
    }
   ],
   "source": [
    "o.glasear()\n",
    "o.esta_glaseada()"
   ]
  },
  {
   "cell_type": "code",
   "execution_count": 31,
   "id": "6e49debb",
   "metadata": {},
   "outputs": [
    {
     "ename": "TypeError",
     "evalue": "__init__() missing 2 required positional arguments: 'sabor' and 'color'",
     "output_type": "error",
     "traceback": [
      "\u001b[1;31m---------------------------------------------------------------------------\u001b[0m",
      "\u001b[1;31mTypeError\u001b[0m                                 Traceback (most recent call last)",
      "\u001b[1;32m<ipython-input-31-dfb7e99e376d>\u001b[0m in \u001b[0;36m<module>\u001b[1;34m\u001b[0m\n\u001b[1;32m----> 1\u001b[1;33m \u001b[0mm\u001b[0m \u001b[1;33m=\u001b[0m \u001b[0mTorta\u001b[0m\u001b[1;33m(\u001b[0m\u001b[1;33m)\u001b[0m\u001b[1;33m\u001b[0m\u001b[1;33m\u001b[0m\u001b[0m\n\u001b[0m",
      "\u001b[1;31mTypeError\u001b[0m: __init__() missing 2 required positional arguments: 'sabor' and 'color'"
     ]
    }
   ],
   "source": [
    "m = Torta() #Da error porque necesita los parametros"
   ]
  },
  {
   "cell_type": "code",
   "execution_count": 35,
   "id": "f55602bf",
   "metadata": {},
   "outputs": [],
   "source": [
    "#Solucion al error\n",
    "\n",
    "class Torta():\n",
    "    glaseado = False #Atributo\n",
    "    \n",
    "    def __init__(self,  sabor=None, color=None):#Metodo\n",
    "        self.sabor = sabor\n",
    "        self.color = color\n",
    "        if sabor is not None and color is not None:\n",
    "            print(f'Se acaba de crear una torta de {sabor} color {color}.')\n",
    "        else:\n",
    "            print('Se acaba de crear una torta de vainilla.')\n",
    "        \n",
    "    def glasear(self):# Metodo\n",
    "        self.glaseado = True\n",
    "    \n",
    "    def esta_glaseada(self):\n",
    "        if (self.glaseado):\n",
    "            print(f'Soy una torta de {self.sabor} glaseada')\n",
    "        else:\n",
    "            print(f'Soy una torta de {self.sabor} sin glaseado')"
   ]
  },
  {
   "cell_type": "code",
   "execution_count": 36,
   "id": "caba5df4",
   "metadata": {},
   "outputs": [
    {
     "name": "stdout",
     "output_type": "stream",
     "text": [
      "Se acaba de crear una torta de vainilla.\n"
     ]
    }
   ],
   "source": [
    "m = Torta()"
   ]
  },
  {
   "cell_type": "code",
   "execution_count": null,
   "id": "f44f137d",
   "metadata": {},
   "outputs": [],
   "source": []
  }
 ],
 "metadata": {
  "kernelspec": {
   "display_name": "Python 3",
   "language": "python",
   "name": "python3"
  },
  "language_info": {
   "codemirror_mode": {
    "name": "ipython",
    "version": 3
   },
   "file_extension": ".py",
   "mimetype": "text/x-python",
   "name": "python",
   "nbconvert_exporter": "python",
   "pygments_lexer": "ipython3",
   "version": "3.8.8"
  }
 },
 "nbformat": 4,
 "nbformat_minor": 5
}
