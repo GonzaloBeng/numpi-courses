{
 "cells": [
  {
   "cell_type": "markdown",
   "id": "e4e42419",
   "metadata": {},
   "source": [
    "## 1.10 Ejercicios\n",
    "\n",
    "### 1) Define una variable edad y asignale un valor entero.\n",
    "* Muestra su valor por pantalla.\n",
    "* Define otra variable edad_cadena que contenga el valor de edad como una cadena de caracteres.\n",
    "* Comprueba el tipo de la nueva variable.\n",
    "* Utiliza la variable edad que has definido previamente y calcula la edad que tendria esa persona en el 2035."
   ]
  },
  {
   "cell_type": "code",
   "execution_count": 4,
   "id": "4f65f9dd",
   "metadata": {},
   "outputs": [
    {
     "name": "stdout",
     "output_type": "stream",
     "text": [
      "27\n"
     ]
    }
   ],
   "source": [
    "edad = 27\n",
    "print(edad)"
   ]
  },
  {
   "cell_type": "code",
   "execution_count": 5,
   "id": "ea9665f8",
   "metadata": {},
   "outputs": [
    {
     "name": "stdout",
     "output_type": "stream",
     "text": [
      "27 <class 'str'>\n"
     ]
    }
   ],
   "source": [
    "edad_cadena = str(edad)\n",
    "print(edad_cadena, type(edad_cadena))"
   ]
  },
  {
   "cell_type": "code",
   "execution_count": 6,
   "id": "52ce49dc",
   "metadata": {},
   "outputs": [
    {
     "name": "stdout",
     "output_type": "stream",
     "text": [
      "41\n"
     ]
    }
   ],
   "source": [
    "edad_2035 = (2035 - 2021) + edad\n",
    "print(edad_2035)"
   ]
  },
  {
   "cell_type": "markdown",
   "id": "c187fefd",
   "metadata": {},
   "source": [
    "### 2) Al realizar una consulta en un registro hemos recibido unos valores corruptos. Al parecer entrega el nombre y apellido del alumno al reves. Que puede hacer para obtener el siguiente mensaje por pantalla?\n",
    "\n",
    ">NOMBRE APELLIDO ha sacado un NOTA"
   ]
  },
  {
   "cell_type": "code",
   "execution_count": 11,
   "id": "c9b1c2e5",
   "metadata": {},
   "outputs": [],
   "source": [
    "cadena = 'aehceogneB olaznoG , 80'"
   ]
  },
  {
   "cell_type": "code",
   "execution_count": 12,
   "id": "294b73a3",
   "metadata": {},
   "outputs": [
    {
     "data": {
      "text/plain": [
       "'08 , Gonzalo Bengoechea'"
      ]
     },
     "execution_count": 12,
     "metadata": {},
     "output_type": "execute_result"
    }
   ],
   "source": [
    "cadena_volteada = cadena[::-1] #Indexacion toma todos los valores de la cadena leyendolos desde el ultimo\n",
    "cadena_volteada"
   ]
  },
  {
   "cell_type": "code",
   "execution_count": 17,
   "id": "04f3c7d2",
   "metadata": {},
   "outputs": [
    {
     "name": "stdout",
     "output_type": "stream",
     "text": [
      " Gonzalo Bengoechea ha sacado un 08\n"
     ]
    }
   ],
   "source": [
    "print(cadena_volteada[4::], 'ha sacado un', cadena_volteada[:2])"
   ]
  },
  {
   "cell_type": "markdown",
   "id": "49ae36df",
   "metadata": {},
   "source": [
    "### 3) Utilizando operadores logicos determina si una cadena de texto introducida por el usuario tiene una longitud mayor o igual a 3 y menor o igual a 12 (Basta con mostrar True o False)"
   ]
  },
  {
   "cell_type": "code",
   "execution_count": 21,
   "id": "6758f0e3",
   "metadata": {},
   "outputs": [
    {
     "name": "stdout",
     "output_type": "stream",
     "text": [
      "Escribe un texto: Hola mi nombre es Gonzalo\n",
      "La longitud de la cadena es mayor o igual a 3 pero menor o igual a 12? False\n"
     ]
    }
   ],
   "source": [
    "cadena = input('Escribe un texto: ')\n",
    "\n",
    "print('La longitud de la cadena es mayor o igual a 3 pero menor o igual a 12?', len(cadena) >= 3 and len(cadena) <= 12)"
   ]
  },
  {
   "cell_type": "markdown",
   "id": "1c7956df",
   "metadata": {},
   "source": [
    "### 4) Realiza un programa que lea 2 numeros por teclado y determine los siguientes aspectos (es suficiente con mostrar True o False)\n",
    "* Si los dos numeros son iguales\n",
    "* Si los dos numeros son diferentes\n",
    "* Si el primero es mayor que el segundo\n",
    "* Si el segundo es mayor o igual que el primero"
   ]
  },
  {
   "cell_type": "code",
   "execution_count": 24,
   "id": "977c4f1c",
   "metadata": {},
   "outputs": [
    {
     "name": "stdout",
     "output_type": "stream",
     "text": [
      "Ingrese el primer numero: 10\n",
      "Ingrese el segundo numero: 8\n",
      "Los numeros son iguales? False\n",
      "Los numeros son distintos? True\n",
      "El primer numero es mayor que el segundo? False\n",
      "El segundo numero es mayor o igual que el primero? True\n"
     ]
    }
   ],
   "source": [
    "num1 = input('Ingrese el primer numero: ')\n",
    "num2 = input('Ingrese el segundo numero: ')\n",
    "\n",
    "print('Los numeros son iguales?', num1 == num2)\n",
    "print('Los numeros son distintos?', num1 != num2)\n",
    "print('El primer numero es mayor que el segundo?', num1 > num2)\n",
    "print('El segundo numero es mayor o igual que el primero?', num2 >= num1)"
   ]
  }
 ],
 "metadata": {
  "kernelspec": {
   "display_name": "Python 3",
   "language": "python",
   "name": "python3"
  },
  "language_info": {
   "codemirror_mode": {
    "name": "ipython",
    "version": 3
   },
   "file_extension": ".py",
   "mimetype": "text/x-python",
   "name": "python",
   "nbconvert_exporter": "python",
   "pygments_lexer": "ipython3",
   "version": "3.8.8"
  }
 },
 "nbformat": 4,
 "nbformat_minor": 5
}
