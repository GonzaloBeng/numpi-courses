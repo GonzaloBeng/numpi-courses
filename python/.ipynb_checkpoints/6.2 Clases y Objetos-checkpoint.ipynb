{
 "cells": [
  {
   "cell_type": "markdown",
   "id": "294e4c7a",
   "metadata": {},
   "source": [
    "## 7.2 Clases y objetos\n",
    "\n",
    "### Las clases se asemejan a moldes que nos permiten crear objetos."
   ]
  },
  {
   "cell_type": "code",
   "execution_count": 1,
   "id": "501dc3eb",
   "metadata": {},
   "outputs": [],
   "source": [
    "class Torta:\n",
    "    pass"
   ]
  },
  {
   "cell_type": "markdown",
   "id": "41b35033",
   "metadata": {},
   "source": [
    "### El proceso de crear un objeto de su clase se llama instanciacion y por esto los objetos se conocen tambien como una instancia de clase."
   ]
  },
  {
   "cell_type": "code",
   "execution_count": 2,
   "id": "1fc088fc",
   "metadata": {},
   "outputs": [],
   "source": [
    "torta = Torta()\n",
    "\n",
    "torta_3_leches = Torta()"
   ]
  },
  {
   "cell_type": "code",
   "execution_count": 3,
   "id": "ab36ee0b",
   "metadata": {},
   "outputs": [
    {
     "data": {
      "text/plain": [
       "<__main__.Torta at 0x2620f6ca250>"
      ]
     },
     "execution_count": 3,
     "metadata": {},
     "output_type": "execute_result"
    }
   ],
   "source": [
    "torta"
   ]
  },
  {
   "cell_type": "code",
   "execution_count": 4,
   "id": "1a7c0871",
   "metadata": {},
   "outputs": [
    {
     "data": {
      "text/plain": [
       "<__main__.Torta at 0x2620f6ca1f0>"
      ]
     },
     "execution_count": 4,
     "metadata": {},
     "output_type": "execute_result"
    }
   ],
   "source": [
    "torta_3_leches"
   ]
  },
  {
   "cell_type": "code",
   "execution_count": null,
   "id": "7b1aff75",
   "metadata": {},
   "outputs": [],
   "source": []
  }
 ],
 "metadata": {
  "kernelspec": {
   "display_name": "Python 3",
   "language": "python",
   "name": "python3"
  },
  "language_info": {
   "codemirror_mode": {
    "name": "ipython",
    "version": 3
   },
   "file_extension": ".py",
   "mimetype": "text/x-python",
   "name": "python",
   "nbconvert_exporter": "python",
   "pygments_lexer": "ipython3",
   "version": "3.8.8"
  }
 },
 "nbformat": 4,
 "nbformat_minor": 5
}
