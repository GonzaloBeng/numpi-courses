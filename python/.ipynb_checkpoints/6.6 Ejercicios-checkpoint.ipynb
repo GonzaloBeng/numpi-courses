{
 "cells": [
  {
   "cell_type": "markdown",
   "id": "30404162",
   "metadata": {},
   "source": [
    "## 6.6 Ejercicios\n",
    "\n",
    "### Crea una clase llamada Punto con sus dos coordenadas X y Y.\n",
    "\n",
    "* Añade un metodo construstor para crear puntos, si no se recibe una coordenada, su valor sera cero.\n",
    "* Redefine el metodo string para que al imprimir por pantalla el punto aparezca en formato (X,Y)\n",
    "* Define el metodo Cuadrante que indique a que cuadrante pertenece cada punto.\n",
    "* Define el metodo Vector, cuyos parametros sean otro par de coordenadas y que calcule el vector que une los dos puntos.\n",
    "* Define el metodo Distancia, cuyos parametros sean otro par de coordenadas y que calcule la distancia entre los dos puntos y la muestre por pantalla.\n",
    "\n",
    "> PROTIP: en Python, la funcion raiz cuadrada se importa del modulo math y se llama sqrt()"
   ]
  },
  {
   "cell_type": "code",
   "execution_count": 19,
   "id": "a2f7468e",
   "metadata": {},
   "outputs": [],
   "source": [
    "import math\n",
    "\n",
    "class Punto:\n",
    "    \n",
    "    def __init__(self,x=None, y=None):\n",
    "        self.x = x\n",
    "        self.y = y\n",
    "        \n",
    "    def __str__(self):\n",
    "        return f'El punto es ({self.x},{self.y})'\n",
    "    \n",
    "    def cuadrante(self):\n",
    "        if self.x > 0:\n",
    "            if self.y > 0:\n",
    "                print(f'{self} se encuentra en el primer cuadrante.')\n",
    "            elif self.y < 0:\n",
    "                print(f'{self} se encuentra en el cuarto cuadrante.')\n",
    "            else:\n",
    "                print(f'{self} se encuentra sobre un eje cartesiano.')\n",
    "        elif self.x < 0:\n",
    "            if self.y > 0:\n",
    "                print(f'{self} se encuentra en el segundo cuadrante.')\n",
    "            elif self.y < 0:\n",
    "                print(f'{self} se encuentra en el tercer cuadrante.')\n",
    "            else:\n",
    "                print(f'{self} se encuentra sobre un eje cartesiano.')\n",
    "        else:\n",
    "            print(f'{self}o se encuentra sobre un eje cartesiano.')\n",
    "            \n",
    "    def vector(self,p):\n",
    "        print(f'El vector que une los puntos {self} y {p} es igual a ({p.x-self.x}, {p.y-self.y})')\n",
    "        \n",
    "    def distancia(self,p):\n",
    "        mod = math.sqrt( (p.x - self.x)**2 + (p.y - self.y)**2 )\n",
    "        print(f'La distancia entre los puntos {self} y {p} es {mod}')"
   ]
  },
  {
   "cell_type": "code",
   "execution_count": 20,
   "id": "de0e5cf3",
   "metadata": {},
   "outputs": [],
   "source": [
    "a = Punto(5,8)\n",
    "b = Punto(5,-8)\n",
    "c = Punto(-5,8)\n",
    "d = Punto(-5,-8)"
   ]
  },
  {
   "cell_type": "code",
   "execution_count": 21,
   "id": "15439b90",
   "metadata": {},
   "outputs": [
    {
     "name": "stdout",
     "output_type": "stream",
     "text": [
      "El punto es (5,8)\n",
      "El punto es (5,-8)\n",
      "El punto es (-5,8)\n",
      "El punto es (-5,-8)\n"
     ]
    }
   ],
   "source": [
    "print(str(a))\n",
    "print(str(b))\n",
    "print(str(c))\n",
    "print(str(d))"
   ]
  },
  {
   "cell_type": "code",
   "execution_count": 22,
   "id": "a7f8db70",
   "metadata": {},
   "outputs": [
    {
     "name": "stdout",
     "output_type": "stream",
     "text": [
      "El punto es (5,8) se encuentra en el primer cuadrante.\n"
     ]
    }
   ],
   "source": [
    "a.cuadrante()"
   ]
  },
  {
   "cell_type": "code",
   "execution_count": 23,
   "id": "7e1e02af",
   "metadata": {},
   "outputs": [
    {
     "name": "stdout",
     "output_type": "stream",
     "text": [
      "El punto es (5,-8) se encuentra en el cuarto cuadrante.\n"
     ]
    }
   ],
   "source": [
    "b.cuadrante()"
   ]
  },
  {
   "cell_type": "code",
   "execution_count": 24,
   "id": "04b7f3ad",
   "metadata": {},
   "outputs": [
    {
     "name": "stdout",
     "output_type": "stream",
     "text": [
      "El punto es (-5,8) se encuentra en el segundo cuadrante.\n"
     ]
    }
   ],
   "source": [
    "c.cuadrante()"
   ]
  },
  {
   "cell_type": "code",
   "execution_count": 25,
   "id": "93de5cca",
   "metadata": {},
   "outputs": [
    {
     "name": "stdout",
     "output_type": "stream",
     "text": [
      "El punto es (-5,-8) se encuentra en el tercer cuadrante.\n"
     ]
    }
   ],
   "source": [
    "d.cuadrante()"
   ]
  },
  {
   "cell_type": "code",
   "execution_count": 26,
   "id": "643067fc",
   "metadata": {},
   "outputs": [
    {
     "name": "stdout",
     "output_type": "stream",
     "text": [
      "El vector que une los puntos El punto es (5,8) y El punto es (-5,-8) es igual a (-10, -16)\n"
     ]
    }
   ],
   "source": [
    "a.vector(d)"
   ]
  },
  {
   "cell_type": "code",
   "execution_count": 27,
   "id": "9221360a",
   "metadata": {},
   "outputs": [
    {
     "name": "stdout",
     "output_type": "stream",
     "text": [
      "La distancia entre los puntos El punto es (5,8) y El punto es (-5,-8) es 18.867962264113206\n"
     ]
    }
   ],
   "source": [
    "a.distancia(d)"
   ]
  },
  {
   "cell_type": "markdown",
   "id": "c56e0ee8",
   "metadata": {},
   "source": [
    "### Crea una clase llamada Rectangulo con dos puntos (inicial y final) que formaran la diagonal del rectangulo.\n",
    "\n",
    "* Añade un metodo constructor para crear ambos puntos facilmente, si noi se envian se crearan dos puntos en el origen por defecto.\n",
    "* Añade al rectangulo un metodo llamado Mostrar_base que muestre la base.\n",
    "* Añade al rectangulo un metodo llamado Mostrar_altura que muestre la altura.\n",
    "* Añade al rectangulo un metodo llamado Mostrar_area que muestre el area."
   ]
  },
  {
   "cell_type": "code",
   "execution_count": 35,
   "id": "9d909a89",
   "metadata": {},
   "outputs": [],
   "source": [
    "class Rectangulo:\n",
    "    \n",
    "    def __init__(self, inicio=Punto(), final=Punto()):\n",
    "        self.inicio = inicio\n",
    "        self.final = final\n",
    "        self.base = abs(self.final.x - self.inicio.x)\n",
    "        self.altura = abs(self.final.y - self.inicio.y)\n",
    "        self.area = self.base * self.altura\n",
    "        \n",
    "    def mostrar_base(self):\n",
    "        print(f'La base del rectangulo es {self.base}')\n",
    "    \n",
    "    def mostrar_altura(self):\n",
    "        print(f'La altura del rectangulo es {self.altura}')\n",
    "              \n",
    "    def mostrar_area(self):\n",
    "        print(f'El area del rectangulo es {self.area}')"
   ]
  },
  {
   "cell_type": "code",
   "execution_count": 38,
   "id": "15298627",
   "metadata": {},
   "outputs": [],
   "source": [
    "rec = Rectangulo(a,d)"
   ]
  },
  {
   "cell_type": "code",
   "execution_count": 39,
   "id": "e443d969",
   "metadata": {},
   "outputs": [
    {
     "name": "stdout",
     "output_type": "stream",
     "text": [
      "El area del rectangulo es 160\n"
     ]
    }
   ],
   "source": [
    "rec.mostrar_area()"
   ]
  },
  {
   "cell_type": "code",
   "execution_count": 40,
   "id": "8a53efd3",
   "metadata": {},
   "outputs": [
    {
     "name": "stdout",
     "output_type": "stream",
     "text": [
      "La altura del rectangulo es 16\n"
     ]
    }
   ],
   "source": [
    "rec.mostrar_altura()"
   ]
  },
  {
   "cell_type": "code",
   "execution_count": 41,
   "id": "84a05a2e",
   "metadata": {},
   "outputs": [
    {
     "name": "stdout",
     "output_type": "stream",
     "text": [
      "La base del rectangulo es 10\n"
     ]
    }
   ],
   "source": [
    "rec.mostrar_base()"
   ]
  },
  {
   "cell_type": "code",
   "execution_count": null,
   "id": "533a864c",
   "metadata": {},
   "outputs": [],
   "source": []
  }
 ],
 "metadata": {
  "kernelspec": {
   "display_name": "Python 3",
   "language": "python",
   "name": "python3"
  },
  "language_info": {
   "codemirror_mode": {
    "name": "ipython",
    "version": 3
   },
   "file_extension": ".py",
   "mimetype": "text/x-python",
   "name": "python",
   "nbconvert_exporter": "python",
   "pygments_lexer": "ipython3",
   "version": "3.8.8"
  }
 },
 "nbformat": 4,
 "nbformat_minor": 5
}
