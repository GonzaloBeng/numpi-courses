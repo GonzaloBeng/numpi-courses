{
 "cells": [
  {
   "cell_type": "markdown",
   "id": "5d2d4e31",
   "metadata": {},
   "source": [
    "## 7.4 Ejercicios\n",
    "\n",
    "### 1) Crea una superclase llamada Vehiculo cuyos atributos sean Color y Ruedas. Redefine el metodo str para que devuelva por pantalla:\n",
    "\n",
    "> Color: {El color del vehiculo}, {Cantidad de ruedas} ruedas\n",
    "\n",
    "### Crea una subclase llamada Carro y agrega los atributos Velocidad, Cilindraje. Redefine el metodo str para que devuelva por pantalla\n",
    "\n",
    "> Color: {El color del vehiculo}, {Velocidad} Km/h, {Cantidad de ruedas} ruedas, {Cilindraje} cc"
   ]
  },
  {
   "cell_type": "code",
   "execution_count": 30,
   "id": "5755eb9e",
   "metadata": {},
   "outputs": [],
   "source": [
    "class Vehiculo():\n",
    "    \n",
    "    def __init__(self, color, ruedas):\n",
    "        self.color = color\n",
    "        self.ruedas = ruedas\n",
    "        \n",
    "    def __str__(self):\n",
    "        return 'Color {},{} ruedas'.format(self.color, self.ruedas)\n",
    "    \n",
    "    \n",
    "    \n",
    "class Carro(Vehiculo):\n",
    "              \n",
    "    def __init__(self, color, ruedas, velocidad, cilindraje):\n",
    "        self.color = color\n",
    "        self.ruedas = ruedas\n",
    "        self.velocidad = velocidad\n",
    "        self.cilindraje = cilindraje\n",
    "        \n",
    "    def __str__(self):\n",
    "        return 'Color {}, {} Km/h, {} ruedas, {} cc'.format(self.color, self.ruedas, self.velocidad, self.cilindraje)"
   ]
  },
  {
   "cell_type": "code",
   "execution_count": 31,
   "id": "172e5a6a",
   "metadata": {},
   "outputs": [],
   "source": [
    "peugeot = Carro('Rojo', 200, 4, 2000)"
   ]
  },
  {
   "cell_type": "code",
   "execution_count": 32,
   "id": "754f25fd",
   "metadata": {},
   "outputs": [
    {
     "name": "stdout",
     "output_type": "stream",
     "text": [
      "Color Rojo, 200 Km/h, 4 ruedas, 2000 cc\n"
     ]
    }
   ],
   "source": [
    "print(peugeot)"
   ]
  },
  {
   "cell_type": "code",
   "execution_count": 35,
   "id": "e50db1a6",
   "metadata": {},
   "outputs": [],
   "source": [
    "class Vehiculo():\n",
    "    \n",
    "    def __init__(self, color, ruedas):\n",
    "        self.color = color\n",
    "        self.ruedas = ruedas\n",
    "        \n",
    "    def __str__(self):\n",
    "        return 'Color {},{} ruedas'.format(self.color, self.ruedas)\n",
    "    \n",
    "    \n",
    "    \n",
    "class Carro(Vehiculo):\n",
    "              \n",
    "    def __init__(self, color, ruedas, velocidad, cilindraje):\n",
    "        Vehiculo.__init__(self, color, ruedas)\n",
    "        self.velocidad = velocidad\n",
    "        self.cilindraje = cilindraje\n",
    "        \n",
    "    def __str__(self):\n",
    "        return Vehiculo.__str__(self) + ', {} Km/h, {} cc'.format(self.velocidad, self.cilindraje)"
   ]
  },
  {
   "cell_type": "code",
   "execution_count": 36,
   "id": "161e4416",
   "metadata": {},
   "outputs": [
    {
     "name": "stdout",
     "output_type": "stream",
     "text": [
      "Color Azul,4 ruedas, 150 Km/h, 1600 cc\n"
     ]
    }
   ],
   "source": [
    "toyota = Carro('Azul', 4, 150, 1600)\n",
    "print(toyota)"
   ]
  },
  {
   "cell_type": "markdown",
   "id": "7e1c19ac",
   "metadata": {},
   "source": [
    "### 2) Extiende las subclases siguiendo el siguiente esquema:\n",
    "\n",
    "> PROTIP: Utiliza la funcion super()\n",
    "\n",
    "* Crea al menos un objeto de cada subclase y añadelos a una lista llamada Vehiculos\n",
    "* Define una funcion llamada catalogar() que reciba un argumento optativo ruedas. La idea es que muestre unicamente los vehiculos cuyo numero de ruedas coincida con el valor del argumento. Debe mostrar el siguiente mensaje solo si se envia el argumento ruedas:\n",
    "\n",
    "> Se han encontrado {} vehiculos con {} ruedas:"
   ]
  },
  {
   "cell_type": "code",
   "execution_count": 42,
   "id": "95e0580e",
   "metadata": {
    "scrolled": true
   },
   "outputs": [
    {
     "name": "stdout",
     "output_type": "stream",
     "text": [
      "Carro Color Azul,4 ruedas, 150 Km/h, 1200 cc\n",
      "Camioneta Color Blanco,4 ruedas, 100 Km/h, 1400 cc, 1500 Kg de carga\n",
      "Bicicleta Color Verde,2 ruedas, Urbana\n",
      "Motocicleta Color Negro,2 ruedas, Deportiva, 180 Km/h, 900 cc\n",
      "\n",
      "Se han encontrado 0 vehiculos con 0 ruedas\n",
      "\n",
      "Se han encontrado 2 vehiculos con 2 ruedas\n",
      "Bicicleta Color Verde,2 ruedas, Urbana\n",
      "Motocicleta Color Negro,2 ruedas, Deportiva, 180 Km/h, 900 cc\n",
      "\n",
      "Se han encontrado 2 vehiculos con 4 ruedas\n",
      "Carro Color Azul,4 ruedas, 150 Km/h, 1200 cc\n",
      "Camioneta Color Blanco,4 ruedas, 100 Km/h, 1400 cc, 1500 Kg de carga\n"
     ]
    }
   ],
   "source": [
    "class Vehiculo():\n",
    "    \n",
    "    def __init__(self, color, ruedas):\n",
    "        self.color = color\n",
    "        self.ruedas = ruedas\n",
    "        \n",
    "    def __str__(self):\n",
    "        return 'Color {},{} ruedas'.format(self.color, self.ruedas)\n",
    "    \n",
    "    \n",
    "    \n",
    "class Carro(Vehiculo):\n",
    "              \n",
    "    def __init__(self, color, ruedas, velocidad, cilindraje):\n",
    "        super().__init__(color, ruedas) # Se utiliza super()\n",
    "        self.velocidad = velocidad\n",
    "        self.cilindraje = cilindraje\n",
    "        \n",
    "    def __str__(self):\n",
    "        return super().__str__() + ', {} Km/h, {} cc'.format(self.velocidad, self.cilindraje)\n",
    "\n",
    "class Camioneta(Carro):\n",
    "              \n",
    "    def __init__(self, color, ruedas, velocidad, cilindraje, carga):\n",
    "        super().__init__(color, ruedas, velocidad, cilindraje)\n",
    "        self.carga = carga\n",
    "        \n",
    "    def __str__(self):\n",
    "        return super().__str__() + ', {} Kg de carga'.format(self.carga)\n",
    "    \n",
    "class Bicicleta(Vehiculo):\n",
    "              \n",
    "    def __init__(self, color, ruedas, tipo):\n",
    "        super().__init__(color, ruedas)\n",
    "        self.tipo = tipo\n",
    "        \n",
    "    def __str__(self):\n",
    "        return super().__str__() + ', {}'.format(self.tipo)\n",
    "\n",
    "class Motocicleta(Bicicleta):\n",
    "              \n",
    "    def __init__(self, color, ruedas, tipo, velocidad, cilindraje):\n",
    "        super().__init__(color, ruedas, tipo)\n",
    "        self.velocidad = velocidad\n",
    "        self.cilindraje = cilindraje\n",
    "        \n",
    "    def __str__(self):\n",
    "        return super().__str__() + ', {} Km/h, {} cc'.format(self.velocidad, self.cilindraje)\n",
    "    \n",
    "    \n",
    "\n",
    "# Def catalogar(vehiculos):\n",
    "#    f v in vehiculos:\n",
    "#       print(type(v).__name__,v)\n",
    "\n",
    "\n",
    "def catalogar(vehiculos, ruedas=None):\n",
    "    \n",
    "    if ruedas != None:\n",
    "        contador = 0\n",
    "        for v in vehiculos:\n",
    "            if v.ruedas == ruedas:\n",
    "                contador += 1\n",
    "        print('\\nSe han encontrado {} vehiculos con {} ruedas'.format(contador, ruedas))\n",
    "        \n",
    "    for v in vehiculos:\n",
    "        if ruedas == None:\n",
    "            print(type(v).__name__, v)\n",
    "        else:\n",
    "            if v.ruedas == ruedas:\n",
    "                print(type(v).__name__, v)\n",
    "                \n",
    "\n",
    "vehiculos = [\n",
    "    Carro('Azul', 4, 150, 1200),\n",
    "    Camioneta('Blanco', 4, 100, 1400, 1500),\n",
    "    Bicicleta('Verde', 2, 'Urbana'),\n",
    "    Motocicleta('Negro', 2, 'Deportiva', 180, 900)\n",
    "]\n",
    "\n",
    "catalogar(vehiculos)\n",
    "catalogar(vehiculos, 0)\n",
    "catalogar(vehiculos, 2)\n",
    "catalogar(vehiculos, 4)"
   ]
  },
  {
   "cell_type": "code",
   "execution_count": null,
   "id": "133b54cd",
   "metadata": {},
   "outputs": [],
   "source": []
  },
  {
   "cell_type": "code",
   "execution_count": null,
   "id": "08667079",
   "metadata": {},
   "outputs": [],
   "source": []
  }
 ],
 "metadata": {
  "kernelspec": {
   "display_name": "Python 3",
   "language": "python",
   "name": "python3"
  },
  "language_info": {
   "codemirror_mode": {
    "name": "ipython",
    "version": 3
   },
   "file_extension": ".py",
   "mimetype": "text/x-python",
   "name": "python",
   "nbconvert_exporter": "python",
   "pygments_lexer": "ipython3",
   "version": "3.8.8"
  }
 },
 "nbformat": 4,
 "nbformat_minor": 5
}
