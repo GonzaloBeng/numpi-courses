{
 "cells": [
  {
   "cell_type": "markdown",
   "id": "6e94ec71",
   "metadata": {},
   "source": [
    "## 4.6 Funciones integradas\n",
    "\n",
    "### Numericas"
   ]
  },
  {
   "cell_type": "code",
   "execution_count": 3,
   "id": "f3dc9755",
   "metadata": {},
   "outputs": [
    {
     "data": {
      "text/plain": [
       "(8, int)"
      ]
     },
     "execution_count": 3,
     "metadata": {},
     "output_type": "execute_result"
    }
   ],
   "source": [
    "n = int('8')\n",
    "n, type(n)"
   ]
  },
  {
   "cell_type": "code",
   "execution_count": 4,
   "id": "5d0dbb56",
   "metadata": {},
   "outputs": [
    {
     "data": {
      "text/plain": [
       "(10.5, float)"
      ]
     },
     "execution_count": 4,
     "metadata": {},
     "output_type": "execute_result"
    }
   ],
   "source": [
    "f = float('10.5')\n",
    "f,type(f)"
   ]
  },
  {
   "cell_type": "code",
   "execution_count": 6,
   "id": "1b301e35",
   "metadata": {},
   "outputs": [
    {
     "data": {
      "text/plain": [
       "'0b10011'"
      ]
     },
     "execution_count": 6,
     "metadata": {},
     "output_type": "execute_result"
    }
   ],
   "source": [
    "bin(19) #Numero Binario"
   ]
  },
  {
   "cell_type": "code",
   "execution_count": 7,
   "id": "ae4ebb8a",
   "metadata": {},
   "outputs": [
    {
     "data": {
      "text/plain": [
       "'0x1'"
      ]
     },
     "execution_count": 7,
     "metadata": {},
     "output_type": "execute_result"
    }
   ],
   "source": [
    "hex(1) #Numero Hexadecimal"
   ]
  },
  {
   "cell_type": "code",
   "execution_count": 8,
   "id": "54805c5e",
   "metadata": {},
   "outputs": [
    {
     "data": {
      "text/plain": [
       "'0xa'"
      ]
     },
     "execution_count": 8,
     "metadata": {},
     "output_type": "execute_result"
    }
   ],
   "source": [
    "hex(10)"
   ]
  },
  {
   "cell_type": "code",
   "execution_count": 12,
   "id": "13534805",
   "metadata": {},
   "outputs": [
    {
     "data": {
      "text/plain": [
       "19"
      ]
     },
     "execution_count": 12,
     "metadata": {},
     "output_type": "execute_result"
    }
   ],
   "source": [
    "int('0b10011',2) #Convertir a entero un numero binario (base 2)"
   ]
  },
  {
   "cell_type": "code",
   "execution_count": 13,
   "id": "fd9606d4",
   "metadata": {},
   "outputs": [
    {
     "data": {
      "text/plain": [
       "10"
      ]
     },
     "execution_count": 13,
     "metadata": {},
     "output_type": "execute_result"
    }
   ],
   "source": [
    "int('0xa',16) #Convertir de hexadecimal a entero (base 16)"
   ]
  },
  {
   "cell_type": "code",
   "execution_count": 15,
   "id": "ee8362c0",
   "metadata": {},
   "outputs": [
    {
     "data": {
      "text/plain": [
       "10"
      ]
     },
     "execution_count": 15,
     "metadata": {},
     "output_type": "execute_result"
    }
   ],
   "source": [
    "abs(-10) #Valor absoluto o modulo"
   ]
  },
  {
   "cell_type": "code",
   "execution_count": 16,
   "id": "b21b902a",
   "metadata": {},
   "outputs": [
    {
     "data": {
      "text/plain": [
       "6"
      ]
     },
     "execution_count": 16,
     "metadata": {},
     "output_type": "execute_result"
    }
   ],
   "source": [
    "round(5.5) #Redondear un numero"
   ]
  },
  {
   "cell_type": "code",
   "execution_count": 17,
   "id": "578f60bf",
   "metadata": {},
   "outputs": [
    {
     "data": {
      "text/plain": [
       "8"
      ]
     },
     "execution_count": 17,
     "metadata": {},
     "output_type": "execute_result"
    }
   ],
   "source": [
    "pow(2,3) #Elevar el primer numero a la potencia del segundo"
   ]
  },
  {
   "cell_type": "markdown",
   "id": "7ecdbbdd",
   "metadata": {},
   "source": [
    "### Otras funciones"
   ]
  },
  {
   "cell_type": "code",
   "execution_count": 18,
   "id": "4aca5710",
   "metadata": {},
   "outputs": [
    {
     "data": {
      "text/plain": [
       "['Para', 'separar', 'una', 'cadena']"
      ]
     },
     "execution_count": 18,
     "metadata": {},
     "output_type": "execute_result"
    }
   ],
   "source": [
    "'Para separar una cadena'.split()"
   ]
  },
  {
   "cell_type": "code",
   "execution_count": 19,
   "id": "db934a60",
   "metadata": {},
   "outputs": [
    {
     "data": {
      "text/plain": [
       "'ESTO SE PONE TODO EN MAYUSCULA'"
      ]
     },
     "execution_count": 19,
     "metadata": {},
     "output_type": "execute_result"
    }
   ],
   "source": [
    "'esto se pone todo en mayuscula'.upper()"
   ]
  },
  {
   "cell_type": "code",
   "execution_count": 21,
   "id": "8425cbb0",
   "metadata": {},
   "outputs": [
    {
     "data": {
      "text/plain": [
       "'y esto todo en minuscula'"
      ]
     },
     "execution_count": 21,
     "metadata": {},
     "output_type": "execute_result"
    }
   ],
   "source": [
    "'Y ESTO TODO EN MINUSCULA'.lower()"
   ]
  },
  {
   "cell_type": "code",
   "execution_count": 22,
   "id": "4d84c230",
   "metadata": {},
   "outputs": [],
   "source": [
    "a,b,c,d = zip(['A','B','C','D'], [10,12,13,14]) #Crea tuplas de dos listas por su indice"
   ]
  },
  {
   "cell_type": "code",
   "execution_count": 23,
   "id": "e8cad820",
   "metadata": {},
   "outputs": [
    {
     "data": {
      "text/plain": [
       "(('A', 10), ('B', 12), ('C', 13), ('D', 14))"
      ]
     },
     "execution_count": 23,
     "metadata": {},
     "output_type": "execute_result"
    }
   ],
   "source": [
    "a,b,c,d"
   ]
  },
  {
   "cell_type": "code",
   "execution_count": 24,
   "id": "603b9333",
   "metadata": {},
   "outputs": [
    {
     "data": {
      "text/plain": [
       "{'A': 10, 'B': 12, 'C': 13, 'D': 14}"
      ]
     },
     "execution_count": 24,
     "metadata": {},
     "output_type": "execute_result"
    }
   ],
   "source": [
    "dict(zip(['A','B','C','D'], [10,12,13,14]))"
   ]
  },
  {
   "cell_type": "code",
   "execution_count": null,
   "id": "6648d33b",
   "metadata": {},
   "outputs": [],
   "source": []
  }
 ],
 "metadata": {
  "kernelspec": {
   "display_name": "Python 3",
   "language": "python",
   "name": "python3"
  },
  "language_info": {
   "codemirror_mode": {
    "name": "ipython",
    "version": 3
   },
   "file_extension": ".py",
   "mimetype": "text/x-python",
   "name": "python",
   "nbconvert_exporter": "python",
   "pygments_lexer": "ipython3",
   "version": "3.8.8"
  }
 },
 "nbformat": 4,
 "nbformat_minor": 5
}
