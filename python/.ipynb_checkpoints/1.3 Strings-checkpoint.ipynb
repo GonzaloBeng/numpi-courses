{
 "cells": [
  {
   "cell_type": "markdown",
   "id": "3c79bb33",
   "metadata": {},
   "source": [
    "# <font color='green'>2.3 Strings:</font>"
   ]
  },
  {
   "cell_type": "markdown",
   "id": "fde4e590",
   "metadata": {},
   "source": [
    "## Consisten en secuencias de caracteres dentro de comillas. En Python las variables strings se pueden declarar indistintamente usando comillas simples ('') o dobles (\"\")."
   ]
  },
  {
   "cell_type": "code",
   "execution_count": 1,
   "id": "2ab66a1d",
   "metadata": {},
   "outputs": [
    {
     "data": {
      "text/plain": [
       "'Esto es un string'"
      ]
     },
     "execution_count": 1,
     "metadata": {},
     "output_type": "execute_result"
    }
   ],
   "source": [
    "\"Esto es un string\""
   ]
  },
  {
   "cell_type": "code",
   "execution_count": 2,
   "id": "968052d2",
   "metadata": {},
   "outputs": [
    {
     "data": {
      "text/plain": [
       "'Este texto es otro string'"
      ]
     },
     "execution_count": 2,
     "metadata": {},
     "output_type": "execute_result"
    }
   ],
   "source": [
    "'Este texto es otro string'"
   ]
  },
  {
   "cell_type": "code",
   "execution_count": 3,
   "id": "17f7088e",
   "metadata": {},
   "outputs": [],
   "source": [
    "nombre = 'Gonzalo'\n",
    "carrera = 'Lic. en Ciencia de Datos'"
   ]
  },
  {
   "cell_type": "code",
   "execution_count": 4,
   "id": "4c4a56de",
   "metadata": {},
   "outputs": [
    {
     "data": {
      "text/plain": [
       "str"
      ]
     },
     "execution_count": 4,
     "metadata": {},
     "output_type": "execute_result"
    }
   ],
   "source": [
    "type(nombre)"
   ]
  },
  {
   "cell_type": "code",
   "execution_count": 5,
   "id": "71d1989d",
   "metadata": {},
   "outputs": [
    {
     "name": "stdout",
     "output_type": "stream",
     "text": [
      "Gonzalo\n",
      "Lic. en Ciencia de Datos\n"
     ]
    }
   ],
   "source": [
    "print(nombre);\n",
    "print(carrera);"
   ]
  },
  {
   "cell_type": "markdown",
   "id": "152e2209",
   "metadata": {},
   "source": [
    "## <font color='purple'>Funcion print().</font>\n",
    "\n",
    "### Esta funcion nos permite mostrar por pantalla un texto y editar su presentacion con tabulaciones y saltos de linea."
   ]
  },
  {
   "cell_type": "code",
   "execution_count": 6,
   "id": "2221b7d0",
   "metadata": {},
   "outputs": [
    {
     "name": "stdout",
     "output_type": "stream",
     "text": [
      "Un string \tseparado por una tabulacion\n"
     ]
    }
   ],
   "source": [
    "print('Un string \\tseparado por una tabulacion')"
   ]
  },
  {
   "cell_type": "code",
   "execution_count": 10,
   "id": "0bceb0fb",
   "metadata": {},
   "outputs": [
    {
     "name": "stdout",
     "output_type": "stream",
     "text": [
      "Un string en una linea \n",
      "Un string en otra linea\n"
     ]
    }
   ],
   "source": [
    "print('Un string en una linea \\nUn string en otra linea')"
   ]
  },
  {
   "cell_type": "markdown",
   "id": "4aa2180b",
   "metadata": {},
   "source": [
    "### Para que la funcion print nos muestre un string sin procesar debemos indicarle que la cadena es de tipo crudo, agregando la letra r antes de abrir comillas."
   ]
  },
  {
   "cell_type": "code",
   "execution_count": 11,
   "id": "e55d1af4",
   "metadata": {},
   "outputs": [
    {
     "name": "stdout",
     "output_type": "stream",
     "text": [
      "c:\n",
      "ombre\n",
      "ombre_2\n"
     ]
    }
   ],
   "source": [
    "print(\"c:\\nombre\\nombre_2\")"
   ]
  },
  {
   "cell_type": "code",
   "execution_count": 12,
   "id": "ef02c6eb",
   "metadata": {},
   "outputs": [
    {
     "name": "stdout",
     "output_type": "stream",
     "text": [
      "c:\\nombre\\nombre_2\n"
     ]
    }
   ],
   "source": [
    "print(r\"c:\\nombre\\nombre_2\")"
   ]
  },
  {
   "cell_type": "markdown",
   "id": "fdffc30b",
   "metadata": {},
   "source": [
    "### Tambien podemos indicarle que deseamos mostrar el texto en varias lineas de la siguiente forma"
   ]
  },
  {
   "cell_type": "code",
   "execution_count": 13,
   "id": "17495e07",
   "metadata": {},
   "outputs": [
    {
     "name": "stdout",
     "output_type": "stream",
     "text": [
      "Linea 1 es esta\n",
      "y aqui tenemos la linea 2\n",
      "y esta es la 3\n",
      "y asi...\n",
      "asi...\n",
      "al infinito\n"
     ]
    }
   ],
   "source": [
    "print(\"\"\"Linea 1 es esta\n",
    "y aqui tenemos la linea 2\n",
    "y esta es la 3\n",
    "y asi...\n",
    "asi...\n",
    "al infinito\"\"\")"
   ]
  },
  {
   "cell_type": "code",
   "execution_count": null,
   "id": "d97a85a5",
   "metadata": {},
   "outputs": [],
   "source": []
  }
 ],
 "metadata": {
  "kernelspec": {
   "display_name": "Python 3",
   "language": "python",
   "name": "python3"
  },
  "language_info": {
   "codemirror_mode": {
    "name": "ipython",
    "version": 3
   },
   "file_extension": ".py",
   "mimetype": "text/x-python",
   "name": "python",
   "nbconvert_exporter": "python",
   "pygments_lexer": "ipython3",
   "version": "3.8.8"
  }
 },
 "nbformat": 4,
 "nbformat_minor": 5
}
