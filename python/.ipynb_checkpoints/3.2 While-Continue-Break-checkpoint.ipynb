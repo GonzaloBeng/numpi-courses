{
 "cells": [
  {
   "cell_type": "markdown",
   "id": "f197d85b",
   "metadata": {},
   "source": [
    "## 3.2 Bucle While\n",
    "\n",
    "### Un bucle es una secuencia que ejecuta reiteradas veces una accion hasta que la condicion asignada al bucle deja de cuimplirse. cada nueva ejecucion de la secuencia se denomina iteracion.\n",
    "\n",
    "### La sentencia While (Mientras) repite las operaciones dentro de un bloque *mientras* la condicion logica que evalua es *True* (verdadera).\n",
    "\n",
    "### El programador debe planificar un momento en que la operacion es False y el bucle se detiene. De otra forma se vuelve un bucle infinito."
   ]
  },
  {
   "cell_type": "code",
   "execution_count": 19,
   "id": "0db43769",
   "metadata": {},
   "outputs": [
    {
     "name": "stdout",
     "output_type": "stream",
     "text": [
      "Contador vale 1\n",
      "Contador vale 2\n",
      "Contador vale 3\n",
      "Contador vale 4\n",
      "Contador vale 5\n",
      "Contador vale 6\n"
     ]
    }
   ],
   "source": [
    "contador = 0\n",
    "\n",
    "while contador <= 5 :\n",
    "    contador +=1    \n",
    "    print('Contador vale', contador)\n"
   ]
  },
  {
   "cell_type": "code",
   "execution_count": 20,
   "id": "e06a6bd3",
   "metadata": {},
   "outputs": [
    {
     "name": "stdout",
     "output_type": "stream",
     "text": [
      "Contador vale 0\n",
      "Contador vale 1\n",
      "Contador vale 2\n",
      "Contador vale 3\n",
      "Contador vale 4\n",
      "Contador vale 5\n",
      "Se realizaron 6 iteraciones\n"
     ]
    }
   ],
   "source": [
    "c = 0\n",
    "\n",
    "while c<= 5:\n",
    "    print('Contador vale', c)\n",
    "    c +=1\n",
    "else:\n",
    "    print('Se realizaron {} iteraciones'.format(c))"
   ]
  },
  {
   "cell_type": "markdown",
   "id": "ae2e1af8",
   "metadata": {},
   "source": [
    "## Break\n",
    "\n",
    "### Con este comando detenemos el bucle en cualquier momento."
   ]
  },
  {
   "cell_type": "code",
   "execution_count": 21,
   "id": "be76c790",
   "metadata": {},
   "outputs": [
    {
     "name": "stdout",
     "output_type": "stream",
     "text": [
      "Contador vale 1\n",
      "Contador vale 2\n",
      "Contador vale 3\n",
      "Rompemos el bucle cuando C vale 4\n"
     ]
    }
   ],
   "source": [
    "contador = 0\n",
    "\n",
    "while contador <= 5:\n",
    "    contador +=1\n",
    "    if contador == 4:\n",
    "        print('Rompemos el bucle cuando C vale', contador)\n",
    "        break\n",
    "    print('Contador vale', contador)\n",
    "else:\n",
    "    print('Se realizaron {} iteraciones'.format(contador))"
   ]
  },
  {
   "cell_type": "markdown",
   "id": "11f5dea5",
   "metadata": {},
   "source": [
    "## Continue\n",
    "\n",
    "### Con este comando saltamos a la siguiente iteracion sin romper el bucle"
   ]
  },
  {
   "cell_type": "code",
   "execution_count": 22,
   "id": "d5bd1abe",
   "metadata": {},
   "outputs": [
    {
     "name": "stdout",
     "output_type": "stream",
     "text": [
      "Contador vale 1\n",
      "Contador vale 2\n",
      "Contador vale 3\n",
      "Ya que Contador vale 4 saltamos esta iteracion \n",
      "y continuamos con la siguiente\n",
      "Contador vale 5\n",
      "Contador vale 6\n",
      "Se realizaron 6 iteraciones\n"
     ]
    }
   ],
   "source": [
    "contador = 0\n",
    "\n",
    "while contador <= 5:\n",
    "    contador +=1\n",
    "    if contador == 4:\n",
    "        print('Ya que Contador vale {} saltamos esta iteracion \\ny continuamos con la siguiente'.format(contador))\n",
    "        continue\n",
    "    print('Contador vale', contador)\n",
    "else:\n",
    "    print('Se realizaron {} iteraciones'.format(contador))"
   ]
  },
  {
   "cell_type": "code",
   "execution_count": 30,
   "id": "c8ef1660",
   "metadata": {},
   "outputs": [
    {
     "name": "stdout",
     "output_type": "stream",
     "text": [
      "Bienvenido!\n",
      "\n",
      " Que quieres hacer? Ingresa una opcion\n",
      "    1. Saludar\n",
      "    2. Sumar dos numeros\n",
      "    3. Salir1\n",
      "Hola! Nosotros tambien te mandamos saludos!\n",
      "\n",
      " Que quieres hacer? Ingresa una opcion\n",
      "    1. Saludar\n",
      "    2. Sumar dos numeros\n",
      "    3. Salir2\n",
      "Ingrese el primer numero2\n",
      "Ingrese el segundo numero6\n",
      "La suma de sus numeros es 8.0\n",
      "\n",
      " Que quieres hacer? Ingresa una opcion\n",
      "    1. Saludar\n",
      "    2. Sumar dos numeros\n",
      "    3. Salir3\n",
      "Adios! Que te vaya bien!\n"
     ]
    }
   ],
   "source": [
    "# Menu de usuario\n",
    "\n",
    "print('Bienvenido!')\n",
    "\n",
    "while (True):\n",
    "    opcion = input('''\\n Que quieres hacer? Ingresa una opcion\n",
    "    1. Saludar\n",
    "    2. Sumar dos numeros\n",
    "    3. Salir''')\n",
    "    if opcion == '1':\n",
    "        print('Hola! Nosotros tambien te mandamos saludos!')\n",
    "    elif opcion == '2':\n",
    "        n1 = float(input('Ingrese el primer numero'))\n",
    "        n2 = float(input('Ingrese el segundo numero'))\n",
    "        print('La suma de sus numeros es {}'.format(n1+n2))\n",
    "    elif opcion == '3':\n",
    "        print('Adios! Que te vaya bien!')\n",
    "        break\n",
    "    else:\n",
    "        print('Ingrese una opcion valida')"
   ]
  },
  {
   "cell_type": "code",
   "execution_count": null,
   "id": "a8df2277",
   "metadata": {},
   "outputs": [],
   "source": []
  }
 ],
 "metadata": {
  "kernelspec": {
   "display_name": "Python 3",
   "language": "python",
   "name": "python3"
  },
  "language_info": {
   "codemirror_mode": {
    "name": "ipython",
    "version": 3
   },
   "file_extension": ".py",
   "mimetype": "text/x-python",
   "name": "python",
   "nbconvert_exporter": "python",
   "pygments_lexer": "ipython3",
   "version": "3.8.8"
  }
 },
 "nbformat": 4,
 "nbformat_minor": 5
}
