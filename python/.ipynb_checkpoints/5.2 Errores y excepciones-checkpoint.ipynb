{
 "cells": [
  {
   "cell_type": "markdown",
   "id": "707b72a8",
   "metadata": {},
   "source": [
    "## 5.2 Errores y excepciones\n",
    "\n",
    "### Los errores detienen la ejecucion de un programa. Se pueden presentar distintos tipos de errores.\n",
    "\n",
    "## Syntax error\n",
    "\n",
    "### Estos errores los podemos apreciar revisando el codigo ya que surgen cuando por desliz nos equivocamos escribiendolo."
   ]
  },
  {
   "cell_type": "code",
   "execution_count": 1,
   "id": "3e74483d",
   "metadata": {},
   "outputs": [
    {
     "ename": "SyntaxError",
     "evalue": "unexpected EOF while parsing (<ipython-input-1-84df3280101f>, line 1)",
     "output_type": "error",
     "traceback": [
      "\u001b[1;36m  File \u001b[1;32m\"<ipython-input-1-84df3280101f>\"\u001b[1;36m, line \u001b[1;32m1\u001b[0m\n\u001b[1;33m    print('Hola'\u001b[0m\n\u001b[1;37m                ^\u001b[0m\n\u001b[1;31mSyntaxError\u001b[0m\u001b[1;31m:\u001b[0m unexpected EOF while parsing\n"
     ]
    }
   ],
   "source": [
    "print('Hola'"
   ]
  },
  {
   "cell_type": "markdown",
   "id": "be7b93a3",
   "metadata": {},
   "source": [
    "## Name error\n",
    "\n",
    "### Estos errores surgen cuando nos equivocamos al declarar el nombre de algun objeto."
   ]
  },
  {
   "cell_type": "code",
   "execution_count": 2,
   "id": "30a51117",
   "metadata": {},
   "outputs": [
    {
     "ename": "NameError",
     "evalue": "name 'pint' is not defined",
     "output_type": "error",
     "traceback": [
      "\u001b[1;31m---------------------------------------------------------------------------\u001b[0m",
      "\u001b[1;31mNameError\u001b[0m                                 Traceback (most recent call last)",
      "\u001b[1;32m<ipython-input-2-9f191dc9db61>\u001b[0m in \u001b[0;36m<module>\u001b[1;34m\u001b[0m\n\u001b[1;32m----> 1\u001b[1;33m \u001b[0mpint\u001b[0m\u001b[1;33m(\u001b[0m\u001b[1;34m'Hola'\u001b[0m\u001b[1;33m)\u001b[0m\u001b[1;33m\u001b[0m\u001b[1;33m\u001b[0m\u001b[0m\n\u001b[0m",
      "\u001b[1;31mNameError\u001b[0m: name 'pint' is not defined"
     ]
    }
   ],
   "source": [
    "pint('Hola')"
   ]
  },
  {
   "cell_type": "markdown",
   "id": "de3a6773",
   "metadata": {},
   "source": [
    "### Esta clase de errores son identificados por el editor antes de ser ejecutado el codigo pero existen errores que pasan desapercibidos."
   ]
  },
  {
   "cell_type": "code",
   "execution_count": 3,
   "id": "36825c51",
   "metadata": {},
   "outputs": [
    {
     "ename": "IndexError",
     "evalue": "pop from empty list",
     "output_type": "error",
     "traceback": [
      "\u001b[1;31m---------------------------------------------------------------------------\u001b[0m",
      "\u001b[1;31mIndexError\u001b[0m                                Traceback (most recent call last)",
      "\u001b[1;32m<ipython-input-3-0d602a685b5e>\u001b[0m in \u001b[0;36m<module>\u001b[1;34m\u001b[0m\n\u001b[0;32m      1\u001b[0m \u001b[0mlis\u001b[0m \u001b[1;33m=\u001b[0m \u001b[1;33m[\u001b[0m\u001b[1;33m]\u001b[0m\u001b[1;33m\u001b[0m\u001b[1;33m\u001b[0m\u001b[0m\n\u001b[1;32m----> 2\u001b[1;33m \u001b[0mlis\u001b[0m\u001b[1;33m.\u001b[0m\u001b[0mpop\u001b[0m\u001b[1;33m(\u001b[0m\u001b[1;33m)\u001b[0m\u001b[1;33m\u001b[0m\u001b[1;33m\u001b[0m\u001b[0m\n\u001b[0m",
      "\u001b[1;31mIndexError\u001b[0m: pop from empty list"
     ]
    }
   ],
   "source": [
    "lis = []\n",
    "lis.pop()"
   ]
  },
  {
   "cell_type": "code",
   "execution_count": 5,
   "id": "f5a1b597",
   "metadata": {},
   "outputs": [
    {
     "name": "stdout",
     "output_type": "stream",
     "text": [
      "Ingresa un numero: 0\n"
     ]
    },
    {
     "ename": "TypeError",
     "evalue": "unsupported operand type(s) for /: 'str' and 'str'",
     "output_type": "error",
     "traceback": [
      "\u001b[1;31m---------------------------------------------------------------------------\u001b[0m",
      "\u001b[1;31mTypeError\u001b[0m                                 Traceback (most recent call last)",
      "\u001b[1;32m<ipython-input-5-2565b52f0b69>\u001b[0m in \u001b[0;36m<module>\u001b[1;34m\u001b[0m\n\u001b[0;32m      1\u001b[0m \u001b[0mnum\u001b[0m \u001b[1;33m=\u001b[0m \u001b[0minput\u001b[0m\u001b[1;33m(\u001b[0m\u001b[1;34m'Ingresa un numero: '\u001b[0m\u001b[1;33m)\u001b[0m\u001b[1;33m\u001b[0m\u001b[1;33m\u001b[0m\u001b[0m\n\u001b[1;32m----> 2\u001b[1;33m \u001b[1;34m'El numero {} y al dividirlo da {}'\u001b[0m\u001b[1;33m.\u001b[0m\u001b[0mformat\u001b[0m\u001b[1;33m(\u001b[0m\u001b[0mnum\u001b[0m\u001b[1;33m,\u001b[0m\u001b[0mnum\u001b[0m\u001b[1;33m/\u001b[0m\u001b[0mnum\u001b[0m\u001b[1;33m)\u001b[0m\u001b[1;33m\u001b[0m\u001b[1;33m\u001b[0m\u001b[0m\n\u001b[0m",
      "\u001b[1;31mTypeError\u001b[0m: unsupported operand type(s) for /: 'str' and 'str'"
     ]
    }
   ],
   "source": [
    "num = input('Ingresa un numero: ')\n",
    "'El numero {} y al dividirlo da {}'.format(num,num/num)"
   ]
  },
  {
   "cell_type": "markdown",
   "id": "b8fe01bb",
   "metadata": {},
   "source": [
    "## Excepciones\n",
    "\n",
    "### Son bloques de codigo que permiten continuar la ejecucion del codigo aun cuando se presenta algun error.\n",
    "\n",
    " ###  <font color=Blue>Try y Except </font>"
   ]
  },
  {
   "cell_type": "code",
   "execution_count": 6,
   "id": "f8276a99",
   "metadata": {},
   "outputs": [
    {
     "name": "stdout",
     "output_type": "stream",
     "text": [
      "Ingresa un numero: 0\n",
      "Por favor, intente de nuevo\n"
     ]
    }
   ],
   "source": [
    "try:\n",
    "    num = input('Ingresa un numero: ')\n",
    "    'El numero {} y al dividirlo da {}'.format(num,num/num)\n",
    "except:\n",
    "    print('Por favor, intente de nuevo')"
   ]
  },
  {
   "cell_type": "markdown",
   "id": "d4d0ca06",
   "metadata": {},
   "source": [
    "### Else y Finally"
   ]
  },
  {
   "cell_type": "code",
   "execution_count": 9,
   "id": "045b7335",
   "metadata": {},
   "outputs": [
    {
     "name": "stdout",
     "output_type": "stream",
     "text": [
      "Ingresa un numero: Hola\n",
      "Por favor, intente de nuevo\n",
      "Ingresa un numero: 9\n",
      "El numero 9 y al dividirlo da 1.0\n",
      "La ejecucion fue exitosa.\n"
     ]
    }
   ],
   "source": [
    "while (True):\n",
    "    try:\n",
    "        num = int(input('Ingresa un numero: '))\n",
    "        print('El numero {} y al dividirlo da {}'.format(num,num/num))\n",
    "    except:\n",
    "        print('Por favor, intente de nuevo')\n",
    "    else:\n",
    "        print('La ejecucion fue exitosa.')\n",
    "        break"
   ]
  },
  {
   "cell_type": "code",
   "execution_count": 10,
   "id": "d37c5c57",
   "metadata": {},
   "outputs": [
    {
     "name": "stdout",
     "output_type": "stream",
     "text": [
      "Ingresa un numero: Hola\n",
      "Por favor, intente de nuevo\n",
      "Fin del bucle.\n",
      "Ingresa un numero: 80\n",
      "El numero 80 y al dividirlo da 1.0\n",
      "La ejecucion fue exitosa.\n",
      "Fin del bucle.\n"
     ]
    }
   ],
   "source": [
    "while (True):\n",
    "    try:\n",
    "        num = int(input('Ingresa un numero: '))\n",
    "        print('El numero {} y al dividirlo da {}'.format(num,num/num))\n",
    "    except:\n",
    "        print('Por favor, intente de nuevo')\n",
    "    else:\n",
    "        print('La ejecucion fue exitosa.')\n",
    "        break\n",
    "    finally:\n",
    "        print('Fin del bucle.')"
   ]
  },
  {
   "cell_type": "code",
   "execution_count": null,
   "id": "59508ac1",
   "metadata": {},
   "outputs": [],
   "source": []
  }
 ],
 "metadata": {
  "kernelspec": {
   "display_name": "Python 3",
   "language": "python",
   "name": "python3"
  },
  "language_info": {
   "codemirror_mode": {
    "name": "ipython",
    "version": 3
   },
   "file_extension": ".py",
   "mimetype": "text/x-python",
   "name": "python",
   "nbconvert_exporter": "python",
   "pygments_lexer": "ipython3",
   "version": "3.8.8"
  }
 },
 "nbformat": 4,
 "nbformat_minor": 5
}
