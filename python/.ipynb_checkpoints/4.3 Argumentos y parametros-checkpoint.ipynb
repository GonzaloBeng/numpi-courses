{
 "cells": [
  {
   "cell_type": "markdown",
   "id": "4c7e6661",
   "metadata": {},
   "source": [
    "## 4.3 Argumentos y parametros"
   ]
  },
  {
   "cell_type": "code",
   "execution_count": 3,
   "id": "f5df519c",
   "metadata": {},
   "outputs": [
    {
     "data": {
      "text/plain": [
       "-1"
      ]
     },
     "execution_count": 3,
     "metadata": {},
     "output_type": "execute_result"
    }
   ],
   "source": [
    "def resta(a,b):\n",
    "    return a - b\n",
    "\n",
    "resta(1,2)"
   ]
  },
  {
   "cell_type": "markdown",
   "id": "f537e861",
   "metadata": {},
   "source": [
    "### Podemos definir un valor predeterminado para nuestros parametros"
   ]
  },
  {
   "cell_type": "code",
   "execution_count": 7,
   "id": "378a6ee6",
   "metadata": {},
   "outputs": [
    {
     "data": {
      "text/plain": [
       "'El resultado de 2 - 1 es 1'"
      ]
     },
     "execution_count": 7,
     "metadata": {},
     "output_type": "execute_result"
    }
   ],
   "source": [
    "def resta(a=None, b=None):\n",
    "    if a == None or b == None:\n",
    "        print('Error, enviar dos numeros a la funcion')\n",
    "        return\n",
    "    else:\n",
    "        return f'El resultado de {a} - {b} es {a - b}'\n",
    "\n",
    "resta(2,1)"
   ]
  },
  {
   "cell_type": "markdown",
   "id": "8a8e80d4",
   "metadata": {},
   "source": [
    "### Argumentos por valor"
   ]
  },
  {
   "cell_type": "code",
   "execution_count": 8,
   "id": "5c31c948",
   "metadata": {},
   "outputs": [
    {
     "data": {
      "text/plain": [
       "(20, 10)"
      ]
     },
     "execution_count": 8,
     "metadata": {},
     "output_type": "execute_result"
    }
   ],
   "source": [
    "def duplicar(numero):\n",
    "    return numero*2\n",
    "\n",
    "n = 10\n",
    "\n",
    "duplicar(n), n"
   ]
  },
  {
   "cell_type": "markdown",
   "id": "893286f7",
   "metadata": {},
   "source": [
    "### Argumentos por referencia"
   ]
  },
  {
   "cell_type": "code",
   "execution_count": 9,
   "id": "36490b52",
   "metadata": {},
   "outputs": [
    {
     "data": {
      "text/plain": [
       "([0, 2, 4, 6, 8], [0, 2, 4, 6, 8])"
      ]
     },
     "execution_count": 9,
     "metadata": {},
     "output_type": "execute_result"
    }
   ],
   "source": [
    "def duplicar_seq(numeros):\n",
    "    for i,n in enumerate(numeros):\n",
    "        numeros[i] *= 2\n",
    "    return numeros\n",
    "\n",
    "notas_a = list(range(5))\n",
    "\n",
    "notas_b = duplicar_seq(notas_a)\n",
    "\n",
    "notas_a, notas_b"
   ]
  },
  {
   "cell_type": "markdown",
   "id": "37ccb241",
   "metadata": {},
   "source": [
    "> PROTIP: Para enviar una copia de una lista a una funcion utilizar:\n",
    "nombre[:]"
   ]
  },
  {
   "cell_type": "code",
   "execution_count": 10,
   "id": "03e67ebf",
   "metadata": {},
   "outputs": [],
   "source": [
    "notas_c = list(range(6))"
   ]
  },
  {
   "cell_type": "code",
   "execution_count": 11,
   "id": "8ef3d480",
   "metadata": {},
   "outputs": [],
   "source": [
    "notas_d = duplicar_seq(notas_c[:])"
   ]
  },
  {
   "cell_type": "code",
   "execution_count": 12,
   "id": "de18159f",
   "metadata": {},
   "outputs": [
    {
     "data": {
      "text/plain": [
       "([0, 1, 2, 3, 4, 5], [0, 2, 4, 6, 8, 10])"
      ]
     },
     "execution_count": 12,
     "metadata": {},
     "output_type": "execute_result"
    }
   ],
   "source": [
    "notas_c, notas_d"
   ]
  },
  {
   "cell_type": "code",
   "execution_count": null,
   "id": "f6ea1cda",
   "metadata": {},
   "outputs": [],
   "source": []
  }
 ],
 "metadata": {
  "kernelspec": {
   "display_name": "Python 3",
   "language": "python",
   "name": "python3"
  },
  "language_info": {
   "codemirror_mode": {
    "name": "ipython",
    "version": 3
   },
   "file_extension": ".py",
   "mimetype": "text/x-python",
   "name": "python",
   "nbconvert_exporter": "python",
   "pygments_lexer": "ipython3",
   "version": "3.8.8"
  }
 },
 "nbformat": 4,
 "nbformat_minor": 5
}
