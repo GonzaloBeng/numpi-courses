{
 "cells": [
  {
   "cell_type": "markdown",
   "id": "85ac4380",
   "metadata": {},
   "source": [
    "## 4.8 Ejercicios\n",
    "\n",
    "### 1) Realiza una funcion llamada area_rectangulo() que devuelva el area de un rectangulo a partir de una base y una altura. Calcula el area de un rectangulo de 15 de base y 10 de altura."
   ]
  },
  {
   "cell_type": "code",
   "execution_count": 9,
   "id": "a7cdf590",
   "metadata": {},
   "outputs": [
    {
     "data": {
      "text/plain": [
       "'El area del rectangulo de base 15 y altura 10 es de 150'"
      ]
     },
     "execution_count": 9,
     "metadata": {},
     "output_type": "execute_result"
    }
   ],
   "source": [
    "def area_rectangulo(base,altura):\n",
    "    return f'El area del rectangulo de base {base} y altura {altura} es de {base * altura}'\n",
    "\n",
    "area_rectangulo(15,10)"
   ]
  },
  {
   "cell_type": "markdown",
   "id": "8a90a8ca",
   "metadata": {},
   "source": [
    "### 2) Realiza una funcion llamada area_circulo() que devuelva el area de un circulo a partir de un radio. Calcula el area de un circulo de 5 de radio"
   ]
  },
  {
   "cell_type": "code",
   "execution_count": 10,
   "id": "192ec303",
   "metadata": {},
   "outputs": [
    {
     "data": {
      "text/plain": [
       "'El area de un circulo de 5 de radio es de 78.5'"
      ]
     },
     "execution_count": 10,
     "metadata": {},
     "output_type": "execute_result"
    }
   ],
   "source": [
    "def area_circulo(radio):\n",
    "    area = 3.14 *(radio**2)\n",
    "    return f'El area de un circulo de {radio} de radio es de {area}'\n",
    "\n",
    "area_circulo(5)"
   ]
  },
  {
   "cell_type": "markdown",
   "id": "02a53e22",
   "metadata": {},
   "source": [
    "> PROTIP: Utilizando el modulo math con la linea *import math*"
   ]
  },
  {
   "cell_type": "code",
   "execution_count": 11,
   "id": "4a19f855",
   "metadata": {},
   "outputs": [
    {
     "data": {
      "text/plain": [
       "'El area de un circulo de 5 de radio es de 78.53981633974483'"
      ]
     },
     "execution_count": 11,
     "metadata": {},
     "output_type": "execute_result"
    }
   ],
   "source": [
    "import math\n",
    "\n",
    "def area_circulo(radio):\n",
    "    area = math.pi *(radio**2)\n",
    "    return f'El area de un circulo de {radio} de radio es de {area}'\n",
    "\n",
    "area_circulo(5)"
   ]
  },
  {
   "cell_type": "markdown",
   "id": "21d48bf3",
   "metadata": {},
   "source": [
    "### 3) Realiza una funcion llamada relacion() que a partir de dos numeros cumpla lo siguiente:\n",
    "\n",
    "* Si el primer numero es mayor que el segundo, debe devolver 1\n",
    "* Si el primer numero es menor que el segundo, debe devolver -1\n",
    "* Si ambos numeros son iguales, debe devolver 0"
   ]
  },
  {
   "cell_type": "code",
   "execution_count": 16,
   "id": "a8d72f66",
   "metadata": {},
   "outputs": [
    {
     "name": "stdout",
     "output_type": "stream",
     "text": [
      "-1\n",
      "1\n",
      "0\n"
     ]
    }
   ],
   "source": [
    "def relacion(x,y):\n",
    "    if x > y:\n",
    "        return 1\n",
    "    elif x < y:\n",
    "        return -1\n",
    "    else:\n",
    "        return 0\n",
    "\n",
    "print(relacion(1,3))\n",
    "print(relacion(3,1))\n",
    "print(relacion(3,3))"
   ]
  },
  {
   "cell_type": "markdown",
   "id": "3edc9b99",
   "metadata": {},
   "source": [
    "### 4) Realiza una funcion llamada intermedio() que a partir de dos puntos, devuelva su punto intermedio."
   ]
  },
  {
   "cell_type": "code",
   "execution_count": 18,
   "id": "0485aa9a",
   "metadata": {},
   "outputs": [
    {
     "name": "stdout",
     "output_type": "stream",
     "text": [
      "4\n",
      "5\n",
      "8\n"
     ]
    }
   ],
   "source": [
    "def intermedio(x,y):\n",
    "    return int((x+y)/2)\n",
    "\n",
    "print(intermedio(2,6))\n",
    "print(intermedio(3,7))\n",
    "print(intermedio(6,10))"
   ]
  },
  {
   "cell_type": "markdown",
   "id": "169a734d",
   "metadata": {},
   "source": [
    "### 5) Realiza una funcion llamada recortar() que reciba 3 parametros. El primero es el numero a recortar, el segundo es el limite inferior y el tercero el limite superior. La funcion tendra que cumplir con lo siguiente:\n",
    "\n",
    "* Devolver el limite inferior si el numero es menor que este.\n",
    "* Devolver el numero superior si el numero es mayor que este.\n",
    "* Devolver el numero sin cambios si no se supera ningun limite."
   ]
  },
  {
   "cell_type": "code",
   "execution_count": 20,
   "id": "d8373684",
   "metadata": {},
   "outputs": [
    {
     "name": "stdout",
     "output_type": "stream",
     "text": [
      "0\n",
      "5\n",
      "3\n"
     ]
    }
   ],
   "source": [
    "def recortar(x,y,z):\n",
    "    if x < y:\n",
    "        return y\n",
    "    elif x > z:\n",
    "        return z\n",
    "    else:\n",
    "        return x\n",
    "\n",
    "print(recortar(-3,0,5))\n",
    "print(recortar(6,0,5))\n",
    "print(recortar(3,0,5))"
   ]
  },
  {
   "cell_type": "markdown",
   "id": "6dcad683",
   "metadata": {},
   "source": [
    "### 6) Realiza una funcion separar() que tome la lista de numeros enteros y devuelva dos listas ordenadas: la primera con los numeros pares y la segunda con los numeros impares:\n",
    "\n",
    "### Ejemplo:\n",
    "* pares, impares = separar([1,2,4,5,7,8])\n",
    "* print(pares) = [2,4,8]\n",
    "* print(impares) = [1,5,7]"
   ]
  },
  {
   "cell_type": "code",
   "execution_count": 24,
   "id": "d41ae482",
   "metadata": {},
   "outputs": [
    {
     "data": {
      "text/plain": [
       "[1, 2, 3, 4, 5, 6, 7, 8, 9, 10]"
      ]
     },
     "execution_count": 24,
     "metadata": {},
     "output_type": "execute_result"
    }
   ],
   "source": [
    "numeros = [1,2,3,4,5,6,7,8,9,10]\n",
    "numeros\n",
    "\n"
   ]
  },
  {
   "cell_type": "code",
   "execution_count": 26,
   "id": "30db1e18",
   "metadata": {},
   "outputs": [
    {
     "name": "stdout",
     "output_type": "stream",
     "text": [
      "[2, 4, 6, 8, 10]\n",
      "[1, 3, 5, 7, 9]\n"
     ]
    }
   ],
   "source": [
    "def separar(lista):\n",
    "    lista.sort()\n",
    "    pares = []\n",
    "    impares = []\n",
    "    for n in lista:\n",
    "        if n%2 == 0:\n",
    "            pares.append(n)\n",
    "        else:\n",
    "            impares.append(n)\n",
    "    return pares, impares\n",
    "    \n",
    "pares,impares = separar(numeros)\n",
    "print(pares)\n",
    "print(impares)"
   ]
  },
  {
   "cell_type": "code",
   "execution_count": null,
   "id": "22aeb311",
   "metadata": {},
   "outputs": [],
   "source": []
  }
 ],
 "metadata": {
  "kernelspec": {
   "display_name": "Python 3",
   "language": "python",
   "name": "python3"
  },
  "language_info": {
   "codemirror_mode": {
    "name": "ipython",
    "version": 3
   },
   "file_extension": ".py",
   "mimetype": "text/x-python",
   "name": "python",
   "nbconvert_exporter": "python",
   "pygments_lexer": "ipython3",
   "version": "3.8.8"
  }
 },
 "nbformat": 4,
 "nbformat_minor": 5
}
