{
 "cells": [
  {
   "cell_type": "markdown",
   "id": "59fa142c",
   "metadata": {},
   "source": [
    "## 4.1 If / Else / Elif: Sentencias condicionales\n",
    "\n",
    "### En Python existen las sentencias condicionales *if, else, elif (eslse if)* que nos permitendividir el flujo de un programa en diferentes caminos.\n",
    "\n",
    "### Para hacer esto definimos un bloque de instrucciones que se ejecutaran solo si la condicion previa se cumple (es verdadera)."
   ]
  },
  {
   "cell_type": "code",
   "execution_count": 1,
   "id": "4d3957b8",
   "metadata": {},
   "outputs": [
    {
     "name": "stdout",
     "output_type": "stream",
     "text": [
      "Hey\n"
     ]
    }
   ],
   "source": [
    "if (True):\n",
    "    print('Hey')"
   ]
  },
  {
   "cell_type": "code",
   "execution_count": 6,
   "id": "90dd3097",
   "metadata": {},
   "outputs": [
    {
     "name": "stdout",
     "output_type": "stream",
     "text": [
      "X vale 6\n"
     ]
    }
   ],
   "source": [
    "x = 6\n",
    "\n",
    "if x  == 6:\n",
    "    print('X vale 6')"
   ]
  },
  {
   "cell_type": "code",
   "execution_count": 7,
   "id": "2ea4cb37",
   "metadata": {},
   "outputs": [
    {
     "name": "stdout",
     "output_type": "stream",
     "text": [
      "X vale 6\n"
     ]
    }
   ],
   "source": [
    "if x  == 2:\n",
    "    print('X vale 2')\n",
    "if x  == 6:\n",
    "    print('X vale 6')"
   ]
  },
  {
   "cell_type": "markdown",
   "id": "4c0f7352",
   "metadata": {},
   "source": [
    "### Podemos escribir varios if anidados respetando la identacion"
   ]
  },
  {
   "cell_type": "code",
   "execution_count": 9,
   "id": "c2c73f74",
   "metadata": {},
   "outputs": [
    {
     "name": "stdout",
     "output_type": "stream",
     "text": [
      "A vale 10 y B vale 5\n",
      "A vale 10\n",
      "B vale 5\n"
     ]
    }
   ],
   "source": [
    "a = 10\n",
    "b = 5\n",
    "\n",
    "if a == 10:\n",
    "    if b == 5:\n",
    "        print('A vale 10 y B vale 5')\n",
    "if a == 10:\n",
    "    print('A vale {}'.format(a))\n",
    "    if b == 5:\n",
    "        print('B vale {}'.format(b))"
   ]
  },
  {
   "cell_type": "markdown",
   "id": "25092fdc",
   "metadata": {},
   "source": [
    "### Tambien podemos incluir en estas sentencias operadores logicos para aumentar su eficiencia y legibilidad."
   ]
  },
  {
   "cell_type": "code",
   "execution_count": 11,
   "id": "37f654ed",
   "metadata": {},
   "outputs": [
    {
     "name": "stdout",
     "output_type": "stream",
     "text": [
      "A vale 10, y B vale 5\n"
     ]
    }
   ],
   "source": [
    "if a == 10 and b == 5:\n",
    "    print('A vale {}, y B vale {}'.format(a,b))"
   ]
  },
  {
   "cell_type": "markdown",
   "id": "8d7154ce",
   "metadata": {},
   "source": [
    "## Else y Elif\n",
    "\n",
    "### Else (si no) se encadena al final del bloque para abrir una nueva lista de instrucciones.\n",
    "\n",
    "#### Este comando nos permite definir el camino que se ejecuta si la condicion original no se cumple.\n",
    "\n",
    "### Elif (si no, si) establece una nueva condicin que se encadena a otro *if* o *elif* cuya condicion resulto *False* (no se cumplio).\n",
    "\n",
    "#### Esto nos permite establecer multiples condiciones para lidiar con los multiples posibles entradas que el programa puede recibir."
   ]
  },
  {
   "cell_type": "code",
   "execution_count": 12,
   "id": "ac9f99d9",
   "metadata": {},
   "outputs": [
    {
     "name": "stdout",
     "output_type": "stream",
     "text": [
      "13 es numero impar\n"
     ]
    }
   ],
   "source": [
    "z = 13\n",
    "\n",
    "if z % 2 == 0:\n",
    "    print(z, 'es un numero par')\n",
    "else:\n",
    "    print(z,'es numero impar')"
   ]
  },
  {
   "cell_type": "code",
   "execution_count": 17,
   "id": "347818bf",
   "metadata": {},
   "outputs": [
    {
     "name": "stdout",
     "output_type": "stream",
     "text": [
      "Que desea hacer?\n",
      "Saludar\n",
      "Buenas Noches\n"
     ]
    }
   ],
   "source": [
    "# Respuestas dinamicas\n",
    "texto = input('Que desea hacer?\\n')\n",
    "\n",
    "if texto == 'Saludar':\n",
    "    print('Buenas Noches')\n",
    "elif texto == 'Retirarse':\n",
    "    print('Nos vemos!')\n",
    "else:\n",
    "    print('Ingrese una entrada valida')"
   ]
  },
  {
   "cell_type": "code",
   "execution_count": 21,
   "id": "1c9d3d12",
   "metadata": {},
   "outputs": [
    {
     "name": "stdout",
     "output_type": "stream",
     "text": [
      "Introduce la calificacion: \n",
      "3\n",
      "Desaprobado\n"
     ]
    }
   ],
   "source": [
    "# Clasificador\n",
    "\n",
    "puntaje = float(input('Introduce la calificacion: \\n'))\n",
    "\n",
    "if puntaje >= 7:\n",
    "    print('Promociona')\n",
    "elif puntaje >= 4 and puntaje <7:\n",
    "    print('Aprobado')\n",
    "else:\n",
    "    print('Desaprobado')"
   ]
  },
  {
   "cell_type": "code",
   "execution_count": null,
   "id": "aa2cb774",
   "metadata": {},
   "outputs": [],
   "source": []
  }
 ],
 "metadata": {
  "kernelspec": {
   "display_name": "Python 3",
   "language": "python",
   "name": "python3"
  },
  "language_info": {
   "codemirror_mode": {
    "name": "ipython",
    "version": 3
   },
   "file_extension": ".py",
   "mimetype": "text/x-python",
   "name": "python",
   "nbconvert_exporter": "python",
   "pygments_lexer": "ipython3",
   "version": "3.8.8"
  }
 },
 "nbformat": 4,
 "nbformat_minor": 5
}
