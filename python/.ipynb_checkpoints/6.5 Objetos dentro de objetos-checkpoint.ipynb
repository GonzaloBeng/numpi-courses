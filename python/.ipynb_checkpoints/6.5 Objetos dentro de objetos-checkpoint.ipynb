{
 "cells": [
  {
   "cell_type": "markdown",
   "id": "21751df4",
   "metadata": {},
   "source": [
    "## 6.5 Objetos dentro de objetos"
   ]
  },
  {
   "cell_type": "code",
   "execution_count": 3,
   "id": "d43b0d39",
   "metadata": {},
   "outputs": [],
   "source": [
    "class Videojuego:\n",
    "    \n",
    "    #Constructor de clase\n",
    "    def __init__(self,titulo,genero,lanzamiento):\n",
    "        self.titulo = titulo\n",
    "        self.genero = genero\n",
    "        self.lanzamiento = lanzamiento\n",
    "        print('Se creo el videojuego:', self.titulo)\n",
    "        \n",
    "    def __str__(self):\n",
    "        return '{} ({})'.format(self.titulo, self.lanzamiento)"
   ]
  },
  {
   "cell_type": "code",
   "execution_count": 4,
   "id": "87351ecb",
   "metadata": {},
   "outputs": [
    {
     "name": "stdout",
     "output_type": "stream",
     "text": [
      "Se creo el videojuego: The Last of Us\n"
     ]
    },
    {
     "data": {
      "text/plain": [
       "'The Last of Us (2013)'"
      ]
     },
     "execution_count": 4,
     "metadata": {},
     "output_type": "execute_result"
    }
   ],
   "source": [
    "vj = Videojuego('The Last of Us', 'Accion', 2013)\n",
    "str(vj)"
   ]
  },
  {
   "cell_type": "code",
   "execution_count": 5,
   "id": "070f0241",
   "metadata": {},
   "outputs": [],
   "source": [
    "class Catalogo:\n",
    "    \n",
    "    vjuegos = [] # Esta lista contendra objetos de la clase videojuego\n",
    "    \n",
    "    def __init__(self, vjuegos=[]):\n",
    "        self.vjuegos = vjuegos\n",
    "        \n",
    "    def agregar(self,v): #V sera el objeto de clase videojuego\n",
    "        self.vjuegos.append(v)\n",
    "        \n",
    "    def mostrar(self):\n",
    "        for v in self.vjuegos:\n",
    "            print(v) #Print toma por defecto str(v)"
   ]
  },
  {
   "cell_type": "code",
   "execution_count": 6,
   "id": "bd4351bb",
   "metadata": {},
   "outputs": [
    {
     "name": "stdout",
     "output_type": "stream",
     "text": [
      "Se creo el videojuego: The Last of Us II\n"
     ]
    }
   ],
   "source": [
    "vi = Videojuego('The Last of Us II', 'Accion', 2020)"
   ]
  },
  {
   "cell_type": "code",
   "execution_count": 7,
   "id": "ecd652bc",
   "metadata": {},
   "outputs": [],
   "source": [
    "c = Catalogo([vj,vi])"
   ]
  },
  {
   "cell_type": "code",
   "execution_count": 9,
   "id": "a5cfcd72",
   "metadata": {},
   "outputs": [
    {
     "name": "stdout",
     "output_type": "stream",
     "text": [
      "The Last of Us (2013)\n",
      "The Last of Us II (2020)\n"
     ]
    }
   ],
   "source": [
    "c.mostrar()"
   ]
  },
  {
   "cell_type": "code",
   "execution_count": 10,
   "id": "e10d8aad",
   "metadata": {},
   "outputs": [
    {
     "name": "stdout",
     "output_type": "stream",
     "text": [
      "Se creo el videojuego: Detroit become human\n"
     ]
    }
   ],
   "source": [
    "c.agregar(Videojuego('Detroit become human', 'Accion', 2018))"
   ]
  },
  {
   "cell_type": "code",
   "execution_count": 11,
   "id": "326e36af",
   "metadata": {},
   "outputs": [
    {
     "name": "stdout",
     "output_type": "stream",
     "text": [
      "The Last of Us (2013)\n",
      "The Last of Us II (2020)\n",
      "Detroit become human (2018)\n"
     ]
    }
   ],
   "source": [
    "c.mostrar()"
   ]
  },
  {
   "cell_type": "code",
   "execution_count": null,
   "id": "2229d937",
   "metadata": {},
   "outputs": [],
   "source": []
  }
 ],
 "metadata": {
  "kernelspec": {
   "display_name": "Python 3",
   "language": "python",
   "name": "python3"
  },
  "language_info": {
   "codemirror_mode": {
    "name": "ipython",
    "version": 3
   },
   "file_extension": ".py",
   "mimetype": "text/x-python",
   "name": "python",
   "nbconvert_exporter": "python",
   "pygments_lexer": "ipython3",
   "version": "3.8.8"
  }
 },
 "nbformat": 4,
 "nbformat_minor": 5
}
