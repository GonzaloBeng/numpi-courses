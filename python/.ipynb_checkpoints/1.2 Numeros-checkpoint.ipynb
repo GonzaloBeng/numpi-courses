{
 "cells": [
  {
   "cell_type": "markdown",
   "id": "e5e81bc0",
   "metadata": {},
   "source": [
    "# 1.2 Numeros"
   ]
  },
  {
   "cell_type": "markdown",
   "id": "dee9c503",
   "metadata": {},
   "source": [
    "### Podemos asignarle valores numericos a las variables. Python tiene 4 tipos de variables para almacenarlos"
   ]
  },
  {
   "cell_type": "code",
   "execution_count": 1,
   "id": "05d15c96",
   "metadata": {},
   "outputs": [
    {
     "data": {
      "text/plain": [
       "3"
      ]
     },
     "execution_count": 1,
     "metadata": {},
     "output_type": "execute_result"
    }
   ],
   "source": [
    "1+2"
   ]
  },
  {
   "cell_type": "code",
   "execution_count": 2,
   "id": "19e5a86a",
   "metadata": {},
   "outputs": [
    {
     "data": {
      "text/plain": [
       "10"
      ]
     },
     "execution_count": 2,
     "metadata": {},
     "output_type": "execute_result"
    }
   ],
   "source": [
    "2*5"
   ]
  },
  {
   "cell_type": "markdown",
   "id": "f6c0e151",
   "metadata": {},
   "source": [
    "## 4 tipos de variables para guardar\n",
    "### 1) INT\n",
    "#### Para numeros enteros"
   ]
  },
  {
   "cell_type": "code",
   "execution_count": 3,
   "id": "6ea7eaae",
   "metadata": {},
   "outputs": [],
   "source": [
    "x = 3"
   ]
  },
  {
   "cell_type": "markdown",
   "id": "8557312b",
   "metadata": {},
   "source": [
    "### 2) Float\n",
    "#### Para numeros decimales"
   ]
  },
  {
   "cell_type": "code",
   "execution_count": 4,
   "id": "65c9320c",
   "metadata": {},
   "outputs": [],
   "source": [
    "y = 4.5"
   ]
  },
  {
   "cell_type": "code",
   "execution_count": 7,
   "id": "419e43ab",
   "metadata": {},
   "outputs": [
    {
     "data": {
      "text/plain": [
       "float"
      ]
     },
     "execution_count": 7,
     "metadata": {},
     "output_type": "execute_result"
    }
   ],
   "source": [
    "type(y) ####Muestra en consola el tipo de la variable"
   ]
  },
  {
   "cell_type": "markdown",
   "id": "cbbed4de",
   "metadata": {},
   "source": [
    "### 3) Complex\n",
    "#### Para numeros complejos, o sea, de la forma (A + Bj) donde la unidad imaginaria esta representada por j."
   ]
  },
  {
   "cell_type": "code",
   "execution_count": 8,
   "id": "151d86e4",
   "metadata": {},
   "outputs": [],
   "source": [
    "c = 1+2j;"
   ]
  },
  {
   "cell_type": "code",
   "execution_count": 9,
   "id": "7f88c371",
   "metadata": {},
   "outputs": [
    {
     "data": {
      "text/plain": [
       "((1+2j), complex)"
      ]
     },
     "execution_count": 9,
     "metadata": {},
     "output_type": "execute_result"
    }
   ],
   "source": [
    "c, type(c)"
   ]
  },
  {
   "cell_type": "code",
   "execution_count": 10,
   "id": "a0cf96c6",
   "metadata": {},
   "outputs": [],
   "source": [
    "parte_real = c.real\n",
    "parte_imaginaria = c.imag"
   ]
  },
  {
   "cell_type": "code",
   "execution_count": 11,
   "id": "57e70238",
   "metadata": {},
   "outputs": [
    {
     "data": {
      "text/plain": [
       "(1.0, 2.0)"
      ]
     },
     "execution_count": 11,
     "metadata": {},
     "output_type": "execute_result"
    }
   ],
   "source": [
    "parte_real, parte_imaginaria"
   ]
  },
  {
   "cell_type": "code",
   "execution_count": null,
   "id": "20ffb99c",
   "metadata": {},
   "outputs": [],
   "source": []
  }
 ],
 "metadata": {
  "kernelspec": {
   "display_name": "Python 3",
   "language": "python",
   "name": "python3"
  },
  "language_info": {
   "codemirror_mode": {
    "name": "ipython",
    "version": 3
   },
   "file_extension": ".py",
   "mimetype": "text/x-python",
   "name": "python",
   "nbconvert_exporter": "python",
   "pygments_lexer": "ipython3",
   "version": "3.8.8"
  }
 },
 "nbformat": 4,
 "nbformat_minor": 5
}
