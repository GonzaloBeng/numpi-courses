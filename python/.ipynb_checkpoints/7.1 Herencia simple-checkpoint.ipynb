{
 "cells": [
  {
   "cell_type": "markdown",
   "id": "1b005f01",
   "metadata": {},
   "source": [
    "## 7.1 Herencia Simple"
   ]
  },
  {
   "cell_type": "code",
   "execution_count": 1,
   "id": "a0895320",
   "metadata": {},
   "outputs": [
    {
     "name": "stdout",
     "output_type": "stream",
     "text": [
      "<__main__.Producto object at 0x000001990C82DCD0>\n",
      "Harina de maiz (1kg), Carne de res (2kg), Detergente para ropa (500g)\n"
     ]
    }
   ],
   "source": [
    "class Producto:\n",
    "    def __init__(self, ref, nombre, pvp, description, marca=None, categoria=None, talla=None):\n",
    "        self.ref = ref\n",
    "        self.nombre = nombre\n",
    "        self.pvp = pvp\n",
    "        self.description = description\n",
    "        self.marca = marca\n",
    "        self.categoria = categoria\n",
    "        self.talla = talla\n",
    "    \n",
    "\n",
    "combo_1 = Producto('70010', 'Combo 1', 150, 'Harina de maiz (1kg), Carne de res (2kg), Detergente para ropa (500g)')\n",
    "\n",
    "print(combo_1)\n",
    "print(combo_1.description)"
   ]
  },
  {
   "cell_type": "markdown",
   "id": "04575839",
   "metadata": {},
   "source": [
    "### <font color='Blue'> Superclases y subclases </font>\n",
    "\n",
    "#### Debemos identificar una superclase que contendra todos los atributos comunes \n",
    "#### A la superclase la llamaremos producto"
   ]
  },
  {
   "cell_type": "code",
   "execution_count": 10,
   "id": "77dceb21",
   "metadata": {},
   "outputs": [],
   "source": [
    "class Producto:\n",
    "    def __init__(self, ref, nombre, pvp, description):\n",
    "        self.ref = ref\n",
    "        self.nombre = nombre\n",
    "        self.pvp = pvp\n",
    "        self.description = description\n",
    "        \n",
    "    def __str__(self):\n",
    "        return f'Referencia:\\t {self.ref}\\n'\\\n",
    "               f'Nombre:\\t\\t {self.nombre}\\n'\\\n",
    "               f'PVP:\\t\\t {self.pvp}\\n'\\\n",
    "               f'Referencia:\\t {self.description}\\n'"
   ]
  },
  {
   "cell_type": "markdown",
   "id": "0097ef43",
   "metadata": {},
   "source": [
    "### A partir del tipo de producto, vamos a definir subclases: Combo, Ropa, Alimentos"
   ]
  },
  {
   "cell_type": "code",
   "execution_count": 11,
   "id": "3d1e5783",
   "metadata": {},
   "outputs": [],
   "source": [
    "class Combo(Producto):\n",
    "    pass"
   ]
  },
  {
   "cell_type": "code",
   "execution_count": 12,
   "id": "3643fbb6",
   "metadata": {},
   "outputs": [],
   "source": [
    "c_1 = Producto('70010', 'Combo 1', 150, 'Harina de maiz (1kg), Carne de res (2kg), Detergente para ropa (500g)')"
   ]
  },
  {
   "cell_type": "code",
   "execution_count": 13,
   "id": "5020d358",
   "metadata": {},
   "outputs": [
    {
     "name": "stdout",
     "output_type": "stream",
     "text": [
      "Referencia:\t 70010\n",
      "Nombre:\t\t Combo 1\n",
      "PVP:\t\t 150\n",
      "Referencia:\t Harina de maiz (1kg), Carne de res (2kg), Detergente para ropa (500g)\n",
      "\n"
     ]
    }
   ],
   "source": [
    "print(c_1)"
   ]
  },
  {
   "cell_type": "code",
   "execution_count": 17,
   "id": "2f64ef2d",
   "metadata": {},
   "outputs": [],
   "source": [
    "class Alimento(Producto):\n",
    "    marca = ''\n",
    "    categoria = ''\n",
    "    \n",
    "    def __str__(self):\n",
    "        return f'Referencia:\\t {self.ref}\\n'\\\n",
    "               f'Nombre:\\t\\t {self.nombre}\\n'\\\n",
    "               f'PVP:\\t\\t {self.pvp}\\n'\\\n",
    "               f'Referencia:\\t {self.description}\\n'\\\n",
    "               f'Marca:\\t\\t {self.marca}\\n'\\\n",
    "               f'Categoria:\\t {self.categoria}\\n'"
   ]
  },
  {
   "cell_type": "code",
   "execution_count": 18,
   "id": "203b0286",
   "metadata": {},
   "outputs": [
    {
     "name": "stdout",
     "output_type": "stream",
     "text": [
      "Referencia:\t 10001\n",
      "Nombre:\t\t Harina de Maiz\n",
      "PVP:\t\t 0.9\n",
      "Referencia:\t Harina precocida (1kg)\n",
      "Marca:\t\t Nestle\n",
      "Categoria:\t Cereales\n",
      "\n"
     ]
    }
   ],
   "source": [
    "harina = Alimento(10001,'Harina de Maiz', 0.9, 'Harina precocida (1kg)')\n",
    "harina.marca = 'Nestle'\n",
    "harina.categoria = 'Cereales'\n",
    "\n",
    "print(harina)"
   ]
  },
  {
   "cell_type": "code",
   "execution_count": 19,
   "id": "89317c0b",
   "metadata": {},
   "outputs": [],
   "source": [
    "class Ropa(Producto):\n",
    "    marca = ''\n",
    "    categoria = ''\n",
    "    talla = ''\n",
    "    \n",
    "    def __str__(self):\n",
    "        return f'Referencia:\\t {self.ref}\\n'\\\n",
    "               f'Nombre:\\t\\t {self.nombre}\\n'\\\n",
    "               f'PVP:\\t\\t {self.pvp}\\n'\\\n",
    "               f'Referencia:\\t {self.description}\\n'\\\n",
    "               f'Marca:\\t\\t {self.marca}\\n'\\\n",
    "               f'Categoria:\\t {self.categoria}\\n'\\\n",
    "               f'Talla:\\t\\t {self.talla}\\n'"
   ]
  },
  {
   "cell_type": "code",
   "execution_count": 22,
   "id": "12592ae5",
   "metadata": {},
   "outputs": [
    {
     "name": "stdout",
     "output_type": "stream",
     "text": [
      "Referencia:\t 20001\n",
      "Nombre:\t\t Pantalon\n",
      "PVP:\t\t 4.7\n",
      "Referencia:\t Stretch Rojo\n",
      "Marca:\t\t Levi's\n",
      "Categoria:\t Dama\n",
      "Talla:\t\t 30\n",
      "\n"
     ]
    }
   ],
   "source": [
    "pantalon = Ropa('20001','Pantalon',4.7, 'Stretch Rojo')\n",
    "pantalon.marca = \"Levi's\"\n",
    "pantalon.categoria = 'Dama'\n",
    "pantalon.talla = 30\n",
    "print(pantalon)"
   ]
  },
  {
   "cell_type": "code",
   "execution_count": null,
   "id": "5e815f95",
   "metadata": {},
   "outputs": [],
   "source": []
  }
 ],
 "metadata": {
  "kernelspec": {
   "display_name": "Python 3",
   "language": "python",
   "name": "python3"
  },
  "language_info": {
   "codemirror_mode": {
    "name": "ipython",
    "version": 3
   },
   "file_extension": ".py",
   "mimetype": "text/x-python",
   "name": "python",
   "nbconvert_exporter": "python",
   "pygments_lexer": "ipython3",
   "version": "3.8.8"
  }
 },
 "nbformat": 4,
 "nbformat_minor": 5
}
