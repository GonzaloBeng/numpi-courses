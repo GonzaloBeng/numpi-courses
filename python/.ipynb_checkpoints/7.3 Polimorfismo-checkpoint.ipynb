{
 "cells": [
  {
   "cell_type": "markdown",
   "id": "ef12c5b9",
   "metadata": {},
   "source": [
    "## 7.3 Polimorfismo\n",
    "\n",
    "### El polimorfismo es una propiedad de la herencia que permite que objetos de distintas clases puedan responder a la misma accion/llamada\n",
    "\n",
    "### En Python todas las clases son polimorficas por defecto ya que todas las clases son subclases de una superclase llamada Object"
   ]
  },
  {
   "cell_type": "code",
   "execution_count": 1,
   "id": "e8977f9d",
   "metadata": {},
   "outputs": [],
   "source": [
    "class Producto:\n",
    "    def __init__(self, ref, nombre, pvp, description):\n",
    "        self.ref = ref\n",
    "        self.nombre = nombre\n",
    "        self.pvp = pvp\n",
    "        self.description = description\n",
    "        \n",
    "    def __str__(self):\n",
    "        return f'Referencia:\\t {self.ref}\\n'\\\n",
    "               f'Nombre:\\t\\t {self.nombre}\\n'\\\n",
    "               f'PVP:\\t\\t {self.pvp}\\n'\\\n",
    "               f'Descripcion:\\t {self.description}\\n'\n",
    "    \n",
    "class Combo(Producto):\n",
    "    pass\n",
    "\n",
    "class Ropa(Producto):\n",
    "    marca = ''\n",
    "    categoria = ''\n",
    "    talla = ''\n",
    "    \n",
    "    def __str__(self):\n",
    "        return f'Referencia:\\t {self.ref}\\n'\\\n",
    "               f'Nombre:\\t\\t {self.nombre}\\n'\\\n",
    "               f'PVP:\\t\\t {self.pvp}\\n'\\\n",
    "               f'Referencia:\\t {self.description}\\n'\\\n",
    "               f'Marca:\\t\\t {self.marca}\\n'\\\n",
    "               f'Categoria:\\t {self.categoria}\\n'\\\n",
    "               f'Talla:\\t\\t {self.talla}\\n'\n",
    "    \n",
    "    \n",
    "class Alimento(Producto):\n",
    "    marca = ''\n",
    "    categoria = ''\n",
    "    \n",
    "    def __str__(self):\n",
    "        return f'Referencia:\\t {self.ref}\\n'\\\n",
    "               f'Nombre:\\t\\t {self.nombre}\\n'\\\n",
    "               f'PVP:\\t\\t {self.pvp}\\n'\\\n",
    "               f'Referencia:\\t {self.description}\\n'\\\n",
    "               f'Marca:\\t\\t {self.marca}\\n'\\\n",
    "               f'Categoria:\\t {self.categoria}\\n'"
   ]
  },
  {
   "cell_type": "code",
   "execution_count": 23,
   "id": "060beb75",
   "metadata": {},
   "outputs": [],
   "source": [
    "c_1 = Producto('70010', 'Combo 1', 150, 'Harina de maiz (1kg), Carne de res (2kg), Detergente para ropa (500g)')\n",
    "\n",
    "pantalon = Ropa('20001','Pantalon',200, 'Stretch Rojo')\n",
    "pantalon.marca = \"Levi's\"\n",
    "pantalon.categoria = 'Dama'\n",
    "pantalon.talla = 30\n",
    "\n",
    "harina = Alimento(10001,'Harina de Maiz', 0.9, 'Harina precocida (1kg)')\n",
    "harina.marca = 'Nestle'\n",
    "harina.categoria = 'Cereales'"
   ]
  },
  {
   "cell_type": "code",
   "execution_count": 24,
   "id": "a5685393",
   "metadata": {},
   "outputs": [],
   "source": [
    "productos = [c_1, harina]"
   ]
  },
  {
   "cell_type": "code",
   "execution_count": 25,
   "id": "f6f9ef01",
   "metadata": {},
   "outputs": [],
   "source": [
    "productos.append(pantalon)"
   ]
  },
  {
   "cell_type": "code",
   "execution_count": 26,
   "id": "6a2865fe",
   "metadata": {},
   "outputs": [
    {
     "data": {
      "text/plain": [
       "[<__main__.Producto at 0x240214e96a0>,\n",
       " <__main__.Alimento at 0x240214bdeb0>,\n",
       " <__main__.Ropa at 0x240214bd7f0>]"
      ]
     },
     "execution_count": 26,
     "metadata": {},
     "output_type": "execute_result"
    }
   ],
   "source": [
    "productos"
   ]
  },
  {
   "cell_type": "code",
   "execution_count": 27,
   "id": "a1f4890a",
   "metadata": {},
   "outputs": [
    {
     "name": "stdout",
     "output_type": "stream",
     "text": [
      "70010 Combo 1\n",
      "10001 Harina de Maiz\n",
      "20001 Pantalon\n"
     ]
    }
   ],
   "source": [
    "for p in productos:\n",
    "    print(p.ref,p.nombre)"
   ]
  },
  {
   "cell_type": "code",
   "execution_count": 28,
   "id": "fc2e81c0",
   "metadata": {},
   "outputs": [
    {
     "ename": "AttributeError",
     "evalue": "'Producto' object has no attribute 'marca'",
     "output_type": "error",
     "traceback": [
      "\u001b[1;31m---------------------------------------------------------------------------\u001b[0m",
      "\u001b[1;31mAttributeError\u001b[0m                            Traceback (most recent call last)",
      "\u001b[1;32m<ipython-input-28-aa6f89604e20>\u001b[0m in \u001b[0;36m<module>\u001b[1;34m\u001b[0m\n\u001b[0;32m      1\u001b[0m \u001b[1;32mfor\u001b[0m \u001b[0mp\u001b[0m \u001b[1;32min\u001b[0m \u001b[0mproductos\u001b[0m\u001b[1;33m:\u001b[0m\u001b[1;33m\u001b[0m\u001b[1;33m\u001b[0m\u001b[0m\n\u001b[1;32m----> 2\u001b[1;33m     \u001b[0mprint\u001b[0m\u001b[1;33m(\u001b[0m\u001b[0mp\u001b[0m\u001b[1;33m.\u001b[0m\u001b[0mmarca\u001b[0m\u001b[1;33m)\u001b[0m\u001b[1;33m\u001b[0m\u001b[1;33m\u001b[0m\u001b[0m\n\u001b[0m",
      "\u001b[1;31mAttributeError\u001b[0m: 'Producto' object has no attribute 'marca'"
     ]
    }
   ],
   "source": [
    "for p in productos:\n",
    "    print(p.marca)"
   ]
  },
  {
   "cell_type": "code",
   "execution_count": 29,
   "id": "79cae3e8",
   "metadata": {},
   "outputs": [
    {
     "name": "stdout",
     "output_type": "stream",
     "text": [
      "10001 Harina de Maiz Nestle\n",
      "20001 Pantalon 30\n"
     ]
    }
   ],
   "source": [
    "for p in productos:\n",
    "    if (isinstance(p,Combo)):\n",
    "        print(p.ref,p.nombre)\n",
    "    elif (isinstance(p, Ropa)):\n",
    "        print(p.ref,p.nombre, p.talla)\n",
    "    elif (isinstance(p, Alimento)):\n",
    "        print(p.ref,p.nombre,p.marca)"
   ]
  },
  {
   "cell_type": "code",
   "execution_count": 30,
   "id": "294ed8b6",
   "metadata": {},
   "outputs": [
    {
     "name": "stdout",
     "output_type": "stream",
     "text": [
      "Referencia:\t 20001\n",
      "Nombre:\t\t Pantalon\n",
      "PVP:\t\t 160.0\n",
      "Referencia:\t Stretch Rojo\n",
      "Marca:\t\t Levi's\n",
      "Categoria:\t Dama\n",
      "Talla:\t\t 30\n",
      "\n"
     ]
    }
   ],
   "source": [
    "def descuento(p,rebaja): #Funcion que devuelve un producto con un descuento en su precio\n",
    "    p.pvp = p.pvp - (p.pvp*(rebaja/100))\n",
    "    return p\n",
    "\n",
    "pantalon_desc = descuento(pantalon,20)\n",
    "print(pantalon_desc)"
   ]
  },
  {
   "cell_type": "code",
   "execution_count": 32,
   "id": "2ff73336",
   "metadata": {},
   "outputs": [
    {
     "name": "stdout",
     "output_type": "stream",
     "text": [
      "Referencia:\t 20001\n",
      "Nombre:\t\t Pantalon\n",
      "PVP:\t\t 160.0\n",
      "Referencia:\t Stretch Rojo\n",
      "Marca:\t\t Levi's\n",
      "Categoria:\t Dama\n",
      "Talla:\t\t 30\n",
      "\n",
      "Referencia:\t 20001\n",
      "Nombre:\t\t Pantalon\n",
      "PVP:\t\t 160.0\n",
      "Referencia:\t Stretch Rojo\n",
      "Marca:\t\t Levi's\n",
      "Categoria:\t Dama\n",
      "Talla:\t\t 30\n",
      "\n"
     ]
    }
   ],
   "source": [
    "print(pantalon)\n",
    "print(pantalon_desc) #Distintas variables pueden referirse al mismo objeto"
   ]
  },
  {
   "cell_type": "code",
   "execution_count": 34,
   "id": "30074d02",
   "metadata": {},
   "outputs": [],
   "source": [
    "copia_pant = pantalon"
   ]
  },
  {
   "cell_type": "code",
   "execution_count": 35,
   "id": "327dffea",
   "metadata": {},
   "outputs": [],
   "source": [
    "copia_pant.marca = 'Nike'"
   ]
  },
  {
   "cell_type": "code",
   "execution_count": 36,
   "id": "b199266c",
   "metadata": {},
   "outputs": [
    {
     "name": "stdout",
     "output_type": "stream",
     "text": [
      "Referencia:\t 20001\n",
      "Nombre:\t\t Pantalon\n",
      "PVP:\t\t 160.0\n",
      "Referencia:\t Stretch Rojo\n",
      "Marca:\t\t Nike\n",
      "Categoria:\t Dama\n",
      "Talla:\t\t 30\n",
      "\n",
      "Referencia:\t 20001\n",
      "Nombre:\t\t Pantalon\n",
      "PVP:\t\t 160.0\n",
      "Referencia:\t Stretch Rojo\n",
      "Marca:\t\t Nike\n",
      "Categoria:\t Dama\n",
      "Talla:\t\t 30\n",
      "\n"
     ]
    }
   ],
   "source": [
    "print(pantalon)\n",
    "print(copia_pant)"
   ]
  },
  {
   "cell_type": "markdown",
   "id": "0e48ad44",
   "metadata": {},
   "source": [
    "### Modulo copy"
   ]
  },
  {
   "cell_type": "code",
   "execution_count": 37,
   "id": "d21804c2",
   "metadata": {},
   "outputs": [
    {
     "name": "stdout",
     "output_type": "stream",
     "text": [
      "Referencia:\t 20001\n",
      "Nombre:\t\t Pantalon\n",
      "PVP:\t\t 160.0\n",
      "Referencia:\t Stretch Rojo\n",
      "Marca:\t\t Nike\n",
      "Categoria:\t Dama\n",
      "Talla:\t\t 30\n",
      "\n"
     ]
    }
   ],
   "source": [
    "import copy\n",
    "\n",
    "copia_pant = copy.copy(pantalon)\n",
    "print(copia_pant) "
   ]
  },
  {
   "cell_type": "code",
   "execution_count": 38,
   "id": "cfcca8f0",
   "metadata": {},
   "outputs": [
    {
     "name": "stdout",
     "output_type": "stream",
     "text": [
      "Referencia:\t 20001\n",
      "Nombre:\t\t Pantalon\n",
      "PVP:\t\t 500\n",
      "Referencia:\t Stretch Rojo\n",
      "Marca:\t\t Nike\n",
      "Categoria:\t Dama\n",
      "Talla:\t\t 30\n",
      "\n",
      "Referencia:\t 20001\n",
      "Nombre:\t\t Pantalon\n",
      "PVP:\t\t 160.0\n",
      "Referencia:\t Stretch Rojo\n",
      "Marca:\t\t Nike\n",
      "Categoria:\t Dama\n",
      "Talla:\t\t 30\n",
      "\n"
     ]
    }
   ],
   "source": [
    "copia_pant.pvp=500\n",
    "print(copia_pant)\n",
    "print(pantalon)"
   ]
  },
  {
   "cell_type": "code",
   "execution_count": null,
   "id": "bd7ebff6",
   "metadata": {},
   "outputs": [],
   "source": []
  }
 ],
 "metadata": {
  "kernelspec": {
   "display_name": "Python 3",
   "language": "python",
   "name": "python3"
  },
  "language_info": {
   "codemirror_mode": {
    "name": "ipython",
    "version": 3
   },
   "file_extension": ".py",
   "mimetype": "text/x-python",
   "name": "python",
   "nbconvert_exporter": "python",
   "pygments_lexer": "ipython3",
   "version": "3.8.8"
  }
 },
 "nbformat": 4,
 "nbformat_minor": 5
}
