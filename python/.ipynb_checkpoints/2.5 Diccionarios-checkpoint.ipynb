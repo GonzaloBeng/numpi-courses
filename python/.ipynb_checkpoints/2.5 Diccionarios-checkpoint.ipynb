{
 "cells": [
  {
   "cell_type": "markdown",
   "id": "66aa3e43",
   "metadata": {},
   "source": [
    "## 2.5 Diccionarios\n",
    "\n",
    "### Son colecciones de datos semejantes a las listas.\n",
    "\n",
    "### Los diccionarios se caracterizan por:\n",
    "\n",
    "   * Se define cada elemento dentro de un diccionario como una relacion entre *Clave : Valor*.\n",
    "   * Las claves ejercen como indice de cada elemento (No son unicamente numeros)."
   ]
  },
  {
   "cell_type": "code",
   "execution_count": 1,
   "id": "fd9d6cef",
   "metadata": {},
   "outputs": [],
   "source": [
    "colores = { 'Azul': 'Blue', 'Verde' : 'Green', 'Amarillo': 'Yellow'}\n",
    "\n",
    "propiedades = {1: 'Nombre', 2: 'Apellido', 3:'Profesion'}"
   ]
  },
  {
   "cell_type": "code",
   "execution_count": 2,
   "id": "793af455",
   "metadata": {},
   "outputs": [
    {
     "name": "stdout",
     "output_type": "stream",
     "text": [
      "{1: 'Nombre', 2: 'Apellido', 3: 'Profesion'}\n"
     ]
    }
   ],
   "source": [
    "print(propiedades)"
   ]
  },
  {
   "cell_type": "markdown",
   "id": "412d188a",
   "metadata": {},
   "source": [
    "### Podemos escoger entre sus elementos utilizando las clases"
   ]
  },
  {
   "cell_type": "code",
   "execution_count": 3,
   "id": "d9b6b34d",
   "metadata": {},
   "outputs": [
    {
     "data": {
      "text/plain": [
       "{'Azul': 'Blue', 'Verde': 'Green', 'Amarillo': 'Yellow'}"
      ]
     },
     "execution_count": 3,
     "metadata": {},
     "output_type": "execute_result"
    }
   ],
   "source": [
    "colores"
   ]
  },
  {
   "cell_type": "code",
   "execution_count": 4,
   "id": "5d17d0ec",
   "metadata": {},
   "outputs": [
    {
     "data": {
      "text/plain": [
       "'Blue'"
      ]
     },
     "execution_count": 4,
     "metadata": {},
     "output_type": "execute_result"
    }
   ],
   "source": [
    "colores['Azul']"
   ]
  },
  {
   "cell_type": "code",
   "execution_count": 5,
   "id": "92b4d531",
   "metadata": {},
   "outputs": [
    {
     "data": {
      "text/plain": [
       "'Yellow'"
      ]
     },
     "execution_count": 5,
     "metadata": {},
     "output_type": "execute_result"
    }
   ],
   "source": [
    "colores['Amarillo']"
   ]
  },
  {
   "cell_type": "markdown",
   "id": "9ada20cf",
   "metadata": {},
   "source": [
    "### Tambien podemos modificar los valores de sus elementos y realizar operaciones con ellos."
   ]
  },
  {
   "cell_type": "code",
   "execution_count": 6,
   "id": "0d1b6e59",
   "metadata": {},
   "outputs": [
    {
     "name": "stdout",
     "output_type": "stream",
     "text": [
      "{'Azul': 'Blue', 'Verde': 'Vert', 'Amarillo': 'Yellow'}\n"
     ]
    }
   ],
   "source": [
    "colores['Verde'] = 'Vert'\n",
    "\n",
    "print(colores)"
   ]
  },
  {
   "cell_type": "code",
   "execution_count": 7,
   "id": "8905368b",
   "metadata": {},
   "outputs": [
    {
     "data": {
      "text/plain": [
       "{'Azul': 'Blue',\n",
       " 'Verde': 'Vert',\n",
       " 'Amarillo': 'Yellow',\n",
       " 'Naranja': 'Orange',\n",
       " 'Violeta': 'Purple'}"
      ]
     },
     "execution_count": 7,
     "metadata": {},
     "output_type": "execute_result"
    }
   ],
   "source": [
    "colores['Naranja'] = 'Orange'\n",
    "colores['Violeta'] = 'Purple'\n",
    "colores"
   ]
  },
  {
   "cell_type": "code",
   "execution_count": 8,
   "id": "f722895d",
   "metadata": {},
   "outputs": [
    {
     "data": {
      "text/plain": [
       "19"
      ]
     },
     "execution_count": 8,
     "metadata": {},
     "output_type": "execute_result"
    }
   ],
   "source": [
    "edades = {'Gonza': 27,\n",
    "         'Santi': 19,\n",
    "         'Oky': 23,\n",
    "         'Juli': 18}\n",
    "edades['Santi']"
   ]
  },
  {
   "cell_type": "code",
   "execution_count": 9,
   "id": "6cdf9ec7",
   "metadata": {},
   "outputs": [
    {
     "data": {
      "text/plain": [
       "{'Gonza': 27, 'Santi': 19, 'Oky': 24, 'Juli': 18}"
      ]
     },
     "execution_count": 9,
     "metadata": {},
     "output_type": "execute_result"
    }
   ],
   "source": [
    "edades['Oky']+=1;\n",
    "edades"
   ]
  },
  {
   "cell_type": "code",
   "execution_count": 10,
   "id": "6bb9911f",
   "metadata": {},
   "outputs": [
    {
     "data": {
      "text/plain": [
       "37"
      ]
     },
     "execution_count": 10,
     "metadata": {},
     "output_type": "execute_result"
    }
   ],
   "source": [
    "edades['Juli'] + edades['Santi']"
   ]
  },
  {
   "cell_type": "code",
   "execution_count": 11,
   "id": "d26d4ba7",
   "metadata": {},
   "outputs": [
    {
     "data": {
      "text/plain": [
       "{'Gonza': 27, 'Santi': 19, 'Oky': 24, 'Juli': 18, 'Total de edades': 88}"
      ]
     },
     "execution_count": 11,
     "metadata": {},
     "output_type": "execute_result"
    }
   ],
   "source": [
    "edades['Total de edades'] = edades['Juli'] + edades['Santi'] + edades['Gonza'] + edades['Oky']\n",
    "edades"
   ]
  },
  {
   "cell_type": "markdown",
   "id": "14fae57e",
   "metadata": {},
   "source": [
    "## Metodos\n",
    "\n",
    "### A traves de un bucle *For* podemos recorrer los elementos de un diccionario"
   ]
  },
  {
   "cell_type": "code",
   "execution_count": 12,
   "id": "93b0a305",
   "metadata": {},
   "outputs": [
    {
     "name": "stdout",
     "output_type": "stream",
     "text": [
      "Gonza\n",
      "Santi\n",
      "Oky\n",
      "Juli\n",
      "Total de edades\n"
     ]
    }
   ],
   "source": [
    "for c in edades:\n",
    "    print(c)"
   ]
  },
  {
   "cell_type": "code",
   "execution_count": 13,
   "id": "706b7400",
   "metadata": {},
   "outputs": [
    {
     "name": "stdout",
     "output_type": "stream",
     "text": [
      "27\n",
      "19\n",
      "24\n",
      "18\n",
      "88\n"
     ]
    }
   ],
   "source": [
    "for c in edades:\n",
    "    print(edades[c])"
   ]
  },
  {
   "cell_type": "markdown",
   "id": "aa5834d2",
   "metadata": {},
   "source": [
    "### El metodo *items()* nos devuelve Clave y Valor automaticamente"
   ]
  },
  {
   "cell_type": "code",
   "execution_count": 14,
   "id": "950e618b",
   "metadata": {},
   "outputs": [
    {
     "name": "stdout",
     "output_type": "stream",
     "text": [
      "Gonza 27\n",
      "Santi 19\n",
      "Oky 24\n",
      "Juli 18\n",
      "Total de edades 88\n"
     ]
    }
   ],
   "source": [
    "for c,v in edades.items():\n",
    "    print(c,v)"
   ]
  },
  {
   "cell_type": "markdown",
   "id": "07977796",
   "metadata": {},
   "source": [
    "### El metodo *del()* nos permite eliminar los valores de un diccionario."
   ]
  },
  {
   "cell_type": "code",
   "execution_count": 20,
   "id": "62dc201f",
   "metadata": {},
   "outputs": [
    {
     "name": "stdout",
     "output_type": "stream",
     "text": [
      "{'Azul': 'Blue', 'Verde': 'Vert', 'Amarillo': 'Yellow', 'Naranja': 'Orange'}\n"
     ]
    }
   ],
   "source": [
    "del(colores['Violeta']);\n",
    "\n",
    "print(colores)"
   ]
  },
  {
   "cell_type": "markdown",
   "id": "be61b3e2",
   "metadata": {},
   "source": [
    "### Debemos combinar provechosamente las listas y los diccionarios. Por ejemplo para crear un equipo de personajes"
   ]
  },
  {
   "cell_type": "code",
   "execution_count": 22,
   "id": "f7d2be4f",
   "metadata": {},
   "outputs": [],
   "source": [
    "equipo = []\n",
    "\n",
    "personajes = {'Nombre': 'Udyr',\n",
    "             'Especie': 'Humano',\n",
    "             'Nacion': 'Fréljord'}"
   ]
  },
  {
   "cell_type": "code",
   "execution_count": 23,
   "id": "64701879",
   "metadata": {},
   "outputs": [
    {
     "name": "stdout",
     "output_type": "stream",
     "text": [
      "[{'Nombre': 'Udyr', 'Especie': 'Humano', 'Nacion': 'Fréljord'}]\n"
     ]
    }
   ],
   "source": [
    "equipo.append(personajes)\n",
    "print(equipo)"
   ]
  },
  {
   "cell_type": "code",
   "execution_count": 24,
   "id": "ec6b5e24",
   "metadata": {},
   "outputs": [],
   "source": [
    "personajes = {'Nombre': 'Olaf',\n",
    "             'Especie': 'Humano',\n",
    "             'Nacion': 'Lokfar'}\n",
    "\n",
    "equipo.append(personajes)"
   ]
  },
  {
   "cell_type": "code",
   "execution_count": 25,
   "id": "46e25fb0",
   "metadata": {},
   "outputs": [
    {
     "data": {
      "text/plain": [
       "[{'Nombre': 'Udyr', 'Especie': 'Humano', 'Nacion': 'Fréljord'},\n",
       " {'Nombre': 'Olaf', 'Especie': 'Humano', 'Nacion': 'Lokfar'},\n",
       " {'Nombre': 'Graves', 'Especie': 'Humano', 'Nacion': 'Aguasturbias'}]"
      ]
     },
     "execution_count": 25,
     "metadata": {},
     "output_type": "execute_result"
    }
   ],
   "source": [
    "personajes = {'Nombre': 'Graves',\n",
    "             'Especie': 'Humano',\n",
    "             'Nacion': 'Aguasturbias'}\n",
    "equipo.append(personajes)\n",
    "equipo"
   ]
  },
  {
   "cell_type": "code",
   "execution_count": 27,
   "id": "e33bf862",
   "metadata": {},
   "outputs": [
    {
     "name": "stdout",
     "output_type": "stream",
     "text": [
      "Udyr , Humano oriundo de Fréljord\n",
      "Olaf , Humano oriundo de Lokfar\n",
      "Graves , Humano oriundo de Aguasturbias\n"
     ]
    }
   ],
   "source": [
    "for e in equipo:\n",
    "    print(e['Nombre'],',',e['Especie'],'oriundo de', e['Nacion'])"
   ]
  },
  {
   "cell_type": "code",
   "execution_count": null,
   "id": "ae5e22a0",
   "metadata": {},
   "outputs": [],
   "source": []
  }
 ],
 "metadata": {
  "kernelspec": {
   "display_name": "Python 3",
   "language": "python",
   "name": "python3"
  },
  "language_info": {
   "codemirror_mode": {
    "name": "ipython",
    "version": 3
   },
   "file_extension": ".py",
   "mimetype": "text/x-python",
   "name": "python",
   "nbconvert_exporter": "python",
   "pygments_lexer": "ipython3",
   "version": "3.8.8"
  }
 },
 "nbformat": 4,
 "nbformat_minor": 5
}
