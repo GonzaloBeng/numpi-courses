{
 "cells": [
  {
   "cell_type": "markdown",
   "id": "95728e17",
   "metadata": {},
   "source": [
    "## 4.7 Funciones Lambda (anonimas)"
   ]
  },
  {
   "cell_type": "code",
   "execution_count": 1,
   "id": "6a451f0a",
   "metadata": {},
   "outputs": [
    {
     "data": {
      "text/plain": [
       "20"
      ]
     },
     "execution_count": 1,
     "metadata": {},
     "output_type": "execute_result"
    }
   ],
   "source": [
    "def doblar(num):\n",
    "    resultado = num * 2\n",
    "    return resultado\n",
    "\n",
    "doblar(10)"
   ]
  },
  {
   "cell_type": "code",
   "execution_count": 3,
   "id": "18522832",
   "metadata": {},
   "outputs": [
    {
     "data": {
      "text/plain": [
       "20"
      ]
     },
     "execution_count": 3,
     "metadata": {},
     "output_type": "execute_result"
    }
   ],
   "source": [
    "def doblar(num):\n",
    "    return num * 2\n",
    "    \n",
    "doblar(10)"
   ]
  },
  {
   "cell_type": "code",
   "execution_count": 4,
   "id": "a9035a19",
   "metadata": {},
   "outputs": [
    {
     "data": {
      "text/plain": [
       "20"
      ]
     },
     "execution_count": 4,
     "metadata": {},
     "output_type": "execute_result"
    }
   ],
   "source": [
    "def doblar(num): return num * 2\n",
    "\n",
    "doblar(10)"
   ]
  },
  {
   "cell_type": "code",
   "execution_count": 5,
   "id": "8b50c019",
   "metadata": {},
   "outputs": [
    {
     "data": {
      "text/plain": [
       "<function __main__.<lambda>(num)>"
      ]
     },
     "execution_count": 5,
     "metadata": {},
     "output_type": "execute_result"
    }
   ],
   "source": [
    "lambda num: num * 2"
   ]
  },
  {
   "cell_type": "markdown",
   "id": "6f38fdea",
   "metadata": {},
   "source": [
    "### La utilidad de las funciones anonimas se ve al asignarlas a una variable"
   ]
  },
  {
   "cell_type": "code",
   "execution_count": 6,
   "id": "5a311416",
   "metadata": {},
   "outputs": [
    {
     "data": {
      "text/plain": [
       "10"
      ]
     },
     "execution_count": 6,
     "metadata": {},
     "output_type": "execute_result"
    }
   ],
   "source": [
    "doblar = lambda num: num * 2\n",
    "\n",
    "doblar(5)"
   ]
  },
  {
   "cell_type": "code",
   "execution_count": 7,
   "id": "dd5df88f",
   "metadata": {},
   "outputs": [
    {
     "data": {
      "text/plain": [
       "True"
      ]
     },
     "execution_count": 7,
     "metadata": {},
     "output_type": "execute_result"
    }
   ],
   "source": [
    "impar = lambda num: num %2 !=0\n",
    "\n",
    "impar(5)"
   ]
  },
  {
   "cell_type": "code",
   "execution_count": 14,
   "id": "3e8fe03a",
   "metadata": {},
   "outputs": [
    {
     "data": {
      "text/plain": [
       "'neuqueN'"
      ]
     },
     "execution_count": 14,
     "metadata": {},
     "output_type": "execute_result"
    }
   ],
   "source": [
    "revertir = lambda cadena: cadena[::-1]\n",
    "\n",
    "revertir('Neuquen')"
   ]
  },
  {
   "cell_type": "code",
   "execution_count": 13,
   "id": "abbdc0d4",
   "metadata": {},
   "outputs": [
    {
     "data": {
      "text/plain": [
       "14"
      ]
     },
     "execution_count": 13,
     "metadata": {},
     "output_type": "execute_result"
    }
   ],
   "source": [
    "sumar = lambda x,y: x + y\n",
    "\n",
    "sumar(6,8)"
   ]
  },
  {
   "cell_type": "code",
   "execution_count": null,
   "id": "8451ca91",
   "metadata": {},
   "outputs": [],
   "source": []
  }
 ],
 "metadata": {
  "kernelspec": {
   "display_name": "Python 3",
   "language": "python",
   "name": "python3"
  },
  "language_info": {
   "codemirror_mode": {
    "name": "ipython",
    "version": 3
   },
   "file_extension": ".py",
   "mimetype": "text/x-python",
   "name": "python",
   "nbconvert_exporter": "python",
   "pygments_lexer": "ipython3",
   "version": "3.8.8"
  }
 },
 "nbformat": 4,
 "nbformat_minor": 5
}
