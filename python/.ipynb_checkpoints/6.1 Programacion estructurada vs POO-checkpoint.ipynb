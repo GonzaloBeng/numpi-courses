{
 "cells": [
  {
   "cell_type": "markdown",
   "id": "ebbf4c64",
   "metadata": {},
   "source": [
    "## 6.1 Programacion Orientada a Objetos\n",
    "\n",
    "### Para entender las diferencias entre los dos paradigmas de programacion, trabajaremos un ejemplo donde se nos pide la creacion de un registro para manejar  el inventario de un negocio.\n",
    "\n",
    "### Debe incluir\n",
    "* Codigo identificador del producto\n",
    "* Nombre del producto\n",
    "* Categoria del producto\n",
    "* PVP\n",
    "\n",
    "### El programa debe permitirnos mostrar o borrar datos de cada producto a partir del codigo identificador"
   ]
  },
  {
   "cell_type": "markdown",
   "id": "2e70f2f1",
   "metadata": {},
   "source": [
    "### <font color=green> Solucion del problema con Programacion Estructurada </font>"
   ]
  },
  {
   "cell_type": "code",
   "execution_count": 14,
   "id": "9f73ef8c",
   "metadata": {},
   "outputs": [],
   "source": [
    "productos = [\n",
    "    {'cod': '10001', 'Nombre': 'Jabon Harmony', 'Categoria':'Higiene personal', 'pvp':0.9},\n",
    "    {'cod': '10002', 'Nombre': 'Cereal Nestle', 'Categoria':'Cereal', 'pvp':1.5},\n",
    "    {'cod': '10003', 'Nombre': 'Limones', 'Categoria':'Fruta', 'pvp':0.7}\n",
    "]"
   ]
  },
  {
   "cell_type": "code",
   "execution_count": 15,
   "id": "0df172df",
   "metadata": {},
   "outputs": [
    {
     "data": {
      "text/plain": [
       "{'cod': '10001',\n",
       " 'Nombre': 'Jabon Harmony',\n",
       " 'Categoria': 'Higiene personal',\n",
       " 'pvp': 0.9}"
      ]
     },
     "execution_count": 15,
     "metadata": {},
     "output_type": "execute_result"
    }
   ],
   "source": [
    "productos[0]"
   ]
  },
  {
   "cell_type": "code",
   "execution_count": 16,
   "id": "a4bd2bc5",
   "metadata": {},
   "outputs": [],
   "source": [
    "def mostrar_producto(productos,cod):\n",
    "    for p in productos:\n",
    "       if (cod == p['cod']):\n",
    "            return print('{} {}'.format(p['Nombre'],p['pvp']))\n",
    "    print('Producto no encontrado')"
   ]
  },
  {
   "cell_type": "code",
   "execution_count": 17,
   "id": "2faecd26",
   "metadata": {},
   "outputs": [
    {
     "name": "stdout",
     "output_type": "stream",
     "text": [
      "Limones 0.7\n"
     ]
    }
   ],
   "source": [
    "mostrar_producto(productos,'10003')"
   ]
  },
  {
   "cell_type": "code",
   "execution_count": 18,
   "id": "4975f352",
   "metadata": {},
   "outputs": [
    {
     "name": "stdout",
     "output_type": "stream",
     "text": [
      "Producto no encontrado\n"
     ]
    }
   ],
   "source": [
    "mostrar_producto(productos,'111')"
   ]
  },
  {
   "cell_type": "code",
   "execution_count": 19,
   "id": "37296d38",
   "metadata": {},
   "outputs": [],
   "source": [
    "def borrar_producto(productos,cod):\n",
    "    for i,p in enumerate(productos):\n",
    "       if (cod == p['cod']):\n",
    "            del(productos[i])\n",
    "            return print(str(p), '>ELIMINADO')\n",
    "    print('Producto no encontrado')"
   ]
  },
  {
   "cell_type": "code",
   "execution_count": 20,
   "id": "57a53c83",
   "metadata": {},
   "outputs": [
    {
     "name": "stdout",
     "output_type": "stream",
     "text": [
      "{'cod': '10003', 'Nombre': 'Limones', 'Categoria': 'Fruta', 'pvp': 0.7} >ELIMINADO\n"
     ]
    }
   ],
   "source": [
    "borrar_producto(productos,'10003')"
   ]
  },
  {
   "cell_type": "code",
   "execution_count": 21,
   "id": "a91e394f",
   "metadata": {},
   "outputs": [
    {
     "name": "stdout",
     "output_type": "stream",
     "text": [
      "Producto no encontrado\n"
     ]
    }
   ],
   "source": [
    "mostrar_producto(productos,'10003')"
   ]
  },
  {
   "cell_type": "code",
   "execution_count": 22,
   "id": "7eede0b8",
   "metadata": {},
   "outputs": [
    {
     "name": "stdout",
     "output_type": "stream",
     "text": [
      "\n",
      " Catalogo de productos\n",
      "[{'cod': '10001', 'Nombre': 'Jabon Harmony', 'Categoria': 'Higiene personal', 'pvp': 0.9}, {'cod': '10002', 'Nombre': 'Cereal Nestle', 'Categoria': 'Cereal', 'pvp': 1.5}]\n",
      "\n",
      " Mostrar productos por COD\n",
      "Jabon Harmony 0.9\n",
      "Cereal Nestle 1.5\n",
      "\n",
      " Borrar productos por COD\n",
      "{'cod': '10001', 'Nombre': 'Jabon Harmony', 'Categoria': 'Higiene personal', 'pvp': 0.9} >ELIMINADO\n",
      "{'cod': '10002', 'Nombre': 'Cereal Nestle', 'Categoria': 'Cereal', 'pvp': 1.5} >ELIMINADO\n",
      "\n",
      " Catalogo de productos\n",
      "[]\n"
     ]
    }
   ],
   "source": [
    "print('\\n Catalogo de productos')\n",
    "print(productos)\n",
    "\n",
    "print('\\n Mostrar productos por COD')\n",
    "mostrar_producto(productos,'10001')\n",
    "mostrar_producto(productos,'10002')\n",
    "\n",
    "print('\\n Borrar productos por COD')\n",
    "borrar_producto(productos,'10001')\n",
    "borrar_producto(productos,'10002')\n",
    "\n",
    "print('\\n Catalogo de productos')\n",
    "print(productos)"
   ]
  },
  {
   "cell_type": "markdown",
   "id": "2bc10fac",
   "metadata": {},
   "source": [
    "### <font color=green> Solucion del problema con Programacion Orientada a Objetos </font>"
   ]
  },
  {
   "cell_type": "code",
   "execution_count": 24,
   "id": "8bbd95c6",
   "metadata": {},
   "outputs": [],
   "source": [
    "# Se crea una estructura para los productos\n",
    "\n",
    "class Producto:\n",
    "    \n",
    "    def __init__(self,cod,nombre,categoria,pvp):\n",
    "        self.cod = cod\n",
    "        self.nombre = nombre\n",
    "        self.categoria = categoria\n",
    "        self.pvp = pvp\n",
    "        \n",
    "    def __str__(self):\n",
    "        return '{} {}'.format(self.nombre,self.pvp)\n",
    "\n",
    "#Y otra estructura para el negocio\n",
    "\n",
    "class Negocio:\n",
    "    \n",
    "    def __init__(self, productos=[]):\n",
    "        self.productos = productos\n",
    "        \n",
    "    def mostrar_producto(self,cod=None):\n",
    "        for p in self.productos:\n",
    "           if p.cod == cod:\n",
    "            print(p)\n",
    "            return\n",
    "        print('Producto no encontrado')\n",
    "        \n",
    "    def borrar_producto(self,cod=None):\n",
    "        for i,p in enumerate(self.productos):\n",
    "           if p.cod == cod:\n",
    "                del(self.productos[i])\n",
    "                print(str(p), '>ELIMINADO')\n",
    "                return\n",
    "        print('Producto no encontrado')"
   ]
  },
  {
   "cell_type": "code",
   "execution_count": 26,
   "id": "cf447b76",
   "metadata": {},
   "outputs": [],
   "source": [
    "# Para llamar clases se usan Mayus\n",
    "\n",
    "limones = Producto(nombre='Limones', cod='10010', categoria='Fruta', pvp=0.8) #si paso con el nombre el orden es indistinto\n",
    "platos = Producto('10020', 'Platos Alpina', 'Vajilla', 2.4) #sin el nombre el orden es el de la clase"
   ]
  },
  {
   "cell_type": "code",
   "execution_count": 27,
   "id": "e809e562",
   "metadata": {},
   "outputs": [
    {
     "data": {
      "text/plain": [
       "<__main__.Producto at 0x15d9c3dc850>"
      ]
     },
     "execution_count": 27,
     "metadata": {},
     "output_type": "execute_result"
    }
   ],
   "source": [
    "limones"
   ]
  },
  {
   "cell_type": "code",
   "execution_count": 28,
   "id": "4c15fe7e",
   "metadata": {},
   "outputs": [
    {
     "data": {
      "text/plain": [
       "<__main__.Producto at 0x15d9c3dcb50>"
      ]
     },
     "execution_count": 28,
     "metadata": {},
     "output_type": "execute_result"
    }
   ],
   "source": [
    "platos"
   ]
  },
  {
   "cell_type": "code",
   "execution_count": 29,
   "id": "e997ddd9",
   "metadata": {},
   "outputs": [],
   "source": [
    "negocio = Negocio(productos=[limones,platos])"
   ]
  },
  {
   "cell_type": "code",
   "execution_count": 30,
   "id": "a22d6fd4",
   "metadata": {},
   "outputs": [
    {
     "data": {
      "text/plain": [
       "[<__main__.Producto at 0x15d9c3dc850>, <__main__.Producto at 0x15d9c3dcb50>]"
      ]
     },
     "execution_count": 30,
     "metadata": {},
     "output_type": "execute_result"
    }
   ],
   "source": [
    "negocio.productos"
   ]
  },
  {
   "cell_type": "code",
   "execution_count": 31,
   "id": "bc6c6e68",
   "metadata": {},
   "outputs": [
    {
     "name": "stdout",
     "output_type": "stream",
     "text": [
      "Limones 0.8\n"
     ]
    }
   ],
   "source": [
    "# Para mostrar el producto por codigo\n",
    "\n",
    "negocio.mostrar_producto('10010')"
   ]
  },
  {
   "cell_type": "code",
   "execution_count": 32,
   "id": "189bddc9",
   "metadata": {},
   "outputs": [
    {
     "name": "stdout",
     "output_type": "stream",
     "text": [
      "Limones 0.8 >ELIMINADO\n"
     ]
    }
   ],
   "source": [
    "# Para borrar el producto por codigo\n",
    "\n",
    "negocio.borrar_producto('10010')"
   ]
  },
  {
   "cell_type": "code",
   "execution_count": 33,
   "id": "8578af04",
   "metadata": {},
   "outputs": [
    {
     "name": "stdout",
     "output_type": "stream",
     "text": [
      "Producto no encontrado\n"
     ]
    }
   ],
   "source": [
    "negocio.mostrar_producto('10010')"
   ]
  },
  {
   "cell_type": "code",
   "execution_count": null,
   "id": "3df5e99d",
   "metadata": {},
   "outputs": [],
   "source": []
  }
 ],
 "metadata": {
  "kernelspec": {
   "display_name": "Python 3",
   "language": "python",
   "name": "python3"
  },
  "language_info": {
   "codemirror_mode": {
    "name": "ipython",
    "version": 3
   },
   "file_extension": ".py",
   "mimetype": "text/x-python",
   "name": "python",
   "nbconvert_exporter": "python",
   "pygments_lexer": "ipython3",
   "version": "3.8.8"
  }
 },
 "nbformat": 4,
 "nbformat_minor": 5
}
