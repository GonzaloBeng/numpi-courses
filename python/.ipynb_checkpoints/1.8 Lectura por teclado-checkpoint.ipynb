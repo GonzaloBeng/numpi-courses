{
 "cells": [
  {
   "cell_type": "markdown",
   "id": "6d7666fe",
   "metadata": {},
   "source": [
    "## 2.8 Lectura por teclado\n",
    "\n",
    "### La funcion input() permite alcanzar un valor ingresado con el teclado en una variable."
   ]
  },
  {
   "cell_type": "code",
   "execution_count": 1,
   "id": "20f72f9b",
   "metadata": {},
   "outputs": [
    {
     "name": "stdout",
     "output_type": "stream",
     "text": [
      "Gonzalo 1606\n"
     ]
    }
   ],
   "source": [
    "valor = input()"
   ]
  },
  {
   "cell_type": "code",
   "execution_count": 2,
   "id": "0d319701",
   "metadata": {},
   "outputs": [
    {
     "data": {
      "text/plain": [
       "'Gonzalo 1606'"
      ]
     },
     "execution_count": 2,
     "metadata": {},
     "output_type": "execute_result"
    }
   ],
   "source": [
    "valor"
   ]
  },
  {
   "cell_type": "markdown",
   "id": "28ab85bf",
   "metadata": {},
   "source": [
    "### La funcion input() almacena todo como variable string. Pero se puede modificar este tipo"
   ]
  },
  {
   "cell_type": "code",
   "execution_count": 3,
   "id": "519d918f",
   "metadata": {},
   "outputs": [
    {
     "data": {
      "text/plain": [
       "str"
      ]
     },
     "execution_count": 3,
     "metadata": {},
     "output_type": "execute_result"
    }
   ],
   "source": [
    "type(valor)"
   ]
  },
  {
   "cell_type": "code",
   "execution_count": 6,
   "id": "80b40641",
   "metadata": {},
   "outputs": [
    {
     "name": "stdout",
     "output_type": "stream",
     "text": [
      "Introduce un numero: 12.5\n"
     ]
    }
   ],
   "source": [
    "valor_num = float(input('Introduce un numero: '))"
   ]
  },
  {
   "cell_type": "code",
   "execution_count": 7,
   "id": "5b7519d0",
   "metadata": {},
   "outputs": [
    {
     "data": {
      "text/plain": [
       "float"
      ]
     },
     "execution_count": 7,
     "metadata": {},
     "output_type": "execute_result"
    }
   ],
   "source": [
    "type(valor_num)"
   ]
  },
  {
   "cell_type": "code",
   "execution_count": 8,
   "id": "c9fdd8d2",
   "metadata": {},
   "outputs": [
    {
     "data": {
      "text/plain": [
       "12.5"
      ]
     },
     "execution_count": 8,
     "metadata": {},
     "output_type": "execute_result"
    }
   ],
   "source": [
    "valor_num"
   ]
  },
  {
   "cell_type": "code",
   "execution_count": 9,
   "id": "e75e7133",
   "metadata": {},
   "outputs": [
    {
     "name": "stdout",
     "output_type": "stream",
     "text": [
      "Ingresa tu edad: 27\n"
     ]
    }
   ],
   "source": [
    "edad = int(input('Ingresa tu edad: '))"
   ]
  },
  {
   "cell_type": "code",
   "execution_count": 11,
   "id": "d1a7125a",
   "metadata": {},
   "outputs": [
    {
     "name": "stdout",
     "output_type": "stream",
     "text": [
      "27 <class 'int'>\n"
     ]
    }
   ],
   "source": [
    "print(edad, type(edad))"
   ]
  },
  {
   "cell_type": "code",
   "execution_count": null,
   "id": "46b16d24",
   "metadata": {},
   "outputs": [],
   "source": []
  }
 ],
 "metadata": {
  "kernelspec": {
   "display_name": "Python 3",
   "language": "python",
   "name": "python3"
  },
  "language_info": {
   "codemirror_mode": {
    "name": "ipython",
    "version": 3
   },
   "file_extension": ".py",
   "mimetype": "text/x-python",
   "name": "python",
   "nbconvert_exporter": "python",
   "pygments_lexer": "ipython3",
   "version": "3.8.8"
  }
 },
 "nbformat": 4,
 "nbformat_minor": 5
}
