{
 "cells": [
  {
   "cell_type": "markdown",
   "id": "4427a7e2",
   "metadata": {},
   "source": [
    "## 2.6 Ejercicios\n",
    "\n",
    "### 1) Identificar el error en el siguiente codigo.\n",
    "\n",
    "   * Media = Num_1 + Num_2 + Num_3 /3\n",
    "\n",
    "### Se pretende hacer una media muestral de 3 elementos pero no funciona correctamente"
   ]
  },
  {
   "cell_type": "code",
   "execution_count": 5,
   "id": "d866efaf",
   "metadata": {},
   "outputs": [
    {
     "name": "stdout",
     "output_type": "stream",
     "text": [
      "Este resultado no es la media 10.0 .  Este es el resultado correcto 4.0\n"
     ]
    }
   ],
   "source": [
    "Num_1 = 5\n",
    "Num_2 = 4\n",
    "Num_3 = 3\n",
    "\n",
    "Media = Num_1 + Num_2 + Num_3 / 3\n",
    "Media_Correcta = (Num_1 + Num_2 + Num_3) / 3\n",
    "\n",
    "print('Este resultado no es la media', Media, '.',' Este es el resultado correcto', Media_Correcta)"
   ]
  },
  {
   "cell_type": "markdown",
   "id": "3290c950",
   "metadata": {},
   "source": [
    "### 2) En la siguiente matriz, elk cuarto elemento siempre es la suma de los tres anteriores. Utilizando la indexacion corrige las listas que no cumplan esta condicion."
   ]
  },
  {
   "cell_type": "code",
   "execution_count": 6,
   "id": "62ff5a5f",
   "metadata": {},
   "outputs": [],
   "source": [
    "Matriz = [\n",
    "         [1,1,1,3],\n",
    "         [2,2,2,7],\n",
    "         [3,3,3,9],\n",
    "         [4,4,4,13],\n",
    "];\n",
    "\n",
    "Matriz;"
   ]
  },
  {
   "cell_type": "code",
   "execution_count": 9,
   "id": "6eb45d45",
   "metadata": {},
   "outputs": [
    {
     "data": {
      "text/plain": [
       "[[1, 1, 1, 3], [2, 2, 2, 2], [3, 3, 3, 9], [4, 4, 4, 12]]"
      ]
     },
     "execution_count": 9,
     "metadata": {},
     "output_type": "execute_result"
    }
   ],
   "source": [
    "### Solucion\n",
    "Matriz[1][3] = sum(Matriz[1][:1]);\n",
    "Matriz[3][3] = sum(Matriz[-1][:-1]);\n",
    "\n",
    "Matriz"
   ]
  },
  {
   "cell_type": "markdown",
   "id": "6bebf59a",
   "metadata": {},
   "source": [
    "### 3) En el desarrollo de un videojuego se te encarga configurar y balancear cada personaje. Partiendo de que la estadistica base es 2, debes cumpli con las siguientes condiciones:\n",
    "   * El caballero tiene el doble de vida y defensa que un guerrero.\n",
    "   * El guerrero tiene el doble de ataque y alcance que un caballero.\n",
    "   * El arquero tiene la misma vida y ataque que un guerrero, pero la mitad de su defensa y el doble de su alcance.\n",
    "   * Muestra como quedan las propiedades de los tres personajes\n",
    "   \n",
    "   > caballero = {'vida':2,'ataque':2, 'defensa':2, 'alcance':2}\\\n",
    "   > guerrero = {'vida':2,'ataque':2, 'defensa':2, 'alcance':2}\\\n",
    "   > arquero = {'vida':2,'ataque':2, 'defensa':2, 'alcance':2}"
   ]
  },
  {
   "cell_type": "code",
   "execution_count": 10,
   "id": "e9b17e4d",
   "metadata": {},
   "outputs": [],
   "source": [
    "caballero = {'vida':2,'ataque':2, 'defensa':2, 'alcance':2}\n",
    "guerrero = {'vida':2,'ataque':2, 'defensa':2, 'alcance':2}\n",
    "arquero = {'vida':2,'ataque':2, 'defensa':2, 'alcance':2}"
   ]
  },
  {
   "cell_type": "code",
   "execution_count": 24,
   "id": "92c51b2a",
   "metadata": {},
   "outputs": [
    {
     "data": {
      "text/plain": [
       "{'vida': 4, 'ataque': 2, 'defensa': 4, 'alcance': 2}"
      ]
     },
     "execution_count": 24,
     "metadata": {},
     "output_type": "execute_result"
    }
   ],
   "source": [
    "caballero['vida'] = guerrero['vida'] * 2\n",
    "caballero['defensa'] = guerrero['defensa'] * 2"
   ]
  },
  {
   "cell_type": "code",
   "execution_count": 25,
   "id": "59533ffc",
   "metadata": {},
   "outputs": [
    {
     "data": {
      "text/plain": [
       "{'vida': 2, 'ataque': 4, 'defensa': 2, 'alcance': 4}"
      ]
     },
     "execution_count": 25,
     "metadata": {},
     "output_type": "execute_result"
    }
   ],
   "source": [
    "guerrero['ataque'] = caballero['ataque'] * 2\n",
    "guerrero['alcance'] = caballero['alcance'] * 2"
   ]
  },
  {
   "cell_type": "code",
   "execution_count": 27,
   "id": "2069410c",
   "metadata": {},
   "outputs": [
    {
     "data": {
      "text/plain": [
       "{'vida': 2, 'ataque': 4, 'defensa': 1, 'alcance': 8}"
      ]
     },
     "execution_count": 27,
     "metadata": {},
     "output_type": "execute_result"
    }
   ],
   "source": [
    "arquero['ataque'] = guerrero['ataque']\n",
    "arquero['defensa'] = int(guerrero['defensa'] / 2)\n",
    "arquero['alcance'] = guerrero['alcance'] * 2"
   ]
  },
  {
   "cell_type": "code",
   "execution_count": 28,
   "id": "02862a99",
   "metadata": {},
   "outputs": [
    {
     "data": {
      "text/plain": [
       "({'vida': 4, 'ataque': 2, 'defensa': 4, 'alcance': 2},\n",
       " {'vida': 2, 'ataque': 4, 'defensa': 2, 'alcance': 4},\n",
       " {'vida': 2, 'ataque': 4, 'defensa': 1, 'alcance': 8})"
      ]
     },
     "execution_count": 28,
     "metadata": {},
     "output_type": "execute_result"
    }
   ],
   "source": [
    "caballero, guerrero, arquero"
   ]
  },
  {
   "cell_type": "code",
   "execution_count": null,
   "id": "02e87f8b",
   "metadata": {},
   "outputs": [],
   "source": []
  }
 ],
 "metadata": {
  "kernelspec": {
   "display_name": "Python 3",
   "language": "python",
   "name": "python3"
  },
  "language_info": {
   "codemirror_mode": {
    "name": "ipython",
    "version": 3
   },
   "file_extension": ".py",
   "mimetype": "text/x-python",
   "name": "python",
   "nbconvert_exporter": "python",
   "pygments_lexer": "ipython3",
   "version": "3.8.8"
  }
 },
 "nbformat": 4,
 "nbformat_minor": 5
}
