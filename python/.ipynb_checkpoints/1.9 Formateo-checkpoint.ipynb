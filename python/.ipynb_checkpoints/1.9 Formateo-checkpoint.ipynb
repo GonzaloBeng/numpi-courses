{
 "cells": [
  {
   "cell_type": "markdown",
   "id": "7221d438",
   "metadata": {},
   "source": [
    "## 1.9 Formateo"
   ]
  },
  {
   "cell_type": "code",
   "execution_count": 1,
   "id": "20760e62",
   "metadata": {},
   "outputs": [
    {
     "data": {
      "text/plain": [
       "'1 es el primer valor y 2 es el segundo'"
      ]
     },
     "execution_count": 1,
     "metadata": {},
     "output_type": "execute_result"
    }
   ],
   "source": [
    "'{} es el primer valor y {} es el segundo'.format(1,2)"
   ]
  },
  {
   "cell_type": "code",
   "execution_count": 2,
   "id": "9b6ce147",
   "metadata": {},
   "outputs": [
    {
     "data": {
      "text/plain": [
       "'En este caso alterramos el orden y el Dos aparece primero, luego el Uno'"
      ]
     },
     "execution_count": 2,
     "metadata": {},
     "output_type": "execute_result"
    }
   ],
   "source": [
    "'En este caso alterramos el orden y el {1} aparece primero, luego el {0}'.format('Uno', 'Dos')"
   ]
  },
  {
   "cell_type": "code",
   "execution_count": 6,
   "id": "6b4e43a6",
   "metadata": {},
   "outputs": [
    {
     "name": "stdout",
     "output_type": "stream",
     "text": [
      "El valor de The lord of the rings es $ 399.99\n"
     ]
    }
   ],
   "source": [
    "nombre = 'The lord of the rings'\n",
    "\n",
    "x = 399.99\n",
    "\n",
    "print(F'El valor de {nombre} es $',x)"
   ]
  },
  {
   "cell_type": "markdown",
   "id": "d7ad5318",
   "metadata": {},
   "source": [
    "### Tambien podemos aplicar metodos"
   ]
  },
  {
   "cell_type": "code",
   "execution_count": 7,
   "id": "abe30fb1",
   "metadata": {},
   "outputs": [
    {
     "name": "stdout",
     "output_type": "stream",
     "text": [
      "El valor de The Lord Of The Rings es 399.99 pesos\n"
     ]
    }
   ],
   "source": [
    "print(f'El valor de {nombre.title()} es', x,'pesos')"
   ]
  },
  {
   "cell_type": "code",
   "execution_count": 8,
   "id": "b48558b5",
   "metadata": {},
   "outputs": [
    {
     "name": "stdout",
     "output_type": "stream",
     "text": [
      "{'uno': 399.99, 'dos': 409.99}\n"
     ]
    }
   ],
   "source": [
    "diccionario = {'uno': x, 'dos': x.__add__(10)};\n",
    "\n",
    "print(diccionario)"
   ]
  },
  {
   "cell_type": "code",
   "execution_count": 10,
   "id": "c0a6fda4",
   "metadata": {},
   "outputs": [
    {
     "name": "stdout",
     "output_type": "stream",
     "text": [
      "The Lord Of The Rings cuesta 399.99 pesos y el otro libro 409.99 pesos.\n"
     ]
    }
   ],
   "source": [
    "print(f'{nombre.title()} cuesta {diccionario[\"uno\"]} pesos y el otro libro {diccionario [\"dos\"]} pesos.')"
   ]
  },
  {
   "cell_type": "code",
   "execution_count": null,
   "id": "75bf31a8",
   "metadata": {},
   "outputs": [],
   "source": []
  }
 ],
 "metadata": {
  "kernelspec": {
   "display_name": "Python 3",
   "language": "python",
   "name": "python3"
  },
  "language_info": {
   "codemirror_mode": {
    "name": "ipython",
    "version": 3
   },
   "file_extension": ".py",
   "mimetype": "text/x-python",
   "name": "python",
   "nbconvert_exporter": "python",
   "pygments_lexer": "ipython3",
   "version": "3.8.8"
  }
 },
 "nbformat": 4,
 "nbformat_minor": 5
}
