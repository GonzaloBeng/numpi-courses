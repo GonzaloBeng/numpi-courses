{
 "cells": [
  {
   "cell_type": "markdown",
   "id": "75438a75",
   "metadata": {},
   "source": [
    "## 3.1 Indices y Slicing\n",
    "\n",
    "### Indices.\n",
    "\n",
    "### Los indices son numeros ordenados asociados a las variables que nos permiten identificar los elementos por su posicion.\n",
    "\n",
    "### Por ejemplo, cada elemento de una cadena tiene su indice."
   ]
  },
  {
   "cell_type": "code",
   "execution_count": 1,
   "id": "ed8e055a",
   "metadata": {},
   "outputs": [],
   "source": [
    "texto = \"Esta Cadena\""
   ]
  },
  {
   "cell_type": "markdown",
   "id": "fd9f9014",
   "metadata": {},
   "source": [
    "#### El primer elemento siempre tiene el indice 0 porque con ese numero inicia la numeracion."
   ]
  },
  {
   "cell_type": "code",
   "execution_count": 2,
   "id": "94186ca4",
   "metadata": {},
   "outputs": [
    {
     "name": "stdout",
     "output_type": "stream",
     "text": [
      "E s t a\n"
     ]
    }
   ],
   "source": [
    "print(texto[0], texto[1], texto[2], texto[3])"
   ]
  },
  {
   "cell_type": "markdown",
   "id": "dfceaba5",
   "metadata": {},
   "source": [
    "#### Por ese motivo el indice del ultimo elemento se diferencia del numero total de elementos por una unidad."
   ]
  },
  {
   "cell_type": "code",
   "execution_count": 4,
   "id": "fe26488c",
   "metadata": {},
   "outputs": [
    {
     "name": "stdout",
     "output_type": "stream",
     "text": [
      "C a d e n a\n"
     ]
    }
   ],
   "source": [
    "print(texto[5], texto[6], texto[7], texto[8], texto[9], texto[10])"
   ]
  },
  {
   "cell_type": "markdown",
   "id": "09be3c70",
   "metadata": {},
   "source": [
    "#### Para cada elemento tambien existe un indice inverso que realiza una numeracion desde el ultimo elemento hasta el primero, empezando la cuenta con el -1."
   ]
  },
  {
   "cell_type": "code",
   "execution_count": 5,
   "id": "e84544eb",
   "metadata": {},
   "outputs": [
    {
     "name": "stdout",
     "output_type": "stream",
     "text": [
      "C a d e n a\n"
     ]
    }
   ],
   "source": [
    "#  -6 \\ -5 \\ -4 \\ -3 \\ -2 \\ -1\n",
    "#   C    A    D    E    N    A\n",
    "#   5 /  6 /  7 /  8 /  9 / 10\n",
    "\n",
    "print(texto[-6], texto[-5], texto[-4], texto[-3], texto[-2], texto[-1])"
   ]
  },
  {
   "cell_type": "markdown",
   "id": "93e50936",
   "metadata": {},
   "source": [
    "### Slicing\n",
    "\n",
    "### Gracias a los indices podemos seleccionar una secuencia de elementos de una variable. Esto se conoce como slicing.\n",
    "\n",
    "### La secuencia de elementos la definimos con el formato [A : B]. Esto es un rango de valores, y el slicing va a devolvernos desde el elemento A hasta el elemento previo al B, asi que vamos a decir que B esta EXCLUIDO del rango.\n",
    "\n",
    "* PROTIP: Cuando un rango de valores excluye alguno de sus limites (siendo A el limite inferior y B el limite superior), se dice que el rango es abierto:\n",
    "   * --> Abierto por la derecha, si excluye a B\n",
    "   * --> Abierto por la izquierda, si excluye a A"
   ]
  },
  {
   "cell_type": "code",
   "execution_count": 8,
   "id": "eeb042a6",
   "metadata": {},
   "outputs": [
    {
     "data": {
      "text/plain": [
       "'Esta'"
      ]
     },
     "execution_count": 8,
     "metadata": {},
     "output_type": "execute_result"
    }
   ],
   "source": [
    "texto[0:4]"
   ]
  },
  {
   "cell_type": "code",
   "execution_count": 13,
   "id": "8e5bd9d9",
   "metadata": {},
   "outputs": [
    {
     "data": {
      "text/plain": [
       "'Caden'"
      ]
     },
     "execution_count": 13,
     "metadata": {},
     "output_type": "execute_result"
    }
   ],
   "source": [
    "texto[-6:-1]"
   ]
  },
  {
   "cell_type": "markdown",
   "id": "8e960bf9",
   "metadata": {},
   "source": [
    "### Podemos omitir especificar alguno de los limites:\n",
    "\n",
    "* Si omitimos A [ : B], empezara la secuencia desde el indice 0. (Equivale a escribir [0:B])\n",
    "* Si omitimos B [A : ], empezara la secuencia con el ultimo elemento. (Equivale a escribir [A: (n-1)])"
   ]
  },
  {
   "cell_type": "code",
   "execution_count": 14,
   "id": "61e3ed3e",
   "metadata": {},
   "outputs": [
    {
     "data": {
      "text/plain": [
       "'Esta'"
      ]
     },
     "execution_count": 14,
     "metadata": {},
     "output_type": "execute_result"
    }
   ],
   "source": [
    "texto[:4]"
   ]
  },
  {
   "cell_type": "code",
   "execution_count": 15,
   "id": "f27e232e",
   "metadata": {},
   "outputs": [
    {
     "data": {
      "text/plain": [
       "'Cadena'"
      ]
     },
     "execution_count": 15,
     "metadata": {},
     "output_type": "execute_result"
    }
   ],
   "source": [
    "texto[-6:]"
   ]
  },
  {
   "cell_type": "code",
   "execution_count": 16,
   "id": "ccf6114d",
   "metadata": {},
   "outputs": [
    {
     "data": {
      "text/plain": [
       "'ta Ca'"
      ]
     },
     "execution_count": 16,
     "metadata": {},
     "output_type": "execute_result"
    }
   ],
   "source": [
    "texto[2:7]"
   ]
  },
  {
   "cell_type": "code",
   "execution_count": null,
   "id": "f8d1ad58",
   "metadata": {},
   "outputs": [],
   "source": []
  }
 ],
 "metadata": {
  "kernelspec": {
   "display_name": "Python 3",
   "language": "python",
   "name": "python3"
  },
  "language_info": {
   "codemirror_mode": {
    "name": "ipython",
    "version": 3
   },
   "file_extension": ".py",
   "mimetype": "text/x-python",
   "name": "python",
   "nbconvert_exporter": "python",
   "pygments_lexer": "ipython3",
   "version": "3.8.8"
  }
 },
 "nbformat": 4,
 "nbformat_minor": 5
}
