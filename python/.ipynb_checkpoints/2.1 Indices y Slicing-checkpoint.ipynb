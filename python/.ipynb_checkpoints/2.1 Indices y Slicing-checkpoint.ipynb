{
 "cells": [
  {
   "cell_type": "markdown",
   "id": "0594c40a",
   "metadata": {},
   "source": [
    "## 3.1 Indices y Slicing\n",
    "\n",
    "### Los indices son numeros ordenados asociados a las variables que nos permiten identificar los elementos por su posicion.\n",
    "\n",
    "### Por ejemplo, cada elemento de una cadena tiene su indice."
   ]
  }
 ],
 "metadata": {
  "kernelspec": {
   "display_name": "Python 3",
   "language": "python",
   "name": "python3"
  },
  "language_info": {
   "codemirror_mode": {
    "name": "ipython",
    "version": 3
   },
   "file_extension": ".py",
   "mimetype": "text/x-python",
   "name": "python",
   "nbconvert_exporter": "python",
   "pygments_lexer": "ipython3",
   "version": "3.8.8"
  }
 },
 "nbformat": 4,
 "nbformat_minor": 5
}
