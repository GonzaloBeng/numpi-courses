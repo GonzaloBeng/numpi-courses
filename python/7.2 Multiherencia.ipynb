{
 "cells": [
  {
   "cell_type": "markdown",
   "id": "0f926d63",
   "metadata": {},
   "source": [
    "## 7.2 Multiherencia\n",
    "\n",
    "### La multiherencia, o referencia multiple, hace referencia a que en Python existe la posibilidad de que una subclase herede de varias superclases a la vez."
   ]
  },
  {
   "cell_type": "code",
   "execution_count": 2,
   "id": "059191f3",
   "metadata": {},
   "outputs": [],
   "source": [
    "class A:\n",
    "    def __init__(self):\n",
    "        print('Soy de clase A')\n",
    "        \n",
    "class B:\n",
    "    def __init__(self):\n",
    "        print('Soy de clase B')\n",
    "        \n"
   ]
  },
  {
   "cell_type": "code",
   "execution_count": 3,
   "id": "1597eceb",
   "metadata": {},
   "outputs": [],
   "source": [
    "class C(A,B):\n",
    "    pass"
   ]
  },
  {
   "cell_type": "code",
   "execution_count": 7,
   "id": "896a1085",
   "metadata": {},
   "outputs": [
    {
     "name": "stdout",
     "output_type": "stream",
     "text": [
      "Soy de clase A\n",
      "Soy de clase B\n"
     ]
    }
   ],
   "source": [
    "objeto_1 = A()\n",
    "objeto_2 = B()"
   ]
  },
  {
   "cell_type": "code",
   "execution_count": 8,
   "id": "f8aa0677",
   "metadata": {},
   "outputs": [
    {
     "name": "stdout",
     "output_type": "stream",
     "text": [
      "Soy de clase A\n"
     ]
    }
   ],
   "source": [
    "objeto_3 = C()"
   ]
  },
  {
   "cell_type": "markdown",
   "id": "fb4397e1",
   "metadata": {},
   "source": [
    "### Cuando las superclases tienen metodos/atributos iguales, Python da prioridad a las superclases que estan mas a la izquierda en la declaracion de argumentos"
   ]
  },
  {
   "cell_type": "code",
   "execution_count": 9,
   "id": "d1cfdb7c",
   "metadata": {},
   "outputs": [],
   "source": [
    "class A:\n",
    "    def __init__(self):\n",
    "        print('Soy de clase A')\n",
    "    def metodo_a(self):\n",
    "        print('Este metodo lo hereda de A')\n",
    "        \n",
    "class B:\n",
    "    def __init__(self):\n",
    "        print('Soy de clase B')\n",
    "    def metodo_b(self):\n",
    "        print('Este metodo lo hereda de B')\n",
    "class C(A,B):\n",
    "    def metodo_c(self):\n",
    "        print('Este metodo es de C')\n",
    "        "
   ]
  },
  {
   "cell_type": "code",
   "execution_count": 10,
   "id": "1ab8056e",
   "metadata": {},
   "outputs": [
    {
     "name": "stdout",
     "output_type": "stream",
     "text": [
      "Soy de clase A\n"
     ]
    }
   ],
   "source": [
    "objeto_nuevo = C()"
   ]
  },
  {
   "cell_type": "code",
   "execution_count": 11,
   "id": "febe9ae8",
   "metadata": {},
   "outputs": [
    {
     "name": "stdout",
     "output_type": "stream",
     "text": [
      "Este metodo lo hereda de A\n"
     ]
    }
   ],
   "source": [
    "objeto_nuevo.metodo_a()"
   ]
  },
  {
   "cell_type": "code",
   "execution_count": 12,
   "id": "f69c6b5c",
   "metadata": {},
   "outputs": [
    {
     "name": "stdout",
     "output_type": "stream",
     "text": [
      "Este metodo lo hereda de B\n"
     ]
    }
   ],
   "source": [
    "objeto_nuevo.metodo_b()"
   ]
  },
  {
   "cell_type": "code",
   "execution_count": 13,
   "id": "a05bc5c5",
   "metadata": {},
   "outputs": [
    {
     "name": "stdout",
     "output_type": "stream",
     "text": [
      "Este metodo es de C\n"
     ]
    }
   ],
   "source": [
    "objeto_nuevo.metodo_c()"
   ]
  },
  {
   "cell_type": "code",
   "execution_count": null,
   "id": "34d5ae7a",
   "metadata": {},
   "outputs": [],
   "source": []
  }
 ],
 "metadata": {
  "kernelspec": {
   "display_name": "Python 3",
   "language": "python",
   "name": "python3"
  },
  "language_info": {
   "codemirror_mode": {
    "name": "ipython",
    "version": 3
   },
   "file_extension": ".py",
   "mimetype": "text/x-python",
   "name": "python",
   "nbconvert_exporter": "python",
   "pygments_lexer": "ipython3",
   "version": "3.8.8"
  }
 },
 "nbformat": 4,
 "nbformat_minor": 5
}
