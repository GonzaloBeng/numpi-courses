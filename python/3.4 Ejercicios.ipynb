{
 "cells": [
  {
   "cell_type": "markdown",
   "id": "6256e9a7",
   "metadata": {},
   "source": [
    "## 3.4 Ejercicios\n",
    "\n",
    "### 1) Realiza un programa que lea dos numeros por teclado y permita elegir entre 3 opciones en un menu:\n",
    "\n",
    "   * Mostrar la suma de dos numeros.\n",
    "   * Mostrar la resta de don numeros (el primero menos el segundo).\n",
    "   * Mostrar la multiplicacion de dos numeros.\n",
    "    \n",
    "### Si ingresamos una opcion invalida, el programa informara que es incorrecto."
   ]
  },
  {
   "cell_type": "code",
   "execution_count": 1,
   "id": "895c1d15",
   "metadata": {},
   "outputs": [
    {
     "name": "stdout",
     "output_type": "stream",
     "text": [
      "Ingrese el primer numero 4\n",
      "Ingrese el segundo numero 4\n",
      "\n",
      " Que desea hacer con estos numeros?\n",
      "        1. Sumarlos\n",
      "        2. Restarlos\n",
      "        3. Multiplicarlos\n",
      "        \n",
      "None3\n",
      "La multiplicacion de 4.0 y 4.0 es 16.0\n"
     ]
    }
   ],
   "source": [
    "num_1 = float(input('Ingrese el primer numero '))\n",
    "num_2 = float(input('Ingrese el segundo numero '))\n",
    "\n",
    "opcion = input(print('''\\n Que desea hacer con estos numeros?\n",
    "        1. Sumarlos\n",
    "        2. Restarlos\n",
    "        3. Multiplicarlos\n",
    "        '''))\n",
    "\n",
    "if opcion == '1':\n",
    "    print(f'La suma de {num_1} y {num_2} es {num_1 + num_2}')\n",
    "elif opcion == '2':\n",
    "    print(f'La resta de {num_1} y {num_2} es {num_1 - num_2} ')\n",
    "elif opcion == '3':\n",
    "    print(f'La multiplicacion de {num_1} y {num_2} es {num_1 * num_2}')\n",
    "else:\n",
    "    print('Ingrese una opcion valida')"
   ]
  },
  {
   "cell_type": "markdown",
   "id": "19138bbc",
   "metadata": {},
   "source": [
    "### 2) Dada una lista de strings, haga un programa que devuelva:\n",
    "\n",
    "   * El numero de strings que tienen una longitud de 2 o mas caracteres, y cuyo primer y ultimo caracter son iguales.\n",
    "   * Una lista nueva solo estos strings."
   ]
  },
  {
   "cell_type": "code",
   "execution_count": 4,
   "id": "13aed7e1",
   "metadata": {},
   "outputs": [
    {
     "data": {
      "text/plain": [
       "(2, ['aula', 'alta'])"
      ]
     },
     "execution_count": 4,
     "metadata": {},
     "output_type": "execute_result"
    }
   ],
   "source": [
    "lista = ['hola', 'chau', 'aula', 'alta', 'casa', 'harina']\n",
    "\n",
    "lista_2 = []\n",
    "suma = 0\n",
    "\n",
    "for i in lista:\n",
    "    if (len(i) >= 2 and (i[0]) == i[-1]):\n",
    "        suma += 1\n",
    "        lista_2.append(i)\n",
    "suma, lista_2"
   ]
  },
  {
   "cell_type": "markdown",
   "id": "51497aad",
   "metadata": {},
   "source": [
    "### 3) Realiza un programa que pida un numero impar. Si el usuario no ingresa un numero impar, debe repetirse el proceso hasta que se ingrese un numero valido."
   ]
  },
  {
   "cell_type": "code",
   "execution_count": 14,
   "id": "2ea97c29",
   "metadata": {},
   "outputs": [
    {
     "name": "stdout",
     "output_type": "stream",
     "text": [
      "Ingrese un numero impar 5\n"
     ]
    }
   ],
   "source": [
    "while (True):\n",
    "    num = int(input('Ingrese un numero impar '))\n",
    "    if (num % 2 != 0):\n",
    "        break"
   ]
  },
  {
   "cell_type": "markdown",
   "id": "8a06c602",
   "metadata": {},
   "source": [
    "### 4) Realiza un programa que sume todos los numeros enteros pares desde el 0 hasta el 100.\n",
    "\n",
    ">PROTIP: Utilizar funciones sum() y range(). El tercer parametro de range (inicio, fin, salto) indica el incremento entro los valores del rango"
   ]
  },
  {
   "cell_type": "code",
   "execution_count": 20,
   "id": "2a924f3f",
   "metadata": {},
   "outputs": [
    {
     "data": {
      "text/plain": [
       "2550"
      ]
     },
     "execution_count": 20,
     "metadata": {},
     "output_type": "execute_result"
    }
   ],
   "source": [
    "# Primera forma\n",
    "\n",
    "sum(range(0, 101, 2))"
   ]
  },
  {
   "cell_type": "code",
   "execution_count": null,
   "id": "8f02aa55",
   "metadata": {},
   "outputs": [],
   "source": [
    "# Segunda forma\n",
    "num = 0\n",
    "suma = 0\n",
    "\n",
    "while num <= 100:\n",
    "    if (num % 2 == 0):\n",
    "        suma += num\n",
    "    num +=1\n",
    "    \n",
    "print(suma)"
   ]
  },
  {
   "cell_type": "markdown",
   "id": "0d361ef5",
   "metadata": {},
   "source": [
    "### 5) Realice un programa que pregunte al usuario cuantos numeros quiere introducir. Luego debe leer todos los numeros y obtener la media aritmetica."
   ]
  },
  {
   "cell_type": "code",
   "execution_count": 43,
   "id": "dcb900cb",
   "metadata": {},
   "outputs": [
    {
     "name": "stdout",
     "output_type": "stream",
     "text": [
      "\n",
      " Cuantos numeros desea ingresar? 2\n",
      "\n",
      " Ingrese el numero: 3.5\n",
      "\n",
      " Ingrese el numero: 4.5\n",
      "\n",
      " La cantidad de numeros introducidos es de 2, su suma da 8.0. Y su media es de 4.0.\n"
     ]
    }
   ],
   "source": [
    "cant_num = int(input('''\\n Cuantos numeros desea ingresar? '''))\n",
    "suma = 0 \n",
    "\n",
    "for i in range(cant_num):\n",
    "    suma += float(input('''\\n Ingrese el numero: '''))\n",
    "\n",
    "print(f'''\\n La cantidad de numeros introducidos es de {cant_num}, su suma da {suma}. Y su media es de {suma/cant_num}.''')"
   ]
  },
  {
   "cell_type": "markdown",
   "id": "0c966383",
   "metadata": {},
   "source": [
    "## "
   ]
  },
  {
   "cell_type": "markdown",
   "id": "a11394d9",
   "metadata": {},
   "source": [
    "### 6) Realiza un programa que pida al usuario un numero entero entre el 0 al 9, y que mientras el numero no sea correcto se repite el proceso. Luego debe comprobar si el numero se encuentra en la lista de numeros [0, 1, 3, 5, 8] y notificarlo.\n",
    "\n",
    "> PROTIP: El comando (i in lista) evalua la proposicion logica de siu existe el elemento i dentro del objeto lista"
   ]
  },
  {
   "cell_type": "code",
   "execution_count": 52,
   "id": "98abe72c",
   "metadata": {},
   "outputs": [
    {
     "name": "stdout",
     "output_type": "stream",
     "text": [
      "Ingrese un numero del 0 al 9 0\n",
      "El numero 0 se encuentra en la lista [0, 1, 3, 5, 8]\n"
     ]
    }
   ],
   "source": [
    "lista = [0,1,3,5,8]\n",
    "\n",
    "while (True):\n",
    "    num = int(input('Ingrese un numero del 0 al 9 '))\n",
    "    if num >= 0 and num <=9:\n",
    "        break\n",
    "if num in lista:\n",
    "    print(f'El numero {num} se encuentra en la lista {lista}')\n",
    "else:\n",
    "    print(f'El numero {num} no se encuentra en la lista {lista}')"
   ]
  },
  {
   "cell_type": "markdown",
   "id": "4b5ed6c8",
   "metadata": {},
   "source": [
    "### 7) Utilizando la funcion range() y la conversion a listas, genera las siguientes listas dinamicamente:\n",
    " \n",
    " * a) Todos los numero del 0 al 10 [0, 1, ..., 10]\n",
    " * b) Todos los numero del -10 al 0 [-10,-9, ..., 0]\n",
    " * c) Todos los numeros pares del 0 al 20 [0, 2, ..., 20]\n",
    " * d) Todos los numeros impares del -20 al 0 [-19, -17, ..., -1]\n",
    " * e) Todos los numeros multiplo de 5 del 0 al 50 [0, 5, 10, ..., 50]"
   ]
  },
  {
   "cell_type": "code",
   "execution_count": 55,
   "id": "f1ee0cbf",
   "metadata": {},
   "outputs": [
    {
     "name": "stdout",
     "output_type": "stream",
     "text": [
      " [0, 1, 2, 3, 4, 5, 6, 7, 8, 9, 10]\n"
     ]
    }
   ],
   "source": [
    "# a:\n",
    "print('', list(range(0,11)))"
   ]
  },
  {
   "cell_type": "code",
   "execution_count": 57,
   "id": "ae2714bd",
   "metadata": {},
   "outputs": [
    {
     "name": "stdout",
     "output_type": "stream",
     "text": [
      " [-10, -9, -8, -7, -6, -5, -4, -3, -2, -1, 0]\n"
     ]
    }
   ],
   "source": [
    "# b:\n",
    "print('', list(range(-10,1)))"
   ]
  },
  {
   "cell_type": "code",
   "execution_count": 58,
   "id": "dfdfe593",
   "metadata": {},
   "outputs": [
    {
     "name": "stdout",
     "output_type": "stream",
     "text": [
      " [0, 2, 4, 6, 8, 10, 12, 14, 16, 18]\n"
     ]
    }
   ],
   "source": [
    "# c:\n",
    "print('', list(range(0,20,2)))"
   ]
  },
  {
   "cell_type": "code",
   "execution_count": 62,
   "id": "3f6f548e",
   "metadata": {},
   "outputs": [
    {
     "name": "stdout",
     "output_type": "stream",
     "text": [
      " [-19, -17, -15, -13, -11, -9, -7, -5, -3, -1]\n"
     ]
    }
   ],
   "source": [
    "# d:\n",
    "print('', list(range(-19,0,2)))"
   ]
  },
  {
   "cell_type": "code",
   "execution_count": 63,
   "id": "ffc0fb6d",
   "metadata": {},
   "outputs": [
    {
     "name": "stdout",
     "output_type": "stream",
     "text": [
      " [0, 5, 10, 15, 20, 25, 30, 35, 40, 45, 50]\n"
     ]
    }
   ],
   "source": [
    "# e:\n",
    "print('', list(range(0,51,5)))"
   ]
  },
  {
   "cell_type": "markdown",
   "id": "bdaf54fa",
   "metadata": {},
   "source": [
    "### 8) Dadas dos listas, se debe generar una tercera lista con todos los elementos que se repitan en ellas, pero no debe repetir ningun elemento en la nueva lista."
   ]
  },
  {
   "cell_type": "code",
   "execution_count": 67,
   "id": "864610c8",
   "metadata": {},
   "outputs": [
    {
     "name": "stdout",
     "output_type": "stream",
     "text": [
      "['i', '', 'a', 'm', 'g', 'o']\n"
     ]
    }
   ],
   "source": [
    "lista_1 = ['M','i','','a','m','i','g','o', '','G','a','l','i', 'l','e','o']\n",
    "\n",
    "lista_2 = ['T','u', '', 'a','m','i','g','u','i','t','o']\n",
    "\n",
    "lista_3 = []\n",
    "\n",
    "for letra in lista_1:\n",
    "    if letra in lista_2 and letra not in lista_3:\n",
    "        lista_3.append(letra)\n",
    "print(lista_3)\n",
    "    \n",
    "\n"
   ]
  },
  {
   "cell_type": "code",
   "execution_count": null,
   "id": "a84c1102",
   "metadata": {},
   "outputs": [],
   "source": []
  }
 ],
 "metadata": {
  "kernelspec": {
   "display_name": "Python 3",
   "language": "python",
   "name": "python3"
  },
  "language_info": {
   "codemirror_mode": {
    "name": "ipython",
    "version": 3
   },
   "file_extension": ".py",
   "mimetype": "text/x-python",
   "name": "python",
   "nbconvert_exporter": "python",
   "pygments_lexer": "ipython3",
   "version": "3.8.8"
  }
 },
 "nbformat": 4,
 "nbformat_minor": 5
}
