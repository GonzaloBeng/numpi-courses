{
 "cells": [
  {
   "cell_type": "markdown",
   "id": "b41fb81b",
   "metadata": {},
   "source": [
    "## 4.5 Funciones recursivas\n",
    "\n",
    "### Una funcion recursiva es una funcion que se utiliza a si misma en el mismo cuerpo de su definicion."
   ]
  },
  {
   "cell_type": "code",
   "execution_count": 7,
   "id": "692cfd8f",
   "metadata": {},
   "outputs": [
    {
     "name": "stdout",
     "output_type": "stream",
     "text": [
      "4\n",
      "3\n",
      "2\n",
      "1\n",
      "0 boom\n",
      "Fin de funcion 0\n",
      "Fin de funcion 1\n",
      "Fin de funcion 2\n",
      "Fin de funcion 3\n",
      "Fin de funcion 4\n"
     ]
    }
   ],
   "source": [
    "def cuenta_atras(num):\n",
    "    num -= 1\n",
    "    if num > 0:\n",
    "        print(num)\n",
    "        cuenta_atras(num)\n",
    "    else:\n",
    "        print(num,'boom')\n",
    "    print('Fin de funcion', num)\n",
    "    \n",
    "cuenta_atras(5)"
   ]
  },
  {
   "cell_type": "code",
   "execution_count": 8,
   "id": "c4d05b7a",
   "metadata": {},
   "outputs": [
    {
     "name": "stdout",
     "output_type": "stream",
     "text": [
      "Valor inicial ---> 5\n",
      "Valor inicial ---> 4\n",
      "Valor inicial ---> 3\n",
      "Valor inicial ---> 2\n",
      "Valor inicial ---> 1\n",
      "Valor final ---> 1\n",
      "Valor final ---> 2\n",
      "Valor final ---> 6\n",
      "Valor final ---> 24\n",
      "Valor final ---> 120\n"
     ]
    },
    {
     "data": {
      "text/plain": [
       "120"
      ]
     },
     "execution_count": 8,
     "metadata": {},
     "output_type": "execute_result"
    }
   ],
   "source": [
    "def factorial(num):\n",
    "    print('Valor inicial --->', num)\n",
    "    if num > 1:\n",
    "        num = num * factorial(num-1)\n",
    "    print('Valor final --->', num)\n",
    "    return num\n",
    "\n",
    "factorial(5)"
   ]
  },
  {
   "cell_type": "code",
   "execution_count": null,
   "id": "cd91442f",
   "metadata": {},
   "outputs": [],
   "source": []
  }
 ],
 "metadata": {
  "kernelspec": {
   "display_name": "Python 3",
   "language": "python",
   "name": "python3"
  },
  "language_info": {
   "codemirror_mode": {
    "name": "ipython",
    "version": 3
   },
   "file_extension": ".py",
   "mimetype": "text/x-python",
   "name": "python",
   "nbconvert_exporter": "python",
   "pygments_lexer": "ipython3",
   "version": "3.8.8"
  }
 },
 "nbformat": 4,
 "nbformat_minor": 5
}
