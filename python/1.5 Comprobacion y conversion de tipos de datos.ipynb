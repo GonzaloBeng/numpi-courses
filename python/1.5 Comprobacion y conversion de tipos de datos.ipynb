{
 "cells": [
  {
   "cell_type": "markdown",
   "id": "0e1fee29",
   "metadata": {},
   "source": [
    "# 2.5 Comprobacion de Tipos"
   ]
  },
  {
   "cell_type": "code",
   "execution_count": 1,
   "id": "64d9fa26",
   "metadata": {},
   "outputs": [
    {
     "name": "stdout",
     "output_type": "stream",
     "text": [
      "-1 <class 'int'>\n"
     ]
    }
   ],
   "source": [
    "print(-1, type(-1))"
   ]
  },
  {
   "cell_type": "code",
   "execution_count": 2,
   "id": "ef94d737",
   "metadata": {},
   "outputs": [
    {
     "name": "stdout",
     "output_type": "stream",
     "text": [
      "3.1415 <class 'float'>\n"
     ]
    }
   ],
   "source": [
    "print(3.1415, type(3.1415))"
   ]
  },
  {
   "cell_type": "code",
   "execution_count": 3,
   "id": "42d501cd",
   "metadata": {},
   "outputs": [
    {
     "name": "stdout",
     "output_type": "stream",
     "text": [
      "Hola <class 'str'>\n"
     ]
    }
   ],
   "source": [
    "print('Hola', type('Hola'))"
   ]
  },
  {
   "cell_type": "code",
   "execution_count": 4,
   "id": "0b4b9a79",
   "metadata": {},
   "outputs": [
    {
     "name": "stdout",
     "output_type": "stream",
     "text": [
      "True <class 'bool'>\n"
     ]
    }
   ],
   "source": [
    "print(True, type(True))"
   ]
  },
  {
   "cell_type": "code",
   "execution_count": 5,
   "id": "4f899698",
   "metadata": {},
   "outputs": [
    {
     "name": "stdout",
     "output_type": "stream",
     "text": [
      "None <class 'NoneType'>\n"
     ]
    }
   ],
   "source": [
    "print(None, type(None))"
   ]
  },
  {
   "cell_type": "markdown",
   "id": "50c0a22d",
   "metadata": {},
   "source": [
    "## Coversion de Tipos"
   ]
  },
  {
   "cell_type": "code",
   "execution_count": 6,
   "id": "40ab84d9",
   "metadata": {},
   "outputs": [
    {
     "name": "stdout",
     "output_type": "stream",
     "text": [
      "<class 'int'>\n"
     ]
    }
   ],
   "source": [
    "x = 2;\n",
    "\n",
    "print(type(x));"
   ]
  },
  {
   "cell_type": "code",
   "execution_count": 7,
   "id": "38a5cd1c",
   "metadata": {},
   "outputs": [
    {
     "name": "stdout",
     "output_type": "stream",
     "text": [
      "<class 'str'>\n"
     ]
    }
   ],
   "source": [
    "nu_x = str(x);\n",
    "\n",
    "print(type(nu_x));"
   ]
  },
  {
   "cell_type": "markdown",
   "id": "35cbe0d6",
   "metadata": {},
   "source": [
    "## Tambien podemos hacer conversion sin asignar valores a una variable"
   ]
  },
  {
   "cell_type": "code",
   "execution_count": 11,
   "id": "fc0de379",
   "metadata": {},
   "outputs": [
    {
     "name": "stdout",
     "output_type": "stream",
     "text": [
      "2\n"
     ]
    }
   ],
   "source": [
    "print(int(2.1));"
   ]
  },
  {
   "cell_type": "code",
   "execution_count": 12,
   "id": "cbf3a905",
   "metadata": {},
   "outputs": [
    {
     "name": "stdout",
     "output_type": "stream",
     "text": [
      "1 0\n"
     ]
    }
   ],
   "source": [
    "print(int(True), int(False));"
   ]
  },
  {
   "cell_type": "code",
   "execution_count": 13,
   "id": "ddaa2f46",
   "metadata": {},
   "outputs": [
    {
     "name": "stdout",
     "output_type": "stream",
     "text": [
      "2\n"
     ]
    }
   ],
   "source": [
    "print(int('2'));"
   ]
  },
  {
   "cell_type": "code",
   "execution_count": 14,
   "id": "4f23bdcd",
   "metadata": {},
   "outputs": [
    {
     "name": "stdout",
     "output_type": "stream",
     "text": [
      "2\n"
     ]
    }
   ],
   "source": [
    "print(str(2));"
   ]
  },
  {
   "cell_type": "code",
   "execution_count": 15,
   "id": "8ddba8b0",
   "metadata": {},
   "outputs": [
    {
     "name": "stdout",
     "output_type": "stream",
     "text": [
      "3.1415\n"
     ]
    }
   ],
   "source": [
    "print(str(3.1415));"
   ]
  },
  {
   "cell_type": "code",
   "execution_count": 16,
   "id": "816c47e8",
   "metadata": {},
   "outputs": [
    {
     "name": "stdout",
     "output_type": "stream",
     "text": [
      "True False\n"
     ]
    }
   ],
   "source": [
    "print(str(True), str(False));"
   ]
  },
  {
   "cell_type": "code",
   "execution_count": 17,
   "id": "6c191ad6",
   "metadata": {},
   "outputs": [
    {
     "name": "stdout",
     "output_type": "stream",
     "text": [
      "None\n"
     ]
    }
   ],
   "source": [
    "print(str(None));"
   ]
  },
  {
   "cell_type": "code",
   "execution_count": null,
   "id": "75f4f6f5",
   "metadata": {},
   "outputs": [],
   "source": []
  }
 ],
 "metadata": {
  "kernelspec": {
   "display_name": "Python 3",
   "language": "python",
   "name": "python3"
  },
  "language_info": {
   "codemirror_mode": {
    "name": "ipython",
    "version": 3
   },
   "file_extension": ".py",
   "mimetype": "text/x-python",
   "name": "python",
   "nbconvert_exporter": "python",
   "pygments_lexer": "ipython3",
   "version": "3.8.8"
  }
 },
 "nbformat": 4,
 "nbformat_minor": 5
}
