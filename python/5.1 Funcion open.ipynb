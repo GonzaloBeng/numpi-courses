{
 "cells": [
  {
   "cell_type": "markdown",
   "id": "a078c484",
   "metadata": {},
   "source": [
    "## 5.1 Funcion open"
   ]
  },
  {
   "cell_type": "code",
   "execution_count": 6,
   "id": "0db3661b",
   "metadata": {},
   "outputs": [],
   "source": [
    "with open(r'C:\\Users\\Gonza\\Documents\\codigo\\output.txt', 'w') as f:\n",
    "    f.write('Escritura en ficheros')\n",
    "    f.write(' \\n Otra linea ')\n",
    "    f.write('Y misma linea')"
   ]
  },
  {
   "cell_type": "code",
   "execution_count": 7,
   "id": "4f4e7a9c",
   "metadata": {},
   "outputs": [
    {
     "name": "stdout",
     "output_type": "stream",
     "text": [
      "Escritura en ficheros \n",
      " Otra linea Y misma linea\n"
     ]
    }
   ],
   "source": [
    "with open(r'C:\\Users\\Gonza\\Documents\\codigo\\output.txt', 'r') as f:\n",
    "    print(f.read())"
   ]
  },
  {
   "cell_type": "code",
   "execution_count": 8,
   "id": "05df5942",
   "metadata": {},
   "outputs": [
    {
     "name": "stdout",
     "output_type": "stream",
     "text": [
      "['Escritura en ficheros \\n', ' Otra linea Y misma linea']\n"
     ]
    }
   ],
   "source": [
    "with open(r'C:\\Users\\Gonza\\Documents\\codigo\\output.txt', 'r') as f:\n",
    "    data = f.readlines()\n",
    "    print(data)"
   ]
  },
  {
   "cell_type": "code",
   "execution_count": 9,
   "id": "22d494e7",
   "metadata": {},
   "outputs": [
    {
     "name": "stdout",
     "output_type": "stream",
     "text": [
      "Escritura en ficheros \n",
      "\n",
      " Otra linea Y misma linea\n"
     ]
    }
   ],
   "source": [
    "with open(r'C:\\Users\\Gonza\\Documents\\codigo\\output.txt', 'r') as f:\n",
    "    for linea in f:\n",
    "        print(linea)"
   ]
  },
  {
   "cell_type": "code",
   "execution_count": 10,
   "id": "c5c2f7bf",
   "metadata": {},
   "outputs": [
    {
     "name": "stdout",
     "output_type": "stream",
     "text": [
      "['Escritura', 'en', 'ficheros'] <class 'list'>\n",
      "['Otra', 'linea', 'Y', 'misma', 'linea'] <class 'list'>\n"
     ]
    }
   ],
   "source": [
    "with open(r'C:\\Users\\Gonza\\Documents\\codigo\\output.txt', 'r') as f:\n",
    "    for linea in f:\n",
    "        palabras = linea.split()\n",
    "        print(palabras, type(palabras))"
   ]
  },
  {
   "cell_type": "code",
   "execution_count": 11,
   "id": "6052c1a5",
   "metadata": {},
   "outputs": [
    {
     "name": "stdout",
     "output_type": "stream",
     "text": [
      "['Escritura', 'en', 'ficheros', 'Otra', 'linea', 'Y', 'misma', 'linea'] <class 'list'>\n"
     ]
    }
   ],
   "source": [
    "palabras = list()\n",
    "\n",
    "with open(r'C:\\Users\\Gonza\\Documents\\codigo\\output.txt', 'r') as f:\n",
    "    for linea in f:\n",
    "        term_1 = linea.split()\n",
    "        for t in term_1:\n",
    "            palabras.append(t)\n",
    "    print(palabras,type(palabras))"
   ]
  },
  {
   "cell_type": "code",
   "execution_count": null,
   "id": "75bf7c45",
   "metadata": {},
   "outputs": [],
   "source": []
  }
 ],
 "metadata": {
  "kernelspec": {
   "display_name": "Python 3",
   "language": "python",
   "name": "python3"
  },
  "language_info": {
   "codemirror_mode": {
    "name": "ipython",
    "version": 3
   },
   "file_extension": ".py",
   "mimetype": "text/x-python",
   "name": "python",
   "nbconvert_exporter": "python",
   "pygments_lexer": "ipython3",
   "version": "3.8.8"
  }
 },
 "nbformat": 4,
 "nbformat_minor": 5
}
