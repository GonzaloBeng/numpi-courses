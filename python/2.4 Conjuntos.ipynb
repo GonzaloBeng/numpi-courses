{
 "cells": [
  {
   "cell_type": "markdown",
   "id": "d319f1c0",
   "metadata": {},
   "source": [
    "## 2.4 Conjuntos\n",
    "\n",
    "### Los conjuntos son colecciones de datos que nos facilitan ciertas operaciones ya que solo contienen los valores unicos.\n",
    "\n",
    "### Se diferencian de las tuplas y las listas en que\n",
    "   * Cada elemento dentro del conjunto es unico.\n",
    "   * Sus elementos no estan ordenados."
   ]
  },
  {
   "cell_type": "code",
   "execution_count": 1,
   "id": "6132a0aa",
   "metadata": {},
   "outputs": [],
   "source": [
    "conjunto_vacio = set()\n",
    "\n",
    "conjunto = {1, 2, 3}"
   ]
  },
  {
   "cell_type": "markdown",
   "id": "e3844704",
   "metadata": {},
   "source": [
    "print(type(conjunto_vacio), conjunto)"
   ]
  },
  {
   "cell_type": "markdown",
   "id": "78e21eac",
   "metadata": {},
   "source": [
    "### Metodos\n",
    "\n",
    "#### El metodo add() nos permite agregar elementos al conjunto"
   ]
  },
  {
   "cell_type": "code",
   "execution_count": 4,
   "id": "7dffd88d",
   "metadata": {},
   "outputs": [
    {
     "data": {
      "text/plain": [
       "{1, 2, 3, 4, 5, 'Ocho', 'Seis', 'Siete'}"
      ]
     },
     "execution_count": 4,
     "metadata": {},
     "output_type": "execute_result"
    }
   ],
   "source": [
    "conjunto.add(4)\n",
    "conjunto.add(5)\n",
    "conjunto.add('Seis')\n",
    "conjunto.add('Siete')\n",
    "conjunto.add('Ocho')\n",
    "conjunto ##Agrega elementos sin orden"
   ]
  },
  {
   "cell_type": "code",
   "execution_count": 5,
   "id": "aa00f26a",
   "metadata": {},
   "outputs": [
    {
     "name": "stdout",
     "output_type": "stream",
     "text": [
      "{1, 2, 3, 4, 5, 'Ocho', 'Seis', 'Siete'}\n"
     ]
    }
   ],
   "source": [
    "conjunto.add('Seis') ##Solo incluye contenidos unicos\n",
    "print(conjunto)"
   ]
  },
  {
   "cell_type": "code",
   "execution_count": 6,
   "id": "dad8843e",
   "metadata": {},
   "outputs": [
    {
     "data": {
      "text/plain": [
       "True"
      ]
     },
     "execution_count": 6,
     "metadata": {},
     "output_type": "execute_result"
    }
   ],
   "source": [
    "grupo = {'Gonza', 'Santi', 'Oky', 'Juli'}\n",
    "'Santi' in grupo"
   ]
  },
  {
   "cell_type": "code",
   "execution_count": 7,
   "id": "3f22706d",
   "metadata": {},
   "outputs": [
    {
     "data": {
      "text/plain": [
       "False"
      ]
     },
     "execution_count": 7,
     "metadata": {},
     "output_type": "execute_result"
    }
   ],
   "source": [
    "'Oky' not in grupo"
   ]
  },
  {
   "cell_type": "code",
   "execution_count": 8,
   "id": "654a2da7",
   "metadata": {},
   "outputs": [
    {
     "data": {
      "text/plain": [
       "True"
      ]
     },
     "execution_count": 8,
     "metadata": {},
     "output_type": "execute_result"
    }
   ],
   "source": [
    "4 not in grupo"
   ]
  },
  {
   "cell_type": "code",
   "execution_count": 9,
   "id": "6d01a681",
   "metadata": {},
   "outputs": [
    {
     "data": {
      "text/plain": [
       "True"
      ]
     },
     "execution_count": 9,
     "metadata": {},
     "output_type": "execute_result"
    }
   ],
   "source": [
    "5 in conjunto"
   ]
  },
  {
   "cell_type": "markdown",
   "id": "faa4495e",
   "metadata": {},
   "source": [
    "#### Un conjunto elimina automaticamente los elementos duplicados"
   ]
  },
  {
   "cell_type": "code",
   "execution_count": 10,
   "id": "d770f6f3",
   "metadata": {},
   "outputs": [
    {
     "data": {
      "text/plain": [
       "{'Ford', 'Toyota'}"
      ]
     },
     "execution_count": 10,
     "metadata": {},
     "output_type": "execute_result"
    }
   ],
   "source": [
    "grupo_carros = {'Toyota', 'Ford', 'Ford'}\n",
    "grupo_carros"
   ]
  },
  {
   "cell_type": "markdown",
   "id": "b14aa2c5",
   "metadata": {},
   "source": [
    "#### Gracias a esta propiedad podemos convertir una lista a conjunto para eliminar duplicados facilmente."
   ]
  },
  {
   "cell_type": "code",
   "execution_count": 11,
   "id": "ba9085fe",
   "metadata": {},
   "outputs": [
    {
     "name": "stdout",
     "output_type": "stream",
     "text": [
      "[1, 1, 2, 2, 3, 3, 4, 5, 4, 5, 6]\n"
     ]
    }
   ],
   "source": [
    "extra = [1,1,2,2,3,3,4,5,4,5,6]\n",
    "print(extra)"
   ]
  },
  {
   "cell_type": "code",
   "execution_count": 12,
   "id": "0240d61e",
   "metadata": {},
   "outputs": [
    {
     "name": "stdout",
     "output_type": "stream",
     "text": [
      "{1, 2, 3, 4, 5, 6}\n"
     ]
    }
   ],
   "source": [
    "c = set(extra)\n",
    "print(c)"
   ]
  },
  {
   "cell_type": "code",
   "execution_count": 13,
   "id": "6cf88666",
   "metadata": {},
   "outputs": [
    {
     "name": "stdout",
     "output_type": "stream",
     "text": [
      "[1, 2, 3, 4, 5, 6]\n"
     ]
    }
   ],
   "source": [
    "sin_duplicados = list(c)\n",
    "print(sin_duplicados)"
   ]
  },
  {
   "cell_type": "markdown",
   "id": "cdd9a6e6",
   "metadata": {},
   "source": [
    "#### Tambien puede hacerse la conversion en una sola linea de codigo."
   ]
  },
  {
   "cell_type": "code",
   "execution_count": 14,
   "id": "2c92c0c4",
   "metadata": {},
   "outputs": [
    {
     "name": "stdout",
     "output_type": "stream",
     "text": [
      "[1, 2, 3, 4, 5, 6]\n"
     ]
    }
   ],
   "source": [
    "no_dupli = list(set(c));\n",
    "print(no_dupli)"
   ]
  },
  {
   "cell_type": "markdown",
   "id": "da119354",
   "metadata": {},
   "source": [
    "#### Cuando aplicamos la conversion a una cadena, el conjunto resultante incluye solo las letras unicas de esta"
   ]
  },
  {
   "cell_type": "code",
   "execution_count": 15,
   "id": "9c63b105",
   "metadata": {},
   "outputs": [
    {
     "data": {
      "text/plain": [
       "{' ', ',', 'J', 'a', 'd', 'e', 'f', 'j', 'n', 'o', 'p', 'r', 't'}"
      ]
     },
     "execution_count": 15,
     "metadata": {},
     "output_type": "execute_result"
    }
   ],
   "source": [
    "cadena = 'Jefe de jefe, patron de patron'\n",
    "\n",
    "set(cadena)"
   ]
  },
  {
   "cell_type": "code",
   "execution_count": null,
   "id": "6abbba28",
   "metadata": {},
   "outputs": [],
   "source": []
  }
 ],
 "metadata": {
  "kernelspec": {
   "display_name": "Python 3",
   "language": "python",
   "name": "python3"
  },
  "language_info": {
   "codemirror_mode": {
    "name": "ipython",
    "version": 3
   },
   "file_extension": ".py",
   "mimetype": "text/x-python",
   "name": "python",
   "nbconvert_exporter": "python",
   "pygments_lexer": "ipython3",
   "version": "3.8.8"
  }
 },
 "nbformat": 4,
 "nbformat_minor": 5
}
