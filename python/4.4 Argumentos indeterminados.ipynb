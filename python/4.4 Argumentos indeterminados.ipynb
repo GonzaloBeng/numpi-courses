{
 "cells": [
  {
   "cell_type": "markdown",
   "id": "98e78c8f",
   "metadata": {},
   "source": [
    "## 4.4 Argumentos indeterminados"
   ]
  },
  {
   "cell_type": "code",
   "execution_count": 1,
   "id": "f691bbe6",
   "metadata": {},
   "outputs": [
    {
     "name": "stdout",
     "output_type": "stream",
     "text": [
      "(5, 'Gonzalo', [0, 1, 2, 3, 4])\n"
     ]
    }
   ],
   "source": [
    "def argumentar(*args):\n",
    "    print(args)\n",
    "    \n",
    "argumentar(5, 'Gonzalo', [0,1,2,3,4]) #Devuelve tupla"
   ]
  },
  {
   "cell_type": "code",
   "execution_count": 4,
   "id": "d4c5968d",
   "metadata": {},
   "outputs": [
    {
     "name": "stdout",
     "output_type": "stream",
     "text": [
      "5\n",
      "Gonzalo\n",
      "[0, 1, 2, 3, 4]\n"
     ]
    }
   ],
   "source": [
    "def argumentar(*args):\n",
    "    for elemento in args:\n",
    "        print(elemento)\n",
    "    \n",
    "argumentar(5, 'Gonzalo', [0,1,2,3,4]) #Devuelve elemento x elemento"
   ]
  },
  {
   "cell_type": "code",
   "execution_count": 5,
   "id": "3b8ec75d",
   "metadata": {},
   "outputs": [
    {
     "name": "stdout",
     "output_type": "stream",
     "text": [
      "{'id': 5, 'nombre': 'Gonzalo', 'notas': [8, 8, 9, 10]}\n"
     ]
    }
   ],
   "source": [
    "def nombrar(**kwargs):\n",
    "    print(kwargs)\n",
    "    \n",
    "nombrar(id=5, nombre='Gonzalo', notas=[8,8,9,10])"
   ]
  },
  {
   "cell_type": "code",
   "execution_count": 8,
   "id": "c64f5881",
   "metadata": {},
   "outputs": [
    {
     "name": "stdout",
     "output_type": "stream",
     "text": [
      "id\n",
      "nombre\n",
      "notas\n"
     ]
    }
   ],
   "source": [
    "def nombrar(**kwargs):\n",
    "    for kwarg in kwargs:\n",
    "        print(kwarg)\n",
    "    \n",
    "nombrar(id=5, nombre='Gonzalo', notas=[8,8,9,10])"
   ]
  },
  {
   "cell_type": "code",
   "execution_count": 9,
   "id": "4ef84131",
   "metadata": {},
   "outputs": [
    {
     "name": "stdout",
     "output_type": "stream",
     "text": [
      "id   5\n",
      "nombre   Gonzalo\n",
      "notas   [8, 8, 9, 10]\n"
     ]
    }
   ],
   "source": [
    "def nombrar(**kwargs):\n",
    "    for clave in kwargs:\n",
    "        print(clave, ' ', kwargs[clave])\n",
    "    \n",
    "nombrar(id=5, nombre='Gonzalo', notas=[8,8,9,10])"
   ]
  },
  {
   "cell_type": "code",
   "execution_count": 10,
   "id": "a5f62e88",
   "metadata": {},
   "outputs": [
    {
     "name": "stdout",
     "output_type": "stream",
     "text": [
      "El promedio indeterminado es 9.4\n",
      "id \t 5\n",
      "nombre \t Gonzalo\n",
      "edad \t 27\n",
      "notas \t [8, 8, 9, 10]\n"
     ]
    }
   ],
   "source": [
    "def super_nominacion(*args, **kwargs):\n",
    "    suma = 0\n",
    "    for e in args:\n",
    "        suma += e\n",
    "    print('El promedio indeterminado es {}'.format(suma/len(args)))\n",
    "    for clave in kwargs:\n",
    "        print(clave, '\\t', kwargs[clave])\n",
    "\n",
    "super_nominacion(10,10,20,3,4, id=5, nombre='Gonzalo', edad=27, notas=[8,8,9,10])"
   ]
  },
  {
   "cell_type": "code",
   "execution_count": null,
   "id": "30a6fbef",
   "metadata": {},
   "outputs": [],
   "source": []
  }
 ],
 "metadata": {
  "kernelspec": {
   "display_name": "Python 3",
   "language": "python",
   "name": "python3"
  },
  "language_info": {
   "codemirror_mode": {
    "name": "ipython",
    "version": 3
   },
   "file_extension": ".py",
   "mimetype": "text/x-python",
   "name": "python",
   "nbconvert_exporter": "python",
   "pygments_lexer": "ipython3",
   "version": "3.8.8"
  }
 },
 "nbformat": 4,
 "nbformat_minor": 5
}
