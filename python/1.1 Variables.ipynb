{
 "cells": [
  {
   "cell_type": "markdown",
   "id": "a739b2fe",
   "metadata": {},
   "source": [
    "# 1.1 Variables\n",
    "\n",
    "## Python es un lenguaje de tipado dinamico, y no necesita que se declaren el tipo de una variable. El nombre de cada variable debe cumplir las siguientes condiciones:\n",
    "\n",
    "* Solo puede incluir caracteres alfanumericos y 'underscore'\n",
    "* No puede contener espacios en blanco\n",
    "* No puede empezar por un numero\n",
    "* En python el nombre de las variables es case sensitive, ej: Python != python\n",
    "* Existen palabras reservadas quyue no pueden ser utilizadas para nombrar variables. Algunos ejemplos:\n",
    ">[Python3.x, False, as, continue, else, from, , in, not, return, yield]\n",
    "\n",
    "## El simbolo de igualdad (=) se utiliza para asignar valores a las variables."
   ]
  },
  {
   "cell_type": "code",
   "execution_count": 1,
   "id": "2100b83c",
   "metadata": {},
   "outputs": [],
   "source": [
    "x=30\n",
    "\n",
    "nombre=\"The lord of the rings\""
   ]
  }
 ],
 "metadata": {
  "kernelspec": {
   "display_name": "Python 3",
   "language": "python",
   "name": "python3"
  },
  "language_info": {
   "codemirror_mode": {
    "name": "ipython",
    "version": 3
   },
   "file_extension": ".py",
   "mimetype": "text/x-python",
   "name": "python",
   "nbconvert_exporter": "python",
   "pygments_lexer": "ipython3",
   "version": "3.8.8"
  }
 },
 "nbformat": 4,
 "nbformat_minor": 5
}
