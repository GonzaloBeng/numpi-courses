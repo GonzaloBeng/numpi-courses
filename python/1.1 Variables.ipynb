{
 "cells": [
  {
   "cell_type": "markdown",
   "id": "a739b2fe",
   "metadata": {},
   "source": [
    "# 1.1 Variables\n",
    "\n",
    "## Python es un lenguaje de tipado dinamico, y no necesita que se declaren el tipo de una variable. El nombre de cada variable debe cumplir las siguientes condiciones:\n",
    "\n",
    "* Solo puede incluir caracteres alfanumericos y 'underscore'\n",
    "* No puede contener espacios en blanco\n",
    "* No puede empezar por un numero\n",
    "* En python el nombre de las variables es case sensitive, ej: Python != python\n",
    "* Existen palabras reservadas quyue no pueden ser utilizadas para nombrar variables. Algunos ejemplos:\n",
    ">[Python3.x, False, as, continue, else, from, , in, not, return, yield]\n",
    "\n",
    "## El simbolo de igualdad (=) se utiliza para asignar valores a las variables."
   ]
  },
  {
   "cell_type": "code",
   "execution_count": 2,
   "id": "2100b83c",
   "metadata": {},
   "outputs": [],
   "source": [
    "x=30\n",
    "\n",
    "nombre='the lord of the rings'"
   ]
  },
  {
   "cell_type": "code",
   "execution_count": 6,
   "id": "a74db78f",
   "metadata": {},
   "outputs": [
    {
     "data": {
      "text/plain": [
       "30"
      ]
     },
     "execution_count": 6,
     "metadata": {},
     "output_type": "execute_result"
    }
   ],
   "source": [
    "x"
   ]
  },
  {
   "cell_type": "code",
   "execution_count": 7,
   "id": "552c8bce",
   "metadata": {},
   "outputs": [
    {
     "data": {
      "text/plain": [
       "'the lord of the rings'"
      ]
     },
     "execution_count": 7,
     "metadata": {},
     "output_type": "execute_result"
    }
   ],
   "source": [
    "nombre"
   ]
  },
  {
   "cell_type": "markdown",
   "id": "af166896",
   "metadata": {},
   "source": [
    "### En Python los tipos primitivos son: numeros, strings, booleanos, tuplas, listas y diccionarios.\n",
    "\n",
    "## Metodos.\n",
    "\n",
    "### Son funciones de clase, esto quiere decir que cada tiopo de variable incluye unas funciones asociadas a ella desde su definicion."
   ]
  },
  {
   "cell_type": "code",
   "execution_count": 5,
   "id": "82d64e65",
   "metadata": {},
   "outputs": [
    {
     "data": {
      "text/plain": [
       "40"
      ]
     },
     "execution_count": 5,
     "metadata": {},
     "output_type": "execute_result"
    }
   ],
   "source": [
    "x.__add__(10)"
   ]
  },
  {
   "cell_type": "code",
   "execution_count": 8,
   "id": "42eba3e1",
   "metadata": {
    "scrolled": true
   },
   "outputs": [
    {
     "data": {
      "text/plain": [
       "{'uno': 30, 'dos': 40}"
      ]
     },
     "execution_count": 8,
     "metadata": {},
     "output_type": "execute_result"
    }
   ],
   "source": [
    "diccionario = {'uno': x, 'dos': x.__add__(10)};\n",
    "\n",
    "diccionario"
   ]
  },
  {
   "cell_type": "code",
   "execution_count": null,
   "id": "edeb63be",
   "metadata": {},
   "outputs": [],
   "source": []
  }
 ],
 "metadata": {
  "kernelspec": {
   "display_name": "Python 3",
   "language": "python",
   "name": "python3"
  },
  "language_info": {
   "codemirror_mode": {
    "name": "ipython",
    "version": 3
   },
   "file_extension": ".py",
   "mimetype": "text/x-python",
   "name": "python",
   "nbconvert_exporter": "python",
   "pygments_lexer": "ipython3",
   "version": "3.8.8"
  }
 },
 "nbformat": 4,
 "nbformat_minor": 5
}
