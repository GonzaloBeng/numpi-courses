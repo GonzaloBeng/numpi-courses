{
 "cells": [
  {
   "cell_type": "markdown",
   "id": "60f01f99",
   "metadata": {},
   "source": [
    "## 4.1 Definir una funcion\n",
    "\n",
    "### Las funciones en python, al igual que en el resto de los lenguajes de programacion, permite reutilizar codigo. Una funcion podria considerarse como una variable que encierra un conjunto de instrucciones. Por lo tanto al llamar a una funcion lo que estamos haciendo es ordenar al programa que ejecute un conjunto de instrucciones.\n",
    "### Algunas caracteristicas de las funciones en Python son:\n",
    "\n",
    "* Se pueden crear en cualquier momento del programa.\n",
    "* Su palabra reservada es def.\n",
    "* Seguido de def viene el nombre de la funcion y entre parentesis los argumentos de entrada.\n",
    "* No es obligatorio que la funcion devuelva un valor, aunque se puede usando la palabra reservada return.\n",
    "* Las variables declaradas dentro de una funcion son locales a esa funcion.\n",
    "* Para declarar una variable dentro de una funcion, pero poder acceder desde fuera de la funcion, esta se puede declarar como global (con global)"
   ]
  },
  {
   "cell_type": "code",
   "execution_count": 1,
   "id": "f66503f7",
   "metadata": {},
   "outputs": [
    {
     "name": "stdout",
     "output_type": "stream",
     "text": [
      "Hola, soy la funcion saludar()\n"
     ]
    }
   ],
   "source": [
    "def saludar():\n",
    "    print('Hola, soy la funcion saludar()')\n",
    "    \n",
    "saludar()"
   ]
  },
  {
   "cell_type": "code",
   "execution_count": 4,
   "id": "72049c01",
   "metadata": {},
   "outputs": [
    {
     "name": "stdout",
     "output_type": "stream",
     "text": [
      "5*0 = 0\n",
      "5*1 = 5\n",
      "5*2 = 10\n",
      "5*3 = 15\n",
      "5*4 = 20\n",
      "5*5 = 25\n",
      "5*6 = 30\n",
      "5*7 = 35\n",
      "5*8 = 40\n",
      "5*9 = 45\n",
      "5*10 = 50\n"
     ]
    }
   ],
   "source": [
    "def tabla_del_5():\n",
    "    for i in range(11):\n",
    "        print(f'5*{i} = {5*i}')\n",
    "tabla_del_5()"
   ]
  },
  {
   "cell_type": "markdown",
   "id": "a3377238",
   "metadata": {},
   "source": [
    "## Scope\n",
    "\n",
    "### En Python cada nombre(los identificadores de variables, funciones, objetos, etc) tiene su scope (alcance). El scope define el area de un programa en la cual puedes acceder a un nombre."
   ]
  },
  {
   "cell_type": "code",
   "execution_count": 6,
   "id": "022d6a85",
   "metadata": {},
   "outputs": [
    {
     "data": {
      "text/plain": [
       "10"
      ]
     },
     "execution_count": 6,
     "metadata": {},
     "output_type": "execute_result"
    }
   ],
   "source": [
    "def prueba():\n",
    "    n=10\n",
    "    return n\n",
    "prueba()"
   ]
  },
  {
   "cell_type": "code",
   "execution_count": 7,
   "id": "bd47c5c6",
   "metadata": {},
   "outputs": [
    {
     "ename": "NameError",
     "evalue": "name 'n' is not defined",
     "output_type": "error",
     "traceback": [
      "\u001b[1;31m---------------------------------------------------------------------------\u001b[0m",
      "\u001b[1;31mNameError\u001b[0m                                 Traceback (most recent call last)",
      "\u001b[1;32m<ipython-input-7-ab0680a89434>\u001b[0m in \u001b[0;36m<module>\u001b[1;34m\u001b[0m\n\u001b[1;32m----> 1\u001b[1;33m \u001b[0mn\u001b[0m\u001b[1;33m\u001b[0m\u001b[1;33m\u001b[0m\u001b[0m\n\u001b[0m",
      "\u001b[1;31mNameError\u001b[0m: name 'n' is not defined"
     ]
    }
   ],
   "source": [
    "n"
   ]
  },
  {
   "cell_type": "code",
   "execution_count": 8,
   "id": "727cae52",
   "metadata": {},
   "outputs": [
    {
     "name": "stdout",
     "output_type": "stream",
     "text": [
      "10\n"
     ]
    }
   ],
   "source": [
    "n=10\n",
    "\n",
    "def prueba():\n",
    "    print(n)\n",
    "    \n",
    "prueba()"
   ]
  },
  {
   "cell_type": "code",
   "execution_count": 9,
   "id": "1d8f6278",
   "metadata": {},
   "outputs": [
    {
     "data": {
      "text/plain": [
       "10"
      ]
     },
     "execution_count": 9,
     "metadata": {},
     "output_type": "execute_result"
    }
   ],
   "source": [
    "n"
   ]
  },
  {
   "cell_type": "code",
   "execution_count": 10,
   "id": "89ec79eb",
   "metadata": {},
   "outputs": [
    {
     "name": "stdout",
     "output_type": "stream",
     "text": [
      "8\n"
     ]
    }
   ],
   "source": [
    "def test():\n",
    "    print(m)\n",
    "    \n",
    "m=8\n",
    "\n",
    "test()"
   ]
  },
  {
   "cell_type": "code",
   "execution_count": 12,
   "id": "ded9d4b5",
   "metadata": {},
   "outputs": [
    {
     "name": "stdout",
     "output_type": "stream",
     "text": [
      "5\n",
      "5\n",
      "10\n"
     ]
    }
   ],
   "source": [
    "def test():\n",
    "    o = 5 #Esta variable solamente existe dentro de la funcion\n",
    "    print(o)\n",
    "test()\n",
    "\n",
    "o = 10 #Esta variable abarca todo el proceso\n",
    "\n",
    "test()\n",
    "print(o)"
   ]
  },
  {
   "cell_type": "code",
   "execution_count": null,
   "id": "378c6a9a",
   "metadata": {},
   "outputs": [],
   "source": []
  }
 ],
 "metadata": {
  "kernelspec": {
   "display_name": "Python 3",
   "language": "python",
   "name": "python3"
  },
  "language_info": {
   "codemirror_mode": {
    "name": "ipython",
    "version": 3
   },
   "file_extension": ".py",
   "mimetype": "text/x-python",
   "name": "python",
   "nbconvert_exporter": "python",
   "pygments_lexer": "ipython3",
   "version": "3.8.8"
  }
 },
 "nbformat": 4,
 "nbformat_minor": 5
}
