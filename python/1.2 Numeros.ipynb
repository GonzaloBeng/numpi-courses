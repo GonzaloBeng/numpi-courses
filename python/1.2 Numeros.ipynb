{
 "cells": [
  {
   "cell_type": "markdown",
   "id": "020d0f51",
   "metadata": {},
   "source": [
    "# 1.2 Numeros"
   ]
  },
  {
   "cell_type": "markdown",
   "id": "34f7edb9",
   "metadata": {},
   "source": [
    "### Podemos asignarle valores numericos a las variables. Python tiene 4 tipos de variables para almacenarlos"
   ]
  },
  {
   "cell_type": "code",
   "execution_count": 1,
   "id": "d1d35838",
   "metadata": {},
   "outputs": [
    {
     "data": {
      "text/plain": [
       "3"
      ]
     },
     "execution_count": 1,
     "metadata": {},
     "output_type": "execute_result"
    }
   ],
   "source": [
    "1+2"
   ]
  },
  {
   "cell_type": "code",
   "execution_count": 2,
   "id": "60b8a395",
   "metadata": {},
   "outputs": [
    {
     "data": {
      "text/plain": [
       "10"
      ]
     },
     "execution_count": 2,
     "metadata": {},
     "output_type": "execute_result"
    }
   ],
   "source": [
    "2*5"
   ]
  },
  {
   "cell_type": "markdown",
   "id": "ad6b272f",
   "metadata": {},
   "source": [
    "## 4 tipos de variables para guardar\n",
    "### 1) INT\n",
    "#### Para numeros enteros"
   ]
  },
  {
   "cell_type": "code",
   "execution_count": 3,
   "id": "719b0c73",
   "metadata": {},
   "outputs": [],
   "source": [
    "x = 3"
   ]
  },
  {
   "cell_type": "markdown",
   "id": "8eddb1e2",
   "metadata": {},
   "source": [
    "### 2) Float\n",
    "#### Para numeros decimales"
   ]
  },
  {
   "cell_type": "code",
   "execution_count": 4,
   "id": "350c4c9f",
   "metadata": {},
   "outputs": [],
   "source": [
    "y = 4.5"
   ]
  },
  {
   "cell_type": "code",
   "execution_count": 7,
   "id": "e644690b",
   "metadata": {},
   "outputs": [
    {
     "data": {
      "text/plain": [
       "float"
      ]
     },
     "execution_count": 7,
     "metadata": {},
     "output_type": "execute_result"
    }
   ],
   "source": [
    "type(y) ####Muestra en consola el tipo de la variable"
   ]
  },
  {
   "cell_type": "markdown",
   "id": "d060fedf",
   "metadata": {},
   "source": [
    "### 3) Complex\n",
    "#### Para numeros complejos, o sea, de la forma (A + Bj) donde la unidad imaginaria esta representada por j."
   ]
  },
  {
   "cell_type": "code",
   "execution_count": 8,
   "id": "67307b2c",
   "metadata": {},
   "outputs": [],
   "source": [
    "c = 1+2j;"
   ]
  },
  {
   "cell_type": "code",
   "execution_count": 9,
   "id": "75aa6c7b",
   "metadata": {},
   "outputs": [
    {
     "data": {
      "text/plain": [
       "((1+2j), complex)"
      ]
     },
     "execution_count": 9,
     "metadata": {},
     "output_type": "execute_result"
    }
   ],
   "source": [
    "c, type(c)"
   ]
  },
  {
   "cell_type": "code",
   "execution_count": 10,
   "id": "3a42cb12",
   "metadata": {},
   "outputs": [],
   "source": [
    "parte_real = c.real ###Muestra la parte real de la variable\n",
    "parte_imaginaria = c.imag #Se puede ver la parte imaginaria de la variables"
   ]
  },
  {
   "cell_type": "code",
   "execution_count": 11,
   "id": "237c747f",
   "metadata": {},
   "outputs": [
    {
     "data": {
      "text/plain": [
       "(1.0, 2.0)"
      ]
     },
     "execution_count": 11,
     "metadata": {},
     "output_type": "execute_result"
    }
   ],
   "source": [
    "parte_real, parte_imaginaria"
   ]
  },
  {
   "cell_type": "code",
   "execution_count": null,
   "id": "0719a17e",
   "metadata": {},
   "outputs": [],
   "source": []
  }
 ],
 "metadata": {
  "kernelspec": {
   "display_name": "Python 3",
   "language": "python",
   "name": "python3"
  },
  "language_info": {
   "codemirror_mode": {
    "name": "ipython",
    "version": 3
   },
   "file_extension": ".py",
   "mimetype": "text/x-python",
   "name": "python",
   "nbconvert_exporter": "python",
   "pygments_lexer": "ipython3",
   "version": "3.8.8"
  }
 },
 "nbformat": 4,
 "nbformat_minor": 5
}
