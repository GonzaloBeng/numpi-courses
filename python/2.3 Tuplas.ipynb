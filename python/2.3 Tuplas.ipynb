{
 "cells": [
  {
   "cell_type": "markdown",
   "id": "eeecf06a",
   "metadata": {},
   "source": [
    "## 2.3 Tuplas\n",
    "\n",
    "### Una tupla es una secuencia de valores (muy parecida a una lista). Los valores almacenados en una tupla pueden ser de cualquier tipo, y tambien estan indexados.\n",
    "\n",
    "### Se diferencian de las listas en que:\n",
    "\n",
    "   * No podemos modificar sus valores luego de crearla (Es inmutable).\n",
    "   * Definimos sus valores entre parentesis, en vez de corchetes."
   ]
  },
  {
   "cell_type": "code",
   "execution_count": 3,
   "id": "8fe60fd2",
   "metadata": {},
   "outputs": [],
   "source": [
    "tupla = ('Lunes', 'Martes', 'Miercoles')\n",
    "\n",
    "tupla_multi = ([1,2,3], 'A', 71.5, tupla)"
   ]
  },
  {
   "cell_type": "code",
   "execution_count": 4,
   "id": "91ab91b2",
   "metadata": {},
   "outputs": [
    {
     "data": {
      "text/plain": [
       "([1, 2, 3], 'A', 71.5, ('Lunes', 'Martes', 'Miercoles'))"
      ]
     },
     "execution_count": 4,
     "metadata": {},
     "output_type": "execute_result"
    }
   ],
   "source": [
    "tupla_multi"
   ]
  },
  {
   "cell_type": "code",
   "execution_count": 5,
   "id": "2f8c2e09",
   "metadata": {},
   "outputs": [
    {
     "data": {
      "text/plain": [
       "('Lunes', 'Martes', 'Miercoles')"
      ]
     },
     "execution_count": 5,
     "metadata": {},
     "output_type": "execute_result"
    }
   ],
   "source": [
    "tupla_multi[-1]"
   ]
  },
  {
   "cell_type": "code",
   "execution_count": 6,
   "id": "e9f87cb0",
   "metadata": {},
   "outputs": [
    {
     "ename": "TypeError",
     "evalue": "'tuple' object does not support item assignment",
     "output_type": "error",
     "traceback": [
      "\u001b[1;31m---------------------------------------------------------------------------\u001b[0m",
      "\u001b[1;31mTypeError\u001b[0m                                 Traceback (most recent call last)",
      "\u001b[1;32m<ipython-input-6-5e88e809fb29>\u001b[0m in \u001b[0;36m<module>\u001b[1;34m\u001b[0m\n\u001b[1;32m----> 1\u001b[1;33m \u001b[0mtupla_multi\u001b[0m\u001b[1;33m[\u001b[0m\u001b[1;36m0\u001b[0m\u001b[1;33m]\u001b[0m \u001b[1;33m=\u001b[0m \u001b[1;36m4\u001b[0m\u001b[1;33m\u001b[0m\u001b[1;33m\u001b[0m\u001b[0m\n\u001b[0m",
      "\u001b[1;31mTypeError\u001b[0m: 'tuple' object does not support item assignment"
     ]
    }
   ],
   "source": [
    "tupla_multi[0] = 4"
   ]
  },
  {
   "cell_type": "code",
   "execution_count": 7,
   "id": "de08b241",
   "metadata": {},
   "outputs": [
    {
     "data": {
      "text/plain": [
       "['Lunes', 'Martes', 'Miercoles']"
      ]
     },
     "execution_count": 7,
     "metadata": {},
     "output_type": "execute_result"
    }
   ],
   "source": [
    "lista = list(tupla)\n",
    "lista"
   ]
  },
  {
   "cell_type": "code",
   "execution_count": 8,
   "id": "a0859adf",
   "metadata": {},
   "outputs": [
    {
     "data": {
      "text/plain": [
       "['Domingo', 'Martes', 'Miercoles']"
      ]
     },
     "execution_count": 8,
     "metadata": {},
     "output_type": "execute_result"
    }
   ],
   "source": [
    "lista[0] = 'Domingo'\n",
    "lista"
   ]
  },
  {
   "cell_type": "markdown",
   "id": "1da72a65",
   "metadata": {},
   "source": [
    "### Metodos"
   ]
  },
  {
   "cell_type": "code",
   "execution_count": 9,
   "id": "52748b8d",
   "metadata": {},
   "outputs": [
    {
     "data": {
      "text/plain": [
       "1"
      ]
     },
     "execution_count": 9,
     "metadata": {},
     "output_type": "execute_result"
    }
   ],
   "source": [
    "tupla.index('Martes')"
   ]
  },
  {
   "cell_type": "code",
   "execution_count": 11,
   "id": "cbe3aec7",
   "metadata": {},
   "outputs": [
    {
     "data": {
      "text/plain": [
       "1"
      ]
     },
     "execution_count": 11,
     "metadata": {},
     "output_type": "execute_result"
    }
   ],
   "source": [
    "tupla_multi.count(71.5)"
   ]
  },
  {
   "cell_type": "code",
   "execution_count": null,
   "id": "fa15935f",
   "metadata": {},
   "outputs": [],
   "source": []
  }
 ],
 "metadata": {
  "kernelspec": {
   "display_name": "Python 3",
   "language": "python",
   "name": "python3"
  },
  "language_info": {
   "codemirror_mode": {
    "name": "ipython",
    "version": 3
   },
   "file_extension": ".py",
   "mimetype": "text/x-python",
   "name": "python",
   "nbconvert_exporter": "python",
   "pygments_lexer": "ipython3",
   "version": "3.8.8"
  }
 },
 "nbformat": 4,
 "nbformat_minor": 5
}
