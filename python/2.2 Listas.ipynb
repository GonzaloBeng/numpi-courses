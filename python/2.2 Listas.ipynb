{
 "cells": [
  {
   "cell_type": "markdown",
   "id": "e7227c3b",
   "metadata": {},
   "source": [
    "## 3.2 Listas\n",
    "\n",
    "### Son un tipo de dato compuesto de varios elementos, estos pueden ser caracteres o numeros, u otros tipos incluso. Cada elemento de la lista es accesible gracias a su indice."
   ]
  },
  {
   "cell_type": "code",
   "execution_count": 7,
   "id": "db936a26",
   "metadata": {},
   "outputs": [],
   "source": [
    "lista_de_compras = [\"Harina\", \"Levadura\", \"Tomate\", \"Queso\"]\n",
    "lista_de_precios = [\"Harina\",2, \"Levadura\",1, \"Tomate\",3.5, \"Queso\",5]"
   ]
  },
  {
   "cell_type": "code",
   "execution_count": 8,
   "id": "573e2960",
   "metadata": {},
   "outputs": [
    {
     "data": {
      "text/plain": [
       "['Harina', 'Levadura', 'Tomate', 'Queso']"
      ]
     },
     "execution_count": 8,
     "metadata": {},
     "output_type": "execute_result"
    }
   ],
   "source": [
    "lista_de_compras"
   ]
  },
  {
   "cell_type": "code",
   "execution_count": 11,
   "id": "648171b6",
   "metadata": {},
   "outputs": [
    {
     "name": "stdout",
     "output_type": "stream",
     "text": [
      "La Harina cuesta 2, La Levadura cuesta 1\n"
     ]
    }
   ],
   "source": [
    "print(f\"\"\"La {lista_de_compras[0]} cuesta {lista_de_precios[1]}, La {lista_de_compras[1]} cuesta {lista_de_precios[3]}\"\"\")"
   ]
  },
  {
   "cell_type": "markdown",
   "id": "f01c1d0c",
   "metadata": {},
   "source": [
    "### *Mutabilidad*\n",
    "\n",
    "#### Las listas tienen la caracteristica de permitirnos modificar el valor de alguno de sus elementos. Esto se llama mutabilidad y es importante distinguir entre objetos *mutables*, como las listas, y otros objetos *inmutables*."
   ]
  },
  {
   "cell_type": "code",
   "execution_count": 14,
   "id": "7400e686",
   "metadata": {},
   "outputs": [
    {
     "name": "stdout",
     "output_type": "stream",
     "text": [
      "['Harina', 8, 'Levadura', 1, 'Tomate', 3.5, 'Queso', 5]\n",
      "La Harina cuesta 8\n"
     ]
    }
   ],
   "source": [
    "lista_de_precios[1] = 8\n",
    "print(f'''{lista_de_precios}\n",
    "La {lista_de_precios[0]} cuesta {lista_de_precios[1]}''')"
   ]
  },
  {
   "cell_type": "markdown",
   "id": "c06a1a1b",
   "metadata": {},
   "source": [
    "### *Metodos en las listas*\n",
    "\n",
    "#### Podemos inicializar una lista de numeros a traves de una funcion llamada range(a, b, in):\n",
    "\n",
    "   * a es el limite inferior de la secuencia de numeros\n",
    "   * b es el limite superior (este se excluye)\n",
    "   * in es la unidad de incremento (argumento opcional)"
   ]
  },
  {
   "cell_type": "code",
   "execution_count": 15,
   "id": "1b8e745a",
   "metadata": {},
   "outputs": [
    {
     "data": {
      "text/plain": [
       "range(0, 20, 2)"
      ]
     },
     "execution_count": 15,
     "metadata": {},
     "output_type": "execute_result"
    }
   ],
   "source": [
    "range(0, 20, 2)"
   ]
  },
  {
   "cell_type": "code",
   "execution_count": 16,
   "id": "26d84386",
   "metadata": {},
   "outputs": [
    {
     "name": "stdout",
     "output_type": "stream",
     "text": [
      "range(0, 20, 2)\n",
      "[0, 2, 4, 6, 8, 10, 12, 14, 16, 18]\n"
     ]
    }
   ],
   "source": [
    "numeros = range(0, 20, 2)\n",
    "\n",
    "lista_numeros = list(numeros);\n",
    "\n",
    "print(f'''{numeros}\n",
    "{lista_numeros}''')"
   ]
  },
  {
   "cell_type": "markdown",
   "id": "34493445",
   "metadata": {},
   "source": [
    "#### Para agregar elementos a la lista utilizamos el metodo append()."
   ]
  },
  {
   "cell_type": "code",
   "execution_count": 17,
   "id": "b7d7703a",
   "metadata": {},
   "outputs": [
    {
     "name": "stdout",
     "output_type": "stream",
     "text": [
      "[0, 2, 4, 6, 8, 10, 12, 14, 16, 18, 4]\n"
     ]
    }
   ],
   "source": [
    "lista_numeros.append(4)\n",
    "print(lista_numeros)"
   ]
  },
  {
   "cell_type": "markdown",
   "id": "8671be12",
   "metadata": {},
   "source": [
    "#### Podemos aplicar el operador de adicion + para concatenar dos listas"
   ]
  },
  {
   "cell_type": "code",
   "execution_count": 18,
   "id": "aca2c3f5",
   "metadata": {},
   "outputs": [
    {
     "data": {
      "text/plain": [
       "[0, 2, 4, 6, 8, 10, 12, 14, 16, 18, 4, 'Veinte', 'Veintidos', 'Veinticuatro']"
      ]
     },
     "execution_count": 18,
     "metadata": {},
     "output_type": "execute_result"
    }
   ],
   "source": [
    "lista_numeros + ['Veinte', 'Veintidos', 'Veinticuatro']"
   ]
  },
  {
   "cell_type": "code",
   "execution_count": 19,
   "id": "bd5669a0",
   "metadata": {},
   "outputs": [
    {
     "data": {
      "text/plain": [
       "[0, 2, 4, 6, 8, 'Veinte', 'Veintidos', 'Veinticuatro']"
      ]
     },
     "execution_count": 19,
     "metadata": {},
     "output_type": "execute_result"
    }
   ],
   "source": [
    "nu_lista = lista_numeros[:5] + ['Veinte', 'Veintidos', 'Veinticuatro']\n",
    "nu_lista"
   ]
  },
  {
   "cell_type": "markdown",
   "id": "4ea043cd",
   "metadata": {},
   "source": [
    "#### La funcion len() nos permite conocer el numero total de elementos"
   ]
  },
  {
   "cell_type": "code",
   "execution_count": 20,
   "id": "80c9c91c",
   "metadata": {},
   "outputs": [
    {
     "data": {
      "text/plain": [
       "3"
      ]
     },
     "execution_count": 20,
     "metadata": {},
     "output_type": "execute_result"
    }
   ],
   "source": [
    "len([1,2,3])"
   ]
  },
  {
   "cell_type": "code",
   "execution_count": 23,
   "id": "83ee5f37",
   "metadata": {},
   "outputs": [
    {
     "data": {
      "text/plain": [
       "8"
      ]
     },
     "execution_count": 23,
     "metadata": {},
     "output_type": "execute_result"
    }
   ],
   "source": [
    "len(nu_lista)"
   ]
  },
  {
   "cell_type": "markdown",
   "id": "466bbda5",
   "metadata": {},
   "source": [
    "#### Podemos comprobar si algun valor existe dentro de una lista a traves del termino *in"
   ]
  },
  {
   "cell_type": "code",
   "execution_count": 24,
   "id": "b10e278f",
   "metadata": {},
   "outputs": [
    {
     "data": {
      "text/plain": [
       "True"
      ]
     },
     "execution_count": 24,
     "metadata": {},
     "output_type": "execute_result"
    }
   ],
   "source": [
    "3 in [1, 2, 3]"
   ]
  },
  {
   "cell_type": "code",
   "execution_count": 25,
   "id": "f253ac0a",
   "metadata": {},
   "outputs": [
    {
     "data": {
      "text/plain": [
       "True"
      ]
     },
     "execution_count": 25,
     "metadata": {},
     "output_type": "execute_result"
    }
   ],
   "source": [
    "'Veintidos' in nu_lista"
   ]
  },
  {
   "cell_type": "markdown",
   "id": "afa2385d",
   "metadata": {},
   "source": [
    "#### Podemos actualizar varios elementos de una lista utilizando el slicing."
   ]
  },
  {
   "cell_type": "code",
   "execution_count": 26,
   "id": "f01094bc",
   "metadata": {},
   "outputs": [
    {
     "data": {
      "text/plain": [
       "['Cero', 'Dos', 'Cuatro', 'Seis', 8, 'Veinte', 'Veintidos', 'Veinticuatro']"
      ]
     },
     "execution_count": 26,
     "metadata": {},
     "output_type": "execute_result"
    }
   ],
   "source": [
    "nu_lista[:4] = ['Cero', 'Dos', 'Cuatro','Seis']\n",
    "nu_lista"
   ]
  },
  {
   "cell_type": "markdown",
   "id": "51d3da52",
   "metadata": {},
   "source": [
    "#### Tambien podemos trabajar con listas anidadas, asignando listas como valores de una lista."
   ]
  },
  {
   "cell_type": "code",
   "execution_count": 27,
   "id": "67c1cd10",
   "metadata": {},
   "outputs": [
    {
     "data": {
      "text/plain": [
       "[[1, 2, 3], [4, 5, 6], [7, 8, 9]]"
      ]
     },
     "execution_count": 27,
     "metadata": {},
     "output_type": "execute_result"
    }
   ],
   "source": [
    "fila_1 = [1,2,3]\n",
    "fila_2 = [4,5,6]\n",
    "fila_3 = [7,8,9]\n",
    "matriz = [fila_1, fila_2, fila_3]\n",
    "matriz"
   ]
  },
  {
   "cell_type": "code",
   "execution_count": 28,
   "id": "b786c1d6",
   "metadata": {},
   "outputs": [
    {
     "data": {
      "text/plain": [
       "[1, 2, 3]"
      ]
     },
     "execution_count": 28,
     "metadata": {},
     "output_type": "execute_result"
    }
   ],
   "source": [
    "matriz[0]"
   ]
  },
  {
   "cell_type": "code",
   "execution_count": 29,
   "id": "1769256e",
   "metadata": {},
   "outputs": [
    {
     "data": {
      "text/plain": [
       "True"
      ]
     },
     "execution_count": 29,
     "metadata": {},
     "output_type": "execute_result"
    }
   ],
   "source": [
    "matriz[0] == fila_1"
   ]
  },
  {
   "cell_type": "code",
   "execution_count": 30,
   "id": "68ba9a43",
   "metadata": {},
   "outputs": [
    {
     "data": {
      "text/plain": [
       "2"
      ]
     },
     "execution_count": 30,
     "metadata": {},
     "output_type": "execute_result"
    }
   ],
   "source": [
    "matriz[0][1]"
   ]
  },
  {
   "cell_type": "code",
   "execution_count": 31,
   "id": "ed3c5e01",
   "metadata": {},
   "outputs": [
    {
     "data": {
      "text/plain": [
       "[2, 3]"
      ]
     },
     "execution_count": 31,
     "metadata": {},
     "output_type": "execute_result"
    }
   ],
   "source": [
    "matriz[0][1:]"
   ]
  },
  {
   "cell_type": "code",
   "execution_count": null,
   "id": "a82c3976",
   "metadata": {},
   "outputs": [],
   "source": []
  }
 ],
 "metadata": {
  "kernelspec": {
   "display_name": "Python 3",
   "language": "python",
   "name": "python3"
  },
  "language_info": {
   "codemirror_mode": {
    "name": "ipython",
    "version": 3
   },
   "file_extension": ".py",
   "mimetype": "text/x-python",
   "name": "python",
   "nbconvert_exporter": "python",
   "pygments_lexer": "ipython3",
   "version": "3.8.8"
  }
 },
 "nbformat": 4,
 "nbformat_minor": 5
}
